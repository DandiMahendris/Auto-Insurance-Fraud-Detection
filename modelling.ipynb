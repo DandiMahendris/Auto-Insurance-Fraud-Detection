{
 "cells": [
  {
   "cell_type": "markdown",
   "metadata": {},
   "source": [
    "## 1. Load Required Libraries"
   ]
  },
  {
   "cell_type": "code",
   "execution_count": 3,
   "metadata": {},
   "outputs": [],
   "source": [
    "import src.util as util\n",
    "import numpy as np\n",
    "import pandas as pd\n",
    "import matplotlib.pyplot as plt\n",
    "import copy\n",
    "import hashlib\n",
    "import json\n",
    "\n",
    "from sklearn.dummy import DummyClassifier\n",
    "from sklearn.neighbors import KNeighborsClassifier\n",
    "from sklearn.tree import DecisionTreeClassifier\n",
    "from sklearn.linear_model import LogisticRegression, RidgeClassifier\n",
    "from sklearn.svm import SVC\n",
    "from sklearn.ensemble import RandomForestClassifier, AdaBoostClassifier, GradientBoostingClassifier\n",
    "from xgboost import XGBClassifier\n",
    "from sklearn.discriminant_analysis import QuadraticDiscriminantAnalysis\n",
    "from sklearn.naive_bayes import GaussianNB\n",
    "\n",
    "from sklearn.model_selection import GridSearchCV, RandomizedSearchCV\n",
    "from sklearn import tree\n",
    "from sklearn.metrics import classification_report, confusion_matrix, accuracy_score, roc_curve, auc, ConfusionMatrixDisplay\n",
    "from sklearn.utils import class_weight\n",
    "from sklearn.utils.class_weight import compute_class_weight"
   ]
  },
  {
   "cell_type": "markdown",
   "metadata": {},
   "source": [
    "## 2. Load configuration file"
   ]
  },
  {
   "cell_type": "code",
   "execution_count": 4,
   "metadata": {},
   "outputs": [],
   "source": [
    "config_data = util.load_config()"
   ]
  },
  {
   "cell_type": "markdown",
   "metadata": {},
   "source": [
    "## Load Train and Valid set"
   ]
  },
  {
   "cell_type": "code",
   "execution_count": 5,
   "metadata": {},
   "outputs": [],
   "source": [
    "## Load function to call dataset\n",
    "def load_train_clean(params: dict) -> pd.DataFrame:\n",
    "    x_train = util.pickle_load(params[\"train_set_clean\"][0])\n",
    "    y_train = util.pickle_load(params[\"train_set_clean\"][1])\n",
    "\n",
    "    return x_train, y_train\n",
    "\n",
    "def load_valid_clean(params:dict) -> pd.DataFrame:\n",
    "    x_valid = util.pickle_load(params[\"valid_set_clean\"][0])\n",
    "    y_valid = util.pickle_load(params[\"valid_set_clean\"][1])\n",
    "\n",
    "    return x_valid, y_valid\n",
    "\n",
    "def load_test_clean(params: dict) -> pd.DataFrame:\n",
    "    x_test = util.pickle_load(params[\"test_set_clean\"][0])\n",
    "    y_test = util.pickle_load(params[\"test_set_clean\"][1])\n",
    "\n",
    "    return x_test, y_test"
   ]
  },
  {
   "cell_type": "code",
   "execution_count": 6,
   "metadata": {},
   "outputs": [],
   "source": [
    "x_train, y_train = load_train_clean(config_data)\n",
    "x_valid, y_valid = load_valid_clean(config_data)\n",
    "x_test, y_test = load_test_clean(config_data)"
   ]
  },
  {
   "cell_type": "markdown",
   "metadata": {},
   "source": [
    "# 3. Fitting Model"
   ]
  },
  {
   "cell_type": "markdown",
   "metadata": {},
   "source": [
    "## 3.1 Baseline Model"
   ]
  },
  {
   "cell_type": "code",
   "execution_count": 5,
   "metadata": {},
   "outputs": [],
   "source": [
    "def Baseline_model():\n",
    "    dummy_clf = DummyClassifier(strategy='stratified')\n",
    "\n",
    "    dummy_clf.fit(x_train[\"nonbalance\"], y_train[\"nonbalance\"])\n",
    "\n",
    "    y_pred = dummy_clf.predict(x_train[\"nonbalance\"])\n",
    "\n",
    "    report = classification_report(y_true = y_train[\"nonbalance\"],\n",
    "                                    y_pred = y_pred,\n",
    "                                    output_dict = True)\n",
    "    report = pd.DataFrame(report)\n",
    "    return report"
   ]
  },
  {
   "cell_type": "code",
   "execution_count": 6,
   "metadata": {},
   "outputs": [
    {
     "data": {
      "text/plain": [
       "0.5134477632112447"
      ]
     },
     "execution_count": 6,
     "metadata": {},
     "output_type": "execute_result"
    }
   ],
   "source": [
    "## Show the baseline model of raw dataset\n",
    "report = Baseline_model()\n",
    "\n",
    "report[\"macro avg\"][\"f1-score\"]"
   ]
  },
  {
   "cell_type": "markdown",
   "metadata": {},
   "source": [
    "## 3.2 Weight Model"
   ]
  },
  {
   "cell_type": "code",
   "execution_count": 7,
   "metadata": {},
   "outputs": [],
   "source": [
    "def add_weight():\n",
    "    sklearn_weight = compute_class_weight(class_weight = 'balanced', \n",
    "                                            classes = np.unique(y_train[\"nonbalance\"]), \n",
    "                                            y = y_train[\"nonbalance\"])\n",
    "    sklearn_weight = dict(zip(np.unique(y_train[\"nonbalance\"]), sklearn_weight))\n",
    "\n",
    "    util.pickle_dump(sklearn_weight, config_data['model_params_path'][0])\n",
    "\n",
    "    return sklearn_weight"
   ]
  },
  {
   "cell_type": "code",
   "execution_count": 8,
   "metadata": {},
   "outputs": [
    {
     "data": {
      "text/plain": [
       "{0: 0.6644518272425249, 1: 2.0202020202020203}"
      ]
     },
     "execution_count": 8,
     "metadata": {},
     "output_type": "execute_result"
    }
   ],
   "source": [
    "sklearn_weight = add_weight()\n",
    "sklearn_weight"
   ]
  },
  {
   "cell_type": "markdown",
   "metadata": {},
   "source": [
    "## 3.3 Baseline Model for ML model"
   ]
  },
  {
   "cell_type": "markdown",
   "metadata": {},
   "source": [
    "### 3.3.1 Create Training Log"
   ]
  },
  {
   "cell_type": "code",
   "execution_count": 9,
   "metadata": {},
   "outputs": [],
   "source": [
    "## Create Training log function\n",
    "def training_log_template() -> dict:\n",
    "    # Debug message\n",
    "    util.print_debug(\"creating training log template.\")\n",
    "\n",
    "    # Template of training log\n",
    "    logger = {\n",
    "        \"model_name\" : [],\n",
    "        \"model_uid\" : [],\n",
    "        \"training_time\" : [],\n",
    "        \"training_date\" : [],\n",
    "        \"performance\" : [],\n",
    "        \"f1_score_avg\" : [],\n",
    "         \"data_configurations\" : [],\n",
    "    }\n",
    "\n",
    "    # Debug message\n",
    "    util.print_debug(\"Training log template created.\")\n",
    "\n",
    "    # Return training log template\n",
    "    return logger"
   ]
  },
  {
   "cell_type": "code",
   "execution_count": 10,
   "metadata": {},
   "outputs": [],
   "source": [
    "## Create training log updater\n",
    "def training_log_updater(current_log: dict, params: dict) -> list:\n",
    "    # Create copy of current log\n",
    "    current_log = copy.deepcopy(current_log)\n",
    "\n",
    "    # Path for training log file\n",
    "    log_path = params[\"training_log_path\"]\n",
    "\n",
    "    # Try to load training log file\n",
    "    try:\n",
    "        with open(log_path, \"r\") as file:\n",
    "            last_log = json.load(file)\n",
    "        file.close()\n",
    "\n",
    "    # If file not found, create a new one\n",
    "    except FileNotFoundError as fe:\n",
    "        with open(log_path, \"w\") as file:\n",
    "            file.write(\"[]\")\n",
    "        file.close()\n",
    "\n",
    "        with open(log_path, \"r\") as file:\n",
    "            last_log = json.load(file)\n",
    "        file.close()\n",
    "    \n",
    "    # Add current log to previous log\n",
    "    last_log.append(current_log)\n",
    "\n",
    "    # Save updated log\n",
    "    with open(log_path, \"w\") as file:\n",
    "        json.dump(last_log, file)\n",
    "        file.close()\n",
    "\n",
    "    # Return log\n",
    "    return last_log\n"
   ]
  },
  {
   "cell_type": "markdown",
   "metadata": {},
   "source": [
    "### 3.3.2 Create Model Object of Multiple ML Model"
   ]
  },
  {
   "cell_type": "code",
   "execution_count": 11,
   "metadata": {},
   "outputs": [],
   "source": [
    "## Create model object of machine learning model\n",
    "def create_model_object(params: dict) -> list:\n",
    "    # Debug message\n",
    "    util.print_debug(\"Creating model objects.\")\n",
    "\n",
    "    # Create model objects\n",
    "    baseline_knn = KNeighborsClassifier()\n",
    "    baseline_dt = DecisionTreeClassifier()\n",
    "    baseline_logreg = LogisticRegression()\n",
    "    baseline_svm = SVC()\n",
    "    baseline_rforest = RandomForestClassifier()\n",
    "    baseline_ada = AdaBoostClassifier()\n",
    "    baseline_grad = GradientBoostingClassifier()\n",
    "    baseline_xgb = XGBClassifier()\n",
    "    baseline_qda = QuadraticDiscriminantAnalysis()\n",
    "    baseline_gnb = GaussianNB()\n",
    "\n",
    "    # Create list of model\n",
    "    list_of_model = [\n",
    "        { \"model_name\": baseline_knn.__class__.__name__, \"model_object\": baseline_knn, \"model_uid\": \"\"},\n",
    "        { \"model_name\": baseline_dt.__class__.__name__, \"model_object\": baseline_dt, \"model_uid\": \"\"},\n",
    "        { \"model_name\": baseline_logreg.__class__.__name__, \"model_object\": baseline_logreg, \"model_uid\": \"\"},\n",
    "        { \"model_name\": baseline_svm.__class__.__name__, \"model_object\": baseline_svm, \"model_uid\": \"\"},\n",
    "        { \"model_name\": baseline_rforest.__class__.__name__, \"model_object\": baseline_rforest, \"model_uid\": \"\"},\n",
    "        { \"model_name\": baseline_ada.__class__.__name__, \"model_object\": baseline_ada, \"model_uid\": \"\"},\n",
    "        { \"model_name\": baseline_grad.__class__.__name__, \"model_object\": baseline_grad, \"model_uid\": \"\"},\n",
    "        { \"model_name\": baseline_xgb.__class__.__name__, \"model_object\": baseline_xgb, \"model_uid\": \"\"},\n",
    "        { \"model_name\": baseline_qda.__class__.__name__, \"model_object\": baseline_qda, \"model_uid\": \"\"},\n",
    "        { \"model_name\": baseline_gnb.__class__.__name__, \"model_object\": baseline_gnb, \"model_uid\": \"\"},\n",
    "    ]\n",
    "\n",
    "    # Debug message\n",
    "    util.print_debug(\"Model objects created.\")\n",
    "\n",
    "    # Return the list of model\n",
    "    return list_of_model"
   ]
  },
  {
   "cell_type": "markdown",
   "metadata": {},
   "source": [
    "### 3.3.3 Create Fitting Function"
   ]
  },
  {
   "cell_type": "code",
   "execution_count": 12,
   "metadata": {},
   "outputs": [],
   "source": [
    "def train_eval(configuration_model: str, params: dict, hyperparams_model: list = None):\n",
    "\n",
    "    # Variabel to store trained models\n",
    "    list_of_trained_model = dict()\n",
    "\n",
    "    # Create log template\n",
    "    training_log = training_log_template()\n",
    "\n",
    "    # Training for every data configuration\n",
    "    for config_data in x_train:\n",
    "        # Debug message\n",
    "        util.print_debug(\"Training model based on configuration data: {}\".format(config_data))\n",
    "\n",
    "        # Create model objects\n",
    "        if hyperparams_model == None:\n",
    "            list_of_model = create_model_object(params)\n",
    "        else:\n",
    "            list_of_model = copy.deepcopy(hyperparams_model)\n",
    "\n",
    "        # Variabel to store tained model\n",
    "        trained_model = list()\n",
    "\n",
    "        # Load train data based on its configuration\n",
    "        x_train_data = x_train[config_data]\n",
    "        y_train_data = y_train[config_data]\n",
    "\n",
    "        # Train each model by current dataset configuration\n",
    "        for model in list_of_model:\n",
    "            # Debug message\n",
    "            util.print_debug(\"Training model: {}\".format(model[\"model_name\"]))\n",
    "\n",
    "            # Training\n",
    "            training_time = util.time_stamp()\n",
    "            model[\"model_object\"].fit(x_train_data, y_train_data)\n",
    "            training_time = (util.time_stamp() - training_time).total_seconds()\n",
    "\n",
    "            # Debug message\n",
    "            util.print_debug(\"Evalutaing model: {}\".format(model[\"model_name\"]))\n",
    "\n",
    "            # Evaluation\n",
    "            y_predict = model[\"model_object\"].predict(x_valid)\n",
    "            performance = classification_report(y_valid, y_predict, output_dict = True)\n",
    "\n",
    "            # Debug message\n",
    "            util.print_debug(\"Logging: {}\".format(model[\"model_name\"]))\n",
    "\n",
    "            # Create UID\n",
    "            uid = hashlib.md5(str(training_time).encode()).hexdigest()\n",
    "\n",
    "            # Assign model's UID\n",
    "            model[\"model_uid\"] = uid\n",
    "\n",
    "            # Create training log data\n",
    "            training_log[\"model_name\"].append(\"{}-{}-{}\".format(configuration_model, config_data, model[\"model_name\"]))\n",
    "            training_log[\"model_uid\"].append(uid)\n",
    "            training_log[\"training_time\"].append(training_time)\n",
    "            training_log[\"training_date\"].append(util.time_stamp())\n",
    "            training_log[\"performance\"].append(performance)\n",
    "            training_log[\"f1_score_avg\"].append(performance[\"weighted avg\"][\"f1-score\"])\n",
    "            training_log[\"data_configurations\"].append(config_data)\n",
    "\n",
    "            # Collect current trained model\n",
    "            trained_model.append(copy.deepcopy(model))\n",
    "\n",
    "            # Debug message\n",
    "            util.print_debug(\"Model {} has been trained for configuration data {}.\".format(model[\"model_name\"], config_data))\n",
    "        \n",
    "        # Collect current trained list of model\n",
    "        list_of_trained_model[config_data] = copy.deepcopy(trained_model)\n",
    "    \n",
    "    # Debug message\n",
    "    util.print_debug(\"All combination models and configuration data has been trained.\")\n",
    "    \n",
    "    # Return list trained model\n",
    "    return list_of_trained_model, training_log"
   ]
  },
  {
   "cell_type": "markdown",
   "metadata": {},
   "source": [
    "### 3.3.4 Training Model"
   ]
  },
  {
   "cell_type": "code",
   "execution_count": 13,
   "metadata": {
    "scrolled": true
   },
   "outputs": [
    {
     "name": "stdout",
     "output_type": "stream",
     "text": [
      "2023-01-07 22:00:17.281942 creating training log template.\n",
      "2023-01-07 22:00:17.281942 Training log template created.\n",
      "2023-01-07 22:00:17.282941 Training model based on configuration data: nonbalance\n",
      "2023-01-07 22:00:17.282941 Creating model objects.\n",
      "2023-01-07 22:00:17.282941 Model objects created.\n",
      "2023-01-07 22:00:17.283941 Training model: KNeighborsClassifier\n",
      "2023-01-07 22:00:17.294944 Evalutaing model: KNeighborsClassifier\n",
      "2023-01-07 22:00:17.361942 Logging: KNeighborsClassifier\n",
      "2023-01-07 22:00:17.364946 Model KNeighborsClassifier has been trained for configuration data nonbalance.\n",
      "2023-01-07 22:00:17.364946 Training model: DecisionTreeClassifier\n",
      "2023-01-07 22:00:17.416940 Evalutaing model: DecisionTreeClassifier\n",
      "2023-01-07 22:00:17.440940 Logging: DecisionTreeClassifier\n",
      "2023-01-07 22:00:17.442941 Model DecisionTreeClassifier has been trained for configuration data nonbalance.\n",
      "2023-01-07 22:00:17.443940 Training model: LogisticRegression\n",
      "2023-01-07 22:00:17.538941 Evalutaing model: LogisticRegression\n",
      "2023-01-07 22:00:17.559940 Logging: LogisticRegression\n",
      "2023-01-07 22:00:17.560940 Model LogisticRegression has been trained for configuration data nonbalance.\n",
      "2023-01-07 22:00:17.560940 Training model: SVC\n",
      "2023-01-07 22:00:17.734121 Evalutaing model: SVC\n",
      "2023-01-07 22:00:17.800550 Logging: SVC\n",
      "2023-01-07 22:00:17.802550 Model SVC has been trained for configuration data nonbalance.\n",
      "2023-01-07 22:00:17.803550 Training model: RandomForestClassifier\n",
      "2023-01-07 22:00:18.453037 Evalutaing model: RandomForestClassifier\n",
      "2023-01-07 22:00:18.501973 Logging: RandomForestClassifier\n",
      "2023-01-07 22:00:18.545578 Model RandomForestClassifier has been trained for configuration data nonbalance.\n",
      "2023-01-07 22:00:18.545578 Training model: AdaBoostClassifier\n",
      "2023-01-07 22:00:18.964123 Evalutaing model: AdaBoostClassifier\n",
      "2023-01-07 22:00:19.004747 Logging: AdaBoostClassifier\n",
      "2023-01-07 22:00:19.023313 Model AdaBoostClassifier has been trained for configuration data nonbalance.\n",
      "2023-01-07 22:00:19.023313 Training model: GradientBoostingClassifier\n",
      "2023-01-07 22:00:19.953032 Evalutaing model: GradientBoostingClassifier\n",
      "2023-01-07 22:00:19.969393 Logging: GradientBoostingClassifier\n",
      "2023-01-07 22:00:20.001737 Model GradientBoostingClassifier has been trained for configuration data nonbalance.\n",
      "2023-01-07 22:00:20.001737 Training model: XGBClassifier\n",
      "2023-01-07 22:00:21.550714 Evalutaing model: XGBClassifier\n",
      "2023-01-07 22:00:21.584220 Logging: XGBClassifier\n",
      "2023-01-07 22:00:21.598792 Model XGBClassifier has been trained for configuration data nonbalance.\n",
      "2023-01-07 22:00:21.598792 Training model: QuadraticDiscriminantAnalysis\n",
      "2023-01-07 22:00:21.648841 Evalutaing model: QuadraticDiscriminantAnalysis\n",
      "2023-01-07 22:00:21.669840 Logging: QuadraticDiscriminantAnalysis\n",
      "2023-01-07 22:00:21.671840 Model QuadraticDiscriminantAnalysis has been trained for configuration data nonbalance.\n",
      "2023-01-07 22:00:21.671840 Training model: GaussianNB\n",
      "2023-01-07 22:00:21.684840 Evalutaing model: GaussianNB\n",
      "2023-01-07 22:00:21.704840 Logging: GaussianNB\n",
      "2023-01-07 22:00:21.705383 Model GaussianNB has been trained for configuration data nonbalance.\n"
     ]
    },
    {
     "name": "stderr",
     "output_type": "stream",
     "text": [
      "C:\\Users\\ASUS\\anaconda3\\lib\\site-packages\\sklearn\\discriminant_analysis.py:878: UserWarning: Variables are collinear\n",
      "  warnings.warn(\"Variables are collinear\")\n"
     ]
    },
    {
     "name": "stdout",
     "output_type": "stream",
     "text": [
      "2023-01-07 22:00:21.825663 Training model based on configuration data: smote\n",
      "2023-01-07 22:00:21.825663 Creating model objects.\n",
      "2023-01-07 22:00:21.827663 Model objects created.\n",
      "2023-01-07 22:00:21.834664 Training model: KNeighborsClassifier\n",
      "2023-01-07 22:00:21.863666 Evalutaing model: KNeighborsClassifier\n",
      "2023-01-07 22:00:21.904182 Logging: KNeighborsClassifier\n",
      "2023-01-07 22:00:21.906182 Model KNeighborsClassifier has been trained for configuration data smote.\n",
      "2023-01-07 22:00:21.906182 Training model: DecisionTreeClassifier\n",
      "2023-01-07 22:00:22.000530 Evalutaing model: DecisionTreeClassifier\n",
      "2023-01-07 22:00:22.021800 Logging: DecisionTreeClassifier\n",
      "2023-01-07 22:00:22.023799 Model DecisionTreeClassifier has been trained for configuration data smote.\n",
      "2023-01-07 22:00:22.023799 Training model: LogisticRegression\n",
      "2023-01-07 22:00:22.094664 Evalutaing model: LogisticRegression\n",
      "2023-01-07 22:00:22.115754 Logging: LogisticRegression\n",
      "2023-01-07 22:00:22.116754 Model LogisticRegression has been trained for configuration data smote.\n",
      "2023-01-07 22:00:22.116754 Training model: SVC\n",
      "2023-01-07 22:00:22.602112 Evalutaing model: SVC\n",
      "2023-01-07 22:00:22.710114 Logging: SVC\n",
      "2023-01-07 22:00:22.714114 Model SVC has been trained for configuration data smote.\n",
      "2023-01-07 22:00:22.714114 Training model: RandomForestClassifier\n",
      "2023-01-07 22:00:23.927570 Evalutaing model: RandomForestClassifier\n",
      "2023-01-07 22:00:23.984573 Logging: RandomForestClassifier\n",
      "2023-01-07 22:00:24.022570 Model RandomForestClassifier has been trained for configuration data smote.\n",
      "2023-01-07 22:00:24.022570 Training model: AdaBoostClassifier\n",
      "2023-01-07 22:00:24.825006 Evalutaing model: AdaBoostClassifier\n",
      "2023-01-07 22:00:24.871004 Logging: AdaBoostClassifier\n",
      "2023-01-07 22:00:24.893274 Model AdaBoostClassifier has been trained for configuration data smote.\n",
      "2023-01-07 22:00:24.893274 Training model: GradientBoostingClassifier\n",
      "2023-01-07 22:00:27.942762 Evalutaing model: GradientBoostingClassifier\n",
      "2023-01-07 22:00:27.982760 Logging: GradientBoostingClassifier\n",
      "2023-01-07 22:00:28.060762 Model GradientBoostingClassifier has been trained for configuration data smote.\n",
      "2023-01-07 22:00:28.062764 Training model: XGBClassifier\n",
      "2023-01-07 22:00:30.879054 Evalutaing model: XGBClassifier\n",
      "2023-01-07 22:00:30.928055 Logging: XGBClassifier\n",
      "2023-01-07 22:00:30.952052 Model XGBClassifier has been trained for configuration data smote.\n",
      "2023-01-07 22:00:30.954053 Training model: QuadraticDiscriminantAnalysis\n",
      "2023-01-07 22:00:31.023052 Evalutaing model: QuadraticDiscriminantAnalysis\n",
      "2023-01-07 22:00:31.047054 Logging: QuadraticDiscriminantAnalysis\n",
      "2023-01-07 22:00:31.049051 Model QuadraticDiscriminantAnalysis has been trained for configuration data smote.\n",
      "2023-01-07 22:00:31.050052 Training model: GaussianNB\n",
      "2023-01-07 22:00:31.076055 Evalutaing model: GaussianNB\n"
     ]
    },
    {
     "name": "stderr",
     "output_type": "stream",
     "text": [
      "C:\\Users\\ASUS\\anaconda3\\lib\\site-packages\\sklearn\\discriminant_analysis.py:878: UserWarning: Variables are collinear\n",
      "  warnings.warn(\"Variables are collinear\")\n"
     ]
    },
    {
     "name": "stdout",
     "output_type": "stream",
     "text": [
      "2023-01-07 22:00:31.109055 Logging: GaussianNB\n",
      "2023-01-07 22:00:31.110054 Model GaussianNB has been trained for configuration data smote.\n",
      "2023-01-07 22:00:31.383053 Training model based on configuration data: oversampling\n",
      "2023-01-07 22:00:31.383053 Creating model objects.\n",
      "2023-01-07 22:00:31.383053 Model objects created.\n",
      "2023-01-07 22:00:31.393051 Training model: KNeighborsClassifier\n",
      "2023-01-07 22:00:31.422052 Evalutaing model: KNeighborsClassifier\n",
      "2023-01-07 22:00:31.463054 Logging: KNeighborsClassifier\n",
      "2023-01-07 22:00:31.466053 Model KNeighborsClassifier has been trained for configuration data oversampling.\n",
      "2023-01-07 22:00:31.466053 Training model: DecisionTreeClassifier\n",
      "2023-01-07 22:00:31.540769 Evalutaing model: DecisionTreeClassifier\n",
      "2023-01-07 22:00:31.561648 Logging: DecisionTreeClassifier\n",
      "2023-01-07 22:00:31.563646 Model DecisionTreeClassifier has been trained for configuration data oversampling.\n",
      "2023-01-07 22:00:31.563646 Training model: LogisticRegression\n",
      "2023-01-07 22:00:31.653586 Evalutaing model: LogisticRegression\n",
      "2023-01-07 22:00:31.678080 Logging: LogisticRegression\n",
      "2023-01-07 22:00:31.680995 Model LogisticRegression has been trained for configuration data oversampling.\n",
      "2023-01-07 22:00:31.681342 Training model: SVC\n",
      "2023-01-07 22:00:32.151258 Evalutaing model: SVC\n",
      "2023-01-07 22:00:32.307696 Logging: SVC\n",
      "2023-01-07 22:00:32.311697 Model SVC has been trained for configuration data oversampling.\n",
      "2023-01-07 22:00:32.312695 Training model: RandomForestClassifier\n",
      "2023-01-07 22:00:34.240169 Evalutaing model: RandomForestClassifier\n",
      "2023-01-07 22:00:34.476172 Logging: RandomForestClassifier\n",
      "2023-01-07 22:00:34.703171 Model RandomForestClassifier has been trained for configuration data oversampling.\n",
      "2023-01-07 22:00:34.703171 Training model: AdaBoostClassifier\n",
      "2023-01-07 22:00:36.785279 Evalutaing model: AdaBoostClassifier\n",
      "2023-01-07 22:00:36.972277 Logging: AdaBoostClassifier\n",
      "2023-01-07 22:00:37.008275 Model AdaBoostClassifier has been trained for configuration data oversampling.\n",
      "2023-01-07 22:00:37.009275 Training model: GradientBoostingClassifier\n",
      "2023-01-07 22:00:38.847631 Evalutaing model: GradientBoostingClassifier\n",
      "2023-01-07 22:00:38.864576 Logging: GradientBoostingClassifier\n",
      "2023-01-07 22:00:38.901572 Model GradientBoostingClassifier has been trained for configuration data oversampling.\n",
      "2023-01-07 22:00:38.903572 Training model: XGBClassifier\n",
      "2023-01-07 22:00:42.590566 Evalutaing model: XGBClassifier\n",
      "2023-01-07 22:00:42.628567 Logging: XGBClassifier\n",
      "2023-01-07 22:00:42.644567 Model XGBClassifier has been trained for configuration data oversampling.\n",
      "2023-01-07 22:00:42.644567 Training model: QuadraticDiscriminantAnalysis\n",
      "2023-01-07 22:00:42.696569 Evalutaing model: QuadraticDiscriminantAnalysis\n",
      "2023-01-07 22:00:42.717566 Logging: QuadraticDiscriminantAnalysis\n",
      "2023-01-07 22:00:42.718566 Model QuadraticDiscriminantAnalysis has been trained for configuration data oversampling.\n",
      "2023-01-07 22:00:42.718566 Training model: GaussianNB\n",
      "2023-01-07 22:00:42.735567 Evalutaing model: GaussianNB\n",
      "2023-01-07 22:00:42.758510 Logging: GaussianNB\n",
      "2023-01-07 22:00:42.759509 Model GaussianNB has been trained for configuration data oversampling.\n"
     ]
    },
    {
     "name": "stderr",
     "output_type": "stream",
     "text": [
      "C:\\Users\\ASUS\\anaconda3\\lib\\site-packages\\sklearn\\discriminant_analysis.py:878: UserWarning: Variables are collinear\n",
      "  warnings.warn(\"Variables are collinear\")\n"
     ]
    },
    {
     "name": "stdout",
     "output_type": "stream",
     "text": [
      "2023-01-07 22:00:42.886695 All combination models and configuration data has been trained.\n"
     ]
    }
   ],
   "source": [
    "list_of_trained_model, training_log = train_eval(\"\", config_data)"
   ]
  },
  {
   "cell_type": "markdown",
   "metadata": {},
   "source": [
    "### 3.3.5 Create function to save production model"
   ]
  },
  {
   "cell_type": "code",
   "execution_count": 14,
   "metadata": {},
   "outputs": [],
   "source": [
    "def get_production_model(list_of_model, training_log, params):\n",
    "    # Create copy list of model\n",
    "    list_of_model = copy.deepcopy(list_of_model)\n",
    "    \n",
    "    # Debug message\n",
    "    util.print_debug(\"Choosing model by metrics score.\")\n",
    "\n",
    "    # Create required predefined variabel\n",
    "    curr_production_model = None\n",
    "    prev_production_model = None\n",
    "    production_model_log = None\n",
    "\n",
    "    # Debug message\n",
    "    util.print_debug(\"Converting training log type of data from dict to dataframe.\")\n",
    "\n",
    "    # Convert dictionary to pandas for easy operation\n",
    "    training_log = pd.DataFrame(copy.deepcopy(training_log))\n",
    "\n",
    "    # Debug message\n",
    "    util.print_debug(\"Trying to load previous production model.\")\n",
    "\n",
    "    # Check if there is a previous production model\n",
    "    try:\n",
    "        prev_production_model = util.pickle_load(params[\"production_model_path\"])\n",
    "        util.print_debug(\"Previous production model loaded.\")\n",
    "\n",
    "    except FileNotFoundError as fe:\n",
    "        util.print_debug(\"No previous production model detected, choosing best model only from current trained model.\")\n",
    "\n",
    "    # If previous production model detected:\n",
    "    if prev_production_model != None:\n",
    "        # Debug message\n",
    "        util.print_debug(\"Loading validation data.\")\n",
    "        x_valid, y_valid\n",
    "        \n",
    "        # Debug message\n",
    "        util.print_debug(\"Checking compatibilty previous production model's input with current train data's features.\")\n",
    "\n",
    "        # Check list features of previous production model and current dataset\n",
    "        production_model_features = set(prev_production_model[\"model_data\"][\"model_object\"].feature_names_in_)\n",
    "        current_dataset_features = set(x_valid.columns)\n",
    "        number_of_different_features = len((production_model_features - current_dataset_features) | (current_dataset_features - production_model_features))\n",
    "\n",
    "        # If feature matched:\n",
    "        if number_of_different_features == 0:\n",
    "            # Debug message\n",
    "            util.print_debug(\"Features compatible.\")\n",
    "\n",
    "            # Debug message\n",
    "            util.print_debug(\"Reassesing previous model performance using current validation data.\")\n",
    "\n",
    "            # Re-predict previous production model to provide valid metrics compared to other current models\n",
    "            y_pred = prev_production_model[\"model_data\"][\"model_object\"].predict(x_valid)\n",
    "\n",
    "            # Re-asses prediction result\n",
    "            eval_res = classification_report(y_valid, y_pred, output_dict = True)\n",
    "\n",
    "            # Debug message\n",
    "            util.print_debug(\"Assessing complete.\")\n",
    "\n",
    "            # Debug message\n",
    "            util.print_debug(\"Storing new metrics data to previous model structure.\")\n",
    "\n",
    "            # Update their performance log\n",
    "            prev_production_model[\"model_log\"][\"performance\"] = eval_res\n",
    "            prev_production_model[\"model_log\"][\"f1_score_avg\"] = eval_res[\"weighted avg\"][\"recall\"]\n",
    "\n",
    "            # Debug message\n",
    "            util.print_debug(\"Adding previous model data to current training log and list of model\")\n",
    "\n",
    "            # Added previous production model log to current logs to compere who has the greatest f1 score\n",
    "            training_log = pd.concat([training_log, pd.DataFrame([prev_production_model[\"model_log\"]])])\n",
    "\n",
    "            # Added previous production model to current list of models to choose from if it has the greatest f1 score\n",
    "            list_of_model[\"prev_production_model\"] = [copy.deepcopy(prev_production_model[\"model_data\"])]\n",
    "        else:\n",
    "            # To indicate that we are not using previous production model\n",
    "            prev_production_model = None\n",
    "\n",
    "            # Debug message\n",
    "            util.print_debug(\"Different features between production model with current dataset is detected, ignoring production dataset.\")\n",
    "\n",
    "    # Debug message\n",
    "    util.print_debug(\"Sorting training log by f1 macro avg and training time.\")\n",
    "\n",
    "    # Sort training log by f1 score macro avg and trining time\n",
    "    best_model_log = training_log.sort_values([\"f1_score_avg\", \"training_time\"], ascending = [False, True]).iloc[0]\n",
    "    \n",
    "    # Debug message\n",
    "    util.print_debug(\"Searching model data based on sorted training log.\")\n",
    "\n",
    "    # Get model object with greatest f1 score macro avg by using UID\n",
    "    for configuration_data in list_of_model:\n",
    "        for model_data in list_of_model[configuration_data]:\n",
    "            if model_data[\"model_uid\"] == best_model_log[\"model_uid\"]:\n",
    "                curr_production_model = dict()\n",
    "                curr_production_model[\"model_data\"] = copy.deepcopy(model_data)\n",
    "                curr_production_model[\"model_log\"] = copy.deepcopy(best_model_log.to_dict())\n",
    "                curr_production_model[\"model_log\"][\"model_name\"] = \"Production-{}\".format(curr_production_model[\"model_data\"][\"model_name\"])\n",
    "                curr_production_model[\"model_log\"][\"training_date\"] = str(curr_production_model[\"model_log\"][\"training_date\"])\n",
    "                production_model_log = training_log_updater(curr_production_model[\"model_log\"], params)\n",
    "                break\n",
    "    \n",
    "    # In case UID not found\n",
    "    if curr_production_model == None:\n",
    "        raise RuntimeError(\"The best model not found in your list of model.\")\n",
    "    \n",
    "    # Debug message\n",
    "    util.print_debug(\"Model chosen.\")\n",
    "\n",
    "    # Dump chosen production model\n",
    "    util.pickle_dump(curr_production_model, params[\"production_model_path\"])\n",
    "    \n",
    "    # Return current chosen production model, log of production models and current training log\n",
    "    return curr_production_model, production_model_log, training_log"
   ]
  },
  {
   "cell_type": "markdown",
   "metadata": {},
   "source": [
    "### 3.3.6 Save Best model and Update Training Logs"
   ]
  },
  {
   "cell_type": "code",
   "execution_count": 15,
   "metadata": {
    "scrolled": true
   },
   "outputs": [
    {
     "name": "stdout",
     "output_type": "stream",
     "text": [
      "2023-01-07 22:00:43.383530 Choosing model by metrics score.\n",
      "2023-01-07 22:00:43.383530 Converting training log type of data from dict to dataframe.\n",
      "2023-01-07 22:00:43.391982 Trying to load previous production model.\n",
      "2023-01-07 22:00:43.421635 Previous production model loaded.\n",
      "2023-01-07 22:00:43.422635 Loading validation data.\n",
      "2023-01-07 22:00:43.422635 Checking compatibilty previous production model's input with current train data's features.\n",
      "2023-01-07 22:00:43.422635 Features compatible.\n",
      "2023-01-07 22:00:43.422635 Reassesing previous model performance using current validation data.\n",
      "2023-01-07 22:00:43.448835 Assessing complete.\n",
      "2023-01-07 22:00:43.449838 Storing new metrics data to previous model structure.\n",
      "2023-01-07 22:00:43.449838 Adding previous model data to current training log and list of model\n",
      "2023-01-07 22:00:43.464590 Sorting training log by f1 macro avg and training time.\n",
      "2023-01-07 22:00:43.472909 Searching model data based on sorted training log.\n",
      "2023-01-07 22:00:43.507785 Model chosen.\n"
     ]
    }
   ],
   "source": [
    "model, production_model_log, training_logs = get_production_model(list_of_trained_model, training_log, config_data)"
   ]
  },
  {
   "cell_type": "markdown",
   "metadata": {},
   "source": [
    "## 3.3.7 BASELINE MODEL"
   ]
  },
  {
   "cell_type": "code",
   "execution_count": 16,
   "metadata": {
    "scrolled": true
   },
   "outputs": [
    {
     "data": {
      "text/html": [
       "<div>\n",
       "<style scoped>\n",
       "    .dataframe tbody tr th:only-of-type {\n",
       "        vertical-align: middle;\n",
       "    }\n",
       "\n",
       "    .dataframe tbody tr th {\n",
       "        vertical-align: top;\n",
       "    }\n",
       "\n",
       "    .dataframe thead th {\n",
       "        text-align: right;\n",
       "    }\n",
       "</style>\n",
       "<table border=\"1\" class=\"dataframe\">\n",
       "  <thead>\n",
       "    <tr style=\"text-align: right;\">\n",
       "      <th></th>\n",
       "      <th>model_name</th>\n",
       "      <th>performance</th>\n",
       "      <th>f1_score_avg</th>\n",
       "    </tr>\n",
       "  </thead>\n",
       "  <tbody>\n",
       "    <tr>\n",
       "      <th>0</th>\n",
       "      <td>Production-GradientBoostingClassifier</td>\n",
       "      <td>{'0': {'precision': 0.9672131147540983, 'recall': 0.7866666666666666, 'f1-score': 0.8676470588235293, 'support': 75}, '1': {'precision': 0.5897435897435898, 'recall': 0.92, 'f1-score': 0.71875, 'support': 25}, 'accuracy': 0.82, 'macro avg': {'precision': 0.7784783522488441, 'recall': 0.8533333333333333, 'f1-score': 0.7931985294117647, 'support': 100}, 'weighted avg': {'precision': 0.8728457335014713, 'recall': 0.82, 'f1-score': 0.830422794117647, 'support': 100}}</td>\n",
       "      <td>0.820000</td>\n",
       "    </tr>\n",
       "    <tr>\n",
       "      <th>26</th>\n",
       "      <td>-oversampling-GradientBoostingClassifier</td>\n",
       "      <td>{'0': {'precision': 0.9230769230769231, 'recall': 0.8, 'f1-score': 0.8571428571428571, 'support': 75}, '1': {'precision': 0.5714285714285714, 'recall': 0.8, 'f1-score': 0.6666666666666666, 'support': 25}, 'accuracy': 0.8, 'macro avg': {'precision': 0.7472527472527473, 'recall': 0.8, 'f1-score': 0.7619047619047619, 'support': 100}, 'weighted avg': {'precision': 0.8351648351648353, 'recall': 0.8, 'f1-score': 0.8095238095238093, 'support': 100}}</td>\n",
       "      <td>0.809524</td>\n",
       "    </tr>\n",
       "    <tr>\n",
       "      <th>6</th>\n",
       "      <td>-nonbalance-GradientBoostingClassifier</td>\n",
       "      <td>{'0': {'precision': 0.8767123287671232, 'recall': 0.8533333333333334, 'f1-score': 0.8648648648648648, 'support': 75}, '1': {'precision': 0.5925925925925926, 'recall': 0.64, 'f1-score': 0.6153846153846153, 'support': 25}, 'accuracy': 0.8, 'macro avg': {'precision': 0.7346524606798579, 'recall': 0.7466666666666667, 'f1-score': 0.74012474012474, 'support': 100}, 'weighted avg': {'precision': 0.8056823947234905, 'recall': 0.8, 'f1-score': 0.8024948024948024, 'support': 100}}</td>\n",
       "      <td>0.802495</td>\n",
       "    </tr>\n",
       "    <tr>\n",
       "      <th>17</th>\n",
       "      <td>-smote-XGBClassifier</td>\n",
       "      <td>{'0': {'precision': 0.8857142857142857, 'recall': 0.8266666666666667, 'f1-score': 0.8551724137931035, 'support': 75}, '1': {'precision': 0.5666666666666667, 'recall': 0.68, 'f1-score': 0.6181818181818183, 'support': 25}, 'accuracy': 0.79, 'macro avg': {'precision': 0.7261904761904762, 'recall': 0.7533333333333334, 'f1-score': 0.7366771159874609, 'support': 100}, 'weighted avg': {'precision': 0.805952380952381, 'recall': 0.79, 'f1-score': 0.7959247648902822, 'support': 100}}</td>\n",
       "      <td>0.795925</td>\n",
       "    </tr>\n",
       "    <tr>\n",
       "      <th>11</th>\n",
       "      <td>-smote-DecisionTreeClassifier</td>\n",
       "      <td>{'0': {'precision': 0.8840579710144928, 'recall': 0.8133333333333334, 'f1-score': 0.8472222222222223, 'support': 75}, '1': {'precision': 0.5483870967741935, 'recall': 0.68, 'f1-score': 0.6071428571428571, 'support': 25}, 'accuracy': 0.78, 'macro avg': {'precision': 0.7162225338943431, 'recall': 0.7466666666666667, 'f1-score': 0.7271825396825398, 'support': 100}, 'weighted avg': {'precision': 0.8001402524544179, 'recall': 0.78, 'f1-score': 0.787202380952381, 'support': 100}}</td>\n",
       "      <td>0.787202</td>\n",
       "    </tr>\n",
       "    <tr>\n",
       "      <th>16</th>\n",
       "      <td>-smote-GradientBoostingClassifier</td>\n",
       "      <td>{'0': {'precision': 0.8840579710144928, 'recall': 0.8133333333333334, 'f1-score': 0.8472222222222223, 'support': 75}, '1': {'precision': 0.5483870967741935, 'recall': 0.68, 'f1-score': 0.6071428571428571, 'support': 25}, 'accuracy': 0.78, 'macro avg': {'precision': 0.7162225338943431, 'recall': 0.7466666666666667, 'f1-score': 0.7271825396825398, 'support': 100}, 'weighted avg': {'precision': 0.8001402524544179, 'recall': 0.78, 'f1-score': 0.787202380952381, 'support': 100}}</td>\n",
       "      <td>0.787202</td>\n",
       "    </tr>\n",
       "    <tr>\n",
       "      <th>27</th>\n",
       "      <td>-oversampling-XGBClassifier</td>\n",
       "      <td>{'0': {'precision': 0.8714285714285714, 'recall': 0.8133333333333334, 'f1-score': 0.8413793103448276, 'support': 75}, '1': {'precision': 0.5333333333333333, 'recall': 0.64, 'f1-score': 0.5818181818181818, 'support': 25}, 'accuracy': 0.77, 'macro avg': {'precision': 0.7023809523809523, 'recall': 0.7266666666666667, 'f1-score': 0.7115987460815048, 'support': 100}, 'weighted avg': {'precision': 0.7869047619047619, 'recall': 0.77, 'f1-score': 0.7764890282131661, 'support': 100}}</td>\n",
       "      <td>0.776489</td>\n",
       "    </tr>\n",
       "    <tr>\n",
       "      <th>1</th>\n",
       "      <td>-nonbalance-DecisionTreeClassifier</td>\n",
       "      <td>{'0': {'precision': 0.8513513513513513, 'recall': 0.84, 'f1-score': 0.8456375838926175, 'support': 75}, '1': {'precision': 0.5384615384615384, 'recall': 0.56, 'f1-score': 0.5490196078431373, 'support': 25}, 'accuracy': 0.77, 'macro avg': {'precision': 0.6949064449064448, 'recall': 0.7, 'f1-score': 0.6973285958678774, 'support': 100}, 'weighted avg': {'precision': 0.7731288981288981, 'recall': 0.77, 'f1-score': 0.7714830898802474, 'support': 100}}</td>\n",
       "      <td>0.771483</td>\n",
       "    </tr>\n",
       "    <tr>\n",
       "      <th>21</th>\n",
       "      <td>-oversampling-DecisionTreeClassifier</td>\n",
       "      <td>{'0': {'precision': 0.8591549295774648, 'recall': 0.8133333333333334, 'f1-score': 0.8356164383561644, 'support': 75}, '1': {'precision': 0.5172413793103449, 'recall': 0.6, 'f1-score': 0.5555555555555556, 'support': 25}, 'accuracy': 0.76, 'macro avg': {'precision': 0.6881981544439049, 'recall': 0.7066666666666667, 'f1-score': 0.69558599695586, 'support': 100}, 'weighted avg': {'precision': 0.7736765420106848, 'recall': 0.76, 'f1-score': 0.7656012176560122, 'support': 100}}</td>\n",
       "      <td>0.765601</td>\n",
       "    </tr>\n",
       "    <tr>\n",
       "      <th>2</th>\n",
       "      <td>-nonbalance-LogisticRegression</td>\n",
       "      <td>{'0': {'precision': 0.8192771084337349, 'recall': 0.9066666666666666, 'f1-score': 0.8607594936708859, 'support': 75}, '1': {'precision': 0.5882352941176471, 'recall': 0.4, 'f1-score': 0.4761904761904762, 'support': 25}, 'accuracy': 0.78, 'macro avg': {'precision': 0.703756201275691, 'recall': 0.6533333333333333, 'f1-score': 0.668474984930681, 'support': 100}, 'weighted avg': {'precision': 0.761516654854713, 'recall': 0.78, 'f1-score': 0.7646172393007834, 'support': 100}}</td>\n",
       "      <td>0.764617</td>\n",
       "    </tr>\n",
       "    <tr>\n",
       "      <th>25</th>\n",
       "      <td>-oversampling-AdaBoostClassifier</td>\n",
       "      <td>{'0': {'precision': 0.8493150684931506, 'recall': 0.8266666666666667, 'f1-score': 0.8378378378378378, 'support': 75}, '1': {'precision': 0.5185185185185185, 'recall': 0.56, 'f1-score': 0.5384615384615384, 'support': 25}, 'accuracy': 0.76, 'macro avg': {'precision': 0.6839167935058346, 'recall': 0.6933333333333334, 'f1-score': 0.6881496881496881, 'support': 100}, 'weighted avg': {'precision': 0.7666159309994925, 'recall': 0.76, 'f1-score': 0.7629937629937631, 'support': 100}}</td>\n",
       "      <td>0.762994</td>\n",
       "    </tr>\n",
       "    <tr>\n",
       "      <th>7</th>\n",
       "      <td>-nonbalance-XGBClassifier</td>\n",
       "      <td>{'0': {'precision': 0.84, 'recall': 0.84, 'f1-score': 0.8399999999999999, 'support': 75}, '1': {'precision': 0.52, 'recall': 0.52, 'f1-score': 0.52, 'support': 25}, 'accuracy': 0.76, 'macro avg': {'precision': 0.6799999999999999, 'recall': 0.6799999999999999, 'f1-score': 0.6799999999999999, 'support': 100}, 'weighted avg': {'precision': 0.76, 'recall': 0.76, 'f1-score': 0.7599999999999999, 'support': 100}}</td>\n",
       "      <td>0.760000</td>\n",
       "    </tr>\n",
       "    <tr>\n",
       "      <th>5</th>\n",
       "      <td>-nonbalance-AdaBoostClassifier</td>\n",
       "      <td>{'0': {'precision': 0.8205128205128205, 'recall': 0.8533333333333334, 'f1-score': 0.8366013071895425, 'support': 75}, '1': {'precision': 0.5, 'recall': 0.44, 'f1-score': 0.46808510638297873, 'support': 25}, 'accuracy': 0.75, 'macro avg': {'precision': 0.6602564102564102, 'recall': 0.6466666666666667, 'f1-score': 0.6523432067862607, 'support': 100}, 'weighted avg': {'precision': 0.7403846153846153, 'recall': 0.75, 'f1-score': 0.7444722569879016, 'support': 100}}</td>\n",
       "      <td>0.744472</td>\n",
       "    </tr>\n",
       "    <tr>\n",
       "      <th>12</th>\n",
       "      <td>-smote-LogisticRegression</td>\n",
       "      <td>{'0': {'precision': 0.8529411764705882, 'recall': 0.7733333333333333, 'f1-score': 0.8111888111888111, 'support': 75}, '1': {'precision': 0.46875, 'recall': 0.6, 'f1-score': 0.5263157894736842, 'support': 25}, 'accuracy': 0.73, 'macro avg': {'precision': 0.6608455882352942, 'recall': 0.6866666666666666, 'f1-score': 0.6687523003312477, 'support': 100}, 'weighted avg': {'precision': 0.7568933823529411, 'recall': 0.73, 'f1-score': 0.7399705557600293, 'support': 100}}</td>\n",
       "      <td>0.739971</td>\n",
       "    </tr>\n",
       "    <tr>\n",
       "      <th>22</th>\n",
       "      <td>-oversampling-LogisticRegression</td>\n",
       "      <td>{'0': {'precision': 0.8615384615384616, 'recall': 0.7466666666666667, 'f1-score': 0.8, 'support': 75}, '1': {'precision': 0.45714285714285713, 'recall': 0.64, 'f1-score': 0.5333333333333333, 'support': 25}, 'accuracy': 0.72, 'macro avg': {'precision': 0.6593406593406593, 'recall': 0.6933333333333334, 'f1-score': 0.6666666666666667, 'support': 100}, 'weighted avg': {'precision': 0.7604395604395604, 'recall': 0.72, 'f1-score': 0.7333333333333333, 'support': 100}}</td>\n",
       "      <td>0.733333</td>\n",
       "    </tr>\n",
       "    <tr>\n",
       "      <th>24</th>\n",
       "      <td>-oversampling-RandomForestClassifier</td>\n",
       "      <td>{'0': {'precision': 0.7976190476190477, 'recall': 0.8933333333333333, 'f1-score': 0.8427672955974843, 'support': 75}, '1': {'precision': 0.5, 'recall': 0.32, 'f1-score': 0.39024390243902435, 'support': 25}, 'accuracy': 0.75, 'macro avg': {'precision': 0.6488095238095238, 'recall': 0.6066666666666667, 'f1-score': 0.6165055990182543, 'support': 100}, 'weighted avg': {'precision': 0.7232142857142858, 'recall': 0.75, 'f1-score': 0.7296364473078693, 'support': 100}}</td>\n",
       "      <td>0.729636</td>\n",
       "    </tr>\n",
       "    <tr>\n",
       "      <th>3</th>\n",
       "      <td>-nonbalance-SVC</td>\n",
       "      <td>{'0': {'precision': 0.7802197802197802, 'recall': 0.9466666666666667, 'f1-score': 0.8554216867469879, 'support': 75}, '1': {'precision': 0.5555555555555556, 'recall': 0.2, 'f1-score': 0.29411764705882354, 'support': 25}, 'accuracy': 0.76, 'macro avg': {'precision': 0.667887667887668, 'recall': 0.5733333333333334, 'f1-score': 0.5747696669029058, 'support': 100}, 'weighted avg': {'precision': 0.724053724053724, 'recall': 0.76, 'f1-score': 0.7150956768249469, 'support': 100}}</td>\n",
       "      <td>0.715096</td>\n",
       "    </tr>\n",
       "    <tr>\n",
       "      <th>15</th>\n",
       "      <td>-smote-AdaBoostClassifier</td>\n",
       "      <td>{'0': {'precision': 0.7974683544303798, 'recall': 0.84, 'f1-score': 0.8181818181818181, 'support': 75}, '1': {'precision': 0.42857142857142855, 'recall': 0.36, 'f1-score': 0.391304347826087, 'support': 25}, 'accuracy': 0.72, 'macro avg': {'precision': 0.6130198915009042, 'recall': 0.6, 'f1-score': 0.6047430830039525, 'support': 100}, 'weighted avg': {'precision': 0.705244122965642, 'recall': 0.72, 'f1-score': 0.7114624505928853, 'support': 100}}</td>\n",
       "      <td>0.711462</td>\n",
       "    </tr>\n",
       "    <tr>\n",
       "      <th>23</th>\n",
       "      <td>-oversampling-SVC</td>\n",
       "      <td>{'0': {'precision': 0.7901234567901234, 'recall': 0.8533333333333334, 'f1-score': 0.8205128205128205, 'support': 75}, '1': {'precision': 0.42105263157894735, 'recall': 0.32, 'f1-score': 0.3636363636363636, 'support': 25}, 'accuracy': 0.72, 'macro avg': {'precision': 0.6055880441845354, 'recall': 0.5866666666666667, 'f1-score': 0.592074592074592, 'support': 100}, 'weighted avg': {'precision': 0.6978557504873294, 'recall': 0.72, 'f1-score': 0.7062937062937062, 'support': 100}}</td>\n",
       "      <td>0.706294</td>\n",
       "    </tr>\n",
       "    <tr>\n",
       "      <th>14</th>\n",
       "      <td>-smote-RandomForestClassifier</td>\n",
       "      <td>{'0': {'precision': 0.7752808988764045, 'recall': 0.92, 'f1-score': 0.8414634146341463, 'support': 75}, '1': {'precision': 0.45454545454545453, 'recall': 0.2, 'f1-score': 0.2777777777777778, 'support': 25}, 'accuracy': 0.74, 'macro avg': {'precision': 0.6149131767109295, 'recall': 0.56, 'f1-score': 0.559620596205962, 'support': 100}, 'weighted avg': {'precision': 0.695097037793667, 'recall': 0.74, 'f1-score': 0.7005420054200542, 'support': 100}}</td>\n",
       "      <td>0.700542</td>\n",
       "    </tr>\n",
       "    <tr>\n",
       "      <th>19</th>\n",
       "      <td>-smote-GaussianNB</td>\n",
       "      <td>{'0': {'precision': 0.85, 'recall': 0.68, 'f1-score': 0.7555555555555556, 'support': 75}, '1': {'precision': 0.4, 'recall': 0.64, 'f1-score': 0.4923076923076923, 'support': 25}, 'accuracy': 0.67, 'macro avg': {'precision': 0.625, 'recall': 0.66, 'f1-score': 0.6239316239316239, 'support': 100}, 'weighted avg': {'precision': 0.7375, 'recall': 0.67, 'f1-score': 0.6897435897435897, 'support': 100}}</td>\n",
       "      <td>0.689744</td>\n",
       "    </tr>\n",
       "    <tr>\n",
       "      <th>13</th>\n",
       "      <td>-smote-SVC</td>\n",
       "      <td>{'0': {'precision': 0.7674418604651163, 'recall': 0.88, 'f1-score': 0.8198757763975156, 'support': 75}, '1': {'precision': 0.35714285714285715, 'recall': 0.2, 'f1-score': 0.25641025641025644, 'support': 25}, 'accuracy': 0.71, 'macro avg': {'precision': 0.5622923588039868, 'recall': 0.54, 'f1-score': 0.5381430164038861, 'support': 100}, 'weighted avg': {'precision': 0.6648671096345515, 'recall': 0.71, 'f1-score': 0.6790093964007008, 'support': 100}}</td>\n",
       "      <td>0.679009</td>\n",
       "    </tr>\n",
       "    <tr>\n",
       "      <th>9</th>\n",
       "      <td>-nonbalance-GaussianNB</td>\n",
       "      <td>{'0': {'precision': 0.8448275862068966, 'recall': 0.6533333333333333, 'f1-score': 0.7368421052631579, 'support': 75}, '1': {'precision': 0.38095238095238093, 'recall': 0.64, 'f1-score': 0.4776119402985074, 'support': 25}, 'accuracy': 0.65, 'macro avg': {'precision': 0.6128899835796388, 'recall': 0.6466666666666667, 'f1-score': 0.6072270227808326, 'support': 100}, 'weighted avg': {'precision': 0.7288587848932677, 'recall': 0.65, 'f1-score': 0.6720345640219952, 'support': 100}}</td>\n",
       "      <td>0.672035</td>\n",
       "    </tr>\n",
       "    <tr>\n",
       "      <th>4</th>\n",
       "      <td>-nonbalance-RandomForestClassifier</td>\n",
       "      <td>{'0': {'precision': 0.7578947368421053, 'recall': 0.96, 'f1-score': 0.8470588235294118, 'support': 75}, '1': {'precision': 0.4, 'recall': 0.08, 'f1-score': 0.13333333333333333, 'support': 25}, 'accuracy': 0.74, 'macro avg': {'precision': 0.5789473684210527, 'recall': 0.52, 'f1-score': 0.49019607843137253, 'support': 100}, 'weighted avg': {'precision': 0.6684210526315789, 'recall': 0.74, 'f1-score': 0.6686274509803921, 'support': 100}}</td>\n",
       "      <td>0.668627</td>\n",
       "    </tr>\n",
       "    <tr>\n",
       "      <th>28</th>\n",
       "      <td>-oversampling-QuadraticDiscriminantAnalysis</td>\n",
       "      <td>{'0': {'precision': 0.7578947368421053, 'recall': 0.96, 'f1-score': 0.8470588235294118, 'support': 75}, '1': {'precision': 0.4, 'recall': 0.08, 'f1-score': 0.13333333333333333, 'support': 25}, 'accuracy': 0.74, 'macro avg': {'precision': 0.5789473684210527, 'recall': 0.52, 'f1-score': 0.49019607843137253, 'support': 100}, 'weighted avg': {'precision': 0.6684210526315789, 'recall': 0.74, 'f1-score': 0.6686274509803921, 'support': 100}}</td>\n",
       "      <td>0.668627</td>\n",
       "    </tr>\n",
       "    <tr>\n",
       "      <th>29</th>\n",
       "      <td>-oversampling-GaussianNB</td>\n",
       "      <td>{'0': {'precision': 0.819672131147541, 'recall': 0.6666666666666666, 'f1-score': 0.7352941176470588, 'support': 75}, '1': {'precision': 0.358974358974359, 'recall': 0.56, 'f1-score': 0.4375, 'support': 25}, 'accuracy': 0.64, 'macro avg': {'precision': 0.58932324506095, 'recall': 0.6133333333333333, 'f1-score': 0.5863970588235294, 'support': 100}, 'weighted avg': {'precision': 0.7044976881042454, 'recall': 0.64, 'f1-score': 0.660845588235294, 'support': 100}}</td>\n",
       "      <td>0.660846</td>\n",
       "    </tr>\n",
       "    <tr>\n",
       "      <th>18</th>\n",
       "      <td>-smote-QuadraticDiscriminantAnalysis</td>\n",
       "      <td>{'0': {'precision': 0.7473684210526316, 'recall': 0.9466666666666667, 'f1-score': 0.8352941176470587, 'support': 75}, '1': {'precision': 0.2, 'recall': 0.04, 'f1-score': 0.06666666666666667, 'support': 25}, 'accuracy': 0.72, 'macro avg': {'precision': 0.4736842105263158, 'recall': 0.49333333333333335, 'f1-score': 0.4509803921568627, 'support': 100}, 'weighted avg': {'precision': 0.6105263157894737, 'recall': 0.72, 'f1-score': 0.6431372549019607, 'support': 100}}</td>\n",
       "      <td>0.643137</td>\n",
       "    </tr>\n",
       "    <tr>\n",
       "      <th>0</th>\n",
       "      <td>-nonbalance-KNeighborsClassifier</td>\n",
       "      <td>{'0': {'precision': 0.7444444444444445, 'recall': 0.8933333333333333, 'f1-score': 0.8121212121212122, 'support': 75}, '1': {'precision': 0.2, 'recall': 0.08, 'f1-score': 0.11428571428571428, 'support': 25}, 'accuracy': 0.69, 'macro avg': {'precision': 0.4722222222222222, 'recall': 0.48666666666666664, 'f1-score': 0.4632034632034633, 'support': 100}, 'weighted avg': {'precision': 0.6083333333333334, 'recall': 0.69, 'f1-score': 0.6376623376623377, 'support': 100}}</td>\n",
       "      <td>0.637662</td>\n",
       "    </tr>\n",
       "    <tr>\n",
       "      <th>8</th>\n",
       "      <td>-nonbalance-QuadraticDiscriminantAnalysis</td>\n",
       "      <td>{'0': {'precision': 0.7160493827160493, 'recall': 0.7733333333333333, 'f1-score': 0.7435897435897435, 'support': 75}, '1': {'precision': 0.10526315789473684, 'recall': 0.08, 'f1-score': 0.0909090909090909, 'support': 25}, 'accuracy': 0.6, 'macro avg': {'precision': 0.4106562703053931, 'recall': 0.42666666666666664, 'f1-score': 0.4172494172494172, 'support': 100}, 'weighted avg': {'precision': 0.5633528265107212, 'recall': 0.6, 'f1-score': 0.5804195804195803, 'support': 100}}</td>\n",
       "      <td>0.580420</td>\n",
       "    </tr>\n",
       "    <tr>\n",
       "      <th>20</th>\n",
       "      <td>-oversampling-KNeighborsClassifier</td>\n",
       "      <td>{'0': {'precision': 0.7457627118644068, 'recall': 0.5866666666666667, 'f1-score': 0.6567164179104478, 'support': 75}, '1': {'precision': 0.24390243902439024, 'recall': 0.4, 'f1-score': 0.30303030303030304, 'support': 25}, 'accuracy': 0.54, 'macro avg': {'precision': 0.4948325754443985, 'recall': 0.49333333333333335, 'f1-score': 0.47987336047037543, 'support': 100}, 'weighted avg': {'precision': 0.6202976436544028, 'recall': 0.54, 'f1-score': 0.5682948891904116, 'support': 100}}</td>\n",
       "      <td>0.568295</td>\n",
       "    </tr>\n",
       "    <tr>\n",
       "      <th>10</th>\n",
       "      <td>-smote-KNeighborsClassifier</td>\n",
       "      <td>{'0': {'precision': 0.9230769230769231, 'recall': 0.32, 'f1-score': 0.4752475247524752, 'support': 75}, '1': {'precision': 0.3108108108108108, 'recall': 0.92, 'f1-score': 0.46464646464646464, 'support': 25}, 'accuracy': 0.47, 'macro avg': {'precision': 0.6169438669438669, 'recall': 0.62, 'f1-score': 0.46994699469946993, 'support': 100}, 'weighted avg': {'precision': 0.7700103950103951, 'recall': 0.47, 'f1-score': 0.4725972597259725, 'support': 100}}</td>\n",
       "      <td>0.472597</td>\n",
       "    </tr>\n",
       "  </tbody>\n",
       "</table>\n",
       "</div>"
      ],
      "text/plain": [
       "                                     model_name  \\\n",
       "0         Production-GradientBoostingClassifier   \n",
       "26     -oversampling-GradientBoostingClassifier   \n",
       "6        -nonbalance-GradientBoostingClassifier   \n",
       "17                         -smote-XGBClassifier   \n",
       "11                -smote-DecisionTreeClassifier   \n",
       "16            -smote-GradientBoostingClassifier   \n",
       "27                  -oversampling-XGBClassifier   \n",
       "1            -nonbalance-DecisionTreeClassifier   \n",
       "21         -oversampling-DecisionTreeClassifier   \n",
       "2                -nonbalance-LogisticRegression   \n",
       "25             -oversampling-AdaBoostClassifier   \n",
       "7                     -nonbalance-XGBClassifier   \n",
       "5                -nonbalance-AdaBoostClassifier   \n",
       "12                    -smote-LogisticRegression   \n",
       "22             -oversampling-LogisticRegression   \n",
       "24         -oversampling-RandomForestClassifier   \n",
       "3                               -nonbalance-SVC   \n",
       "15                    -smote-AdaBoostClassifier   \n",
       "23                            -oversampling-SVC   \n",
       "14                -smote-RandomForestClassifier   \n",
       "19                            -smote-GaussianNB   \n",
       "13                                   -smote-SVC   \n",
       "9                        -nonbalance-GaussianNB   \n",
       "4            -nonbalance-RandomForestClassifier   \n",
       "28  -oversampling-QuadraticDiscriminantAnalysis   \n",
       "29                     -oversampling-GaussianNB   \n",
       "18         -smote-QuadraticDiscriminantAnalysis   \n",
       "0              -nonbalance-KNeighborsClassifier   \n",
       "8     -nonbalance-QuadraticDiscriminantAnalysis   \n",
       "20           -oversampling-KNeighborsClassifier   \n",
       "10                  -smote-KNeighborsClassifier   \n",
       "\n",
       "                                                                                                                                                                                                                                                                                                                                                                                                                                                                                           performance  \\\n",
       "0                  {'0': {'precision': 0.9672131147540983, 'recall': 0.7866666666666666, 'f1-score': 0.8676470588235293, 'support': 75}, '1': {'precision': 0.5897435897435898, 'recall': 0.92, 'f1-score': 0.71875, 'support': 25}, 'accuracy': 0.82, 'macro avg': {'precision': 0.7784783522488441, 'recall': 0.8533333333333333, 'f1-score': 0.7931985294117647, 'support': 100}, 'weighted avg': {'precision': 0.8728457335014713, 'recall': 0.82, 'f1-score': 0.830422794117647, 'support': 100}}   \n",
       "26                                      {'0': {'precision': 0.9230769230769231, 'recall': 0.8, 'f1-score': 0.8571428571428571, 'support': 75}, '1': {'precision': 0.5714285714285714, 'recall': 0.8, 'f1-score': 0.6666666666666666, 'support': 25}, 'accuracy': 0.8, 'macro avg': {'precision': 0.7472527472527473, 'recall': 0.8, 'f1-score': 0.7619047619047619, 'support': 100}, 'weighted avg': {'precision': 0.8351648351648353, 'recall': 0.8, 'f1-score': 0.8095238095238093, 'support': 100}}   \n",
       "6          {'0': {'precision': 0.8767123287671232, 'recall': 0.8533333333333334, 'f1-score': 0.8648648648648648, 'support': 75}, '1': {'precision': 0.5925925925925926, 'recall': 0.64, 'f1-score': 0.6153846153846153, 'support': 25}, 'accuracy': 0.8, 'macro avg': {'precision': 0.7346524606798579, 'recall': 0.7466666666666667, 'f1-score': 0.74012474012474, 'support': 100}, 'weighted avg': {'precision': 0.8056823947234905, 'recall': 0.8, 'f1-score': 0.8024948024948024, 'support': 100}}   \n",
       "17      {'0': {'precision': 0.8857142857142857, 'recall': 0.8266666666666667, 'f1-score': 0.8551724137931035, 'support': 75}, '1': {'precision': 0.5666666666666667, 'recall': 0.68, 'f1-score': 0.6181818181818183, 'support': 25}, 'accuracy': 0.79, 'macro avg': {'precision': 0.7261904761904762, 'recall': 0.7533333333333334, 'f1-score': 0.7366771159874609, 'support': 100}, 'weighted avg': {'precision': 0.805952380952381, 'recall': 0.79, 'f1-score': 0.7959247648902822, 'support': 100}}   \n",
       "11      {'0': {'precision': 0.8840579710144928, 'recall': 0.8133333333333334, 'f1-score': 0.8472222222222223, 'support': 75}, '1': {'precision': 0.5483870967741935, 'recall': 0.68, 'f1-score': 0.6071428571428571, 'support': 25}, 'accuracy': 0.78, 'macro avg': {'precision': 0.7162225338943431, 'recall': 0.7466666666666667, 'f1-score': 0.7271825396825398, 'support': 100}, 'weighted avg': {'precision': 0.8001402524544179, 'recall': 0.78, 'f1-score': 0.787202380952381, 'support': 100}}   \n",
       "16      {'0': {'precision': 0.8840579710144928, 'recall': 0.8133333333333334, 'f1-score': 0.8472222222222223, 'support': 75}, '1': {'precision': 0.5483870967741935, 'recall': 0.68, 'f1-score': 0.6071428571428571, 'support': 25}, 'accuracy': 0.78, 'macro avg': {'precision': 0.7162225338943431, 'recall': 0.7466666666666667, 'f1-score': 0.7271825396825398, 'support': 100}, 'weighted avg': {'precision': 0.8001402524544179, 'recall': 0.78, 'f1-score': 0.787202380952381, 'support': 100}}   \n",
       "27     {'0': {'precision': 0.8714285714285714, 'recall': 0.8133333333333334, 'f1-score': 0.8413793103448276, 'support': 75}, '1': {'precision': 0.5333333333333333, 'recall': 0.64, 'f1-score': 0.5818181818181818, 'support': 25}, 'accuracy': 0.77, 'macro avg': {'precision': 0.7023809523809523, 'recall': 0.7266666666666667, 'f1-score': 0.7115987460815048, 'support': 100}, 'weighted avg': {'precision': 0.7869047619047619, 'recall': 0.77, 'f1-score': 0.7764890282131661, 'support': 100}}   \n",
       "1                                   {'0': {'precision': 0.8513513513513513, 'recall': 0.84, 'f1-score': 0.8456375838926175, 'support': 75}, '1': {'precision': 0.5384615384615384, 'recall': 0.56, 'f1-score': 0.5490196078431373, 'support': 25}, 'accuracy': 0.77, 'macro avg': {'precision': 0.6949064449064448, 'recall': 0.7, 'f1-score': 0.6973285958678774, 'support': 100}, 'weighted avg': {'precision': 0.7731288981288981, 'recall': 0.77, 'f1-score': 0.7714830898802474, 'support': 100}}   \n",
       "21        {'0': {'precision': 0.8591549295774648, 'recall': 0.8133333333333334, 'f1-score': 0.8356164383561644, 'support': 75}, '1': {'precision': 0.5172413793103449, 'recall': 0.6, 'f1-score': 0.5555555555555556, 'support': 25}, 'accuracy': 0.76, 'macro avg': {'precision': 0.6881981544439049, 'recall': 0.7066666666666667, 'f1-score': 0.69558599695586, 'support': 100}, 'weighted avg': {'precision': 0.7736765420106848, 'recall': 0.76, 'f1-score': 0.7656012176560122, 'support': 100}}   \n",
       "2          {'0': {'precision': 0.8192771084337349, 'recall': 0.9066666666666666, 'f1-score': 0.8607594936708859, 'support': 75}, '1': {'precision': 0.5882352941176471, 'recall': 0.4, 'f1-score': 0.4761904761904762, 'support': 25}, 'accuracy': 0.78, 'macro avg': {'precision': 0.703756201275691, 'recall': 0.6533333333333333, 'f1-score': 0.668474984930681, 'support': 100}, 'weighted avg': {'precision': 0.761516654854713, 'recall': 0.78, 'f1-score': 0.7646172393007834, 'support': 100}}   \n",
       "25     {'0': {'precision': 0.8493150684931506, 'recall': 0.8266666666666667, 'f1-score': 0.8378378378378378, 'support': 75}, '1': {'precision': 0.5185185185185185, 'recall': 0.56, 'f1-score': 0.5384615384615384, 'support': 25}, 'accuracy': 0.76, 'macro avg': {'precision': 0.6839167935058346, 'recall': 0.6933333333333334, 'f1-score': 0.6881496881496881, 'support': 100}, 'weighted avg': {'precision': 0.7666159309994925, 'recall': 0.76, 'f1-score': 0.7629937629937631, 'support': 100}}   \n",
       "7                                                                            {'0': {'precision': 0.84, 'recall': 0.84, 'f1-score': 0.8399999999999999, 'support': 75}, '1': {'precision': 0.52, 'recall': 0.52, 'f1-score': 0.52, 'support': 25}, 'accuracy': 0.76, 'macro avg': {'precision': 0.6799999999999999, 'recall': 0.6799999999999999, 'f1-score': 0.6799999999999999, 'support': 100}, 'weighted avg': {'precision': 0.76, 'recall': 0.76, 'f1-score': 0.7599999999999999, 'support': 100}}   \n",
       "5                    {'0': {'precision': 0.8205128205128205, 'recall': 0.8533333333333334, 'f1-score': 0.8366013071895425, 'support': 75}, '1': {'precision': 0.5, 'recall': 0.44, 'f1-score': 0.46808510638297873, 'support': 25}, 'accuracy': 0.75, 'macro avg': {'precision': 0.6602564102564102, 'recall': 0.6466666666666667, 'f1-score': 0.6523432067862607, 'support': 100}, 'weighted avg': {'precision': 0.7403846153846153, 'recall': 0.75, 'f1-score': 0.7444722569879016, 'support': 100}}   \n",
       "12                 {'0': {'precision': 0.8529411764705882, 'recall': 0.7733333333333333, 'f1-score': 0.8111888111888111, 'support': 75}, '1': {'precision': 0.46875, 'recall': 0.6, 'f1-score': 0.5263157894736842, 'support': 25}, 'accuracy': 0.73, 'macro avg': {'precision': 0.6608455882352942, 'recall': 0.6866666666666666, 'f1-score': 0.6687523003312477, 'support': 100}, 'weighted avg': {'precision': 0.7568933823529411, 'recall': 0.73, 'f1-score': 0.7399705557600293, 'support': 100}}   \n",
       "22                   {'0': {'precision': 0.8615384615384616, 'recall': 0.7466666666666667, 'f1-score': 0.8, 'support': 75}, '1': {'precision': 0.45714285714285713, 'recall': 0.64, 'f1-score': 0.5333333333333333, 'support': 25}, 'accuracy': 0.72, 'macro avg': {'precision': 0.6593406593406593, 'recall': 0.6933333333333334, 'f1-score': 0.6666666666666667, 'support': 100}, 'weighted avg': {'precision': 0.7604395604395604, 'recall': 0.72, 'f1-score': 0.7333333333333333, 'support': 100}}   \n",
       "24                   {'0': {'precision': 0.7976190476190477, 'recall': 0.8933333333333333, 'f1-score': 0.8427672955974843, 'support': 75}, '1': {'precision': 0.5, 'recall': 0.32, 'f1-score': 0.39024390243902435, 'support': 25}, 'accuracy': 0.75, 'macro avg': {'precision': 0.6488095238095238, 'recall': 0.6066666666666667, 'f1-score': 0.6165055990182543, 'support': 100}, 'weighted avg': {'precision': 0.7232142857142858, 'recall': 0.75, 'f1-score': 0.7296364473078693, 'support': 100}}   \n",
       "3        {'0': {'precision': 0.7802197802197802, 'recall': 0.9466666666666667, 'f1-score': 0.8554216867469879, 'support': 75}, '1': {'precision': 0.5555555555555556, 'recall': 0.2, 'f1-score': 0.29411764705882354, 'support': 25}, 'accuracy': 0.76, 'macro avg': {'precision': 0.667887667887668, 'recall': 0.5733333333333334, 'f1-score': 0.5747696669029058, 'support': 100}, 'weighted avg': {'precision': 0.724053724053724, 'recall': 0.76, 'f1-score': 0.7150956768249469, 'support': 100}}   \n",
       "15                                   {'0': {'precision': 0.7974683544303798, 'recall': 0.84, 'f1-score': 0.8181818181818181, 'support': 75}, '1': {'precision': 0.42857142857142855, 'recall': 0.36, 'f1-score': 0.391304347826087, 'support': 25}, 'accuracy': 0.72, 'macro avg': {'precision': 0.6130198915009042, 'recall': 0.6, 'f1-score': 0.6047430830039525, 'support': 100}, 'weighted avg': {'precision': 0.705244122965642, 'recall': 0.72, 'f1-score': 0.7114624505928853, 'support': 100}}   \n",
       "23     {'0': {'precision': 0.7901234567901234, 'recall': 0.8533333333333334, 'f1-score': 0.8205128205128205, 'support': 75}, '1': {'precision': 0.42105263157894735, 'recall': 0.32, 'f1-score': 0.3636363636363636, 'support': 25}, 'accuracy': 0.72, 'macro avg': {'precision': 0.6055880441845354, 'recall': 0.5866666666666667, 'f1-score': 0.592074592074592, 'support': 100}, 'weighted avg': {'precision': 0.6978557504873294, 'recall': 0.72, 'f1-score': 0.7062937062937062, 'support': 100}}   \n",
       "14                                   {'0': {'precision': 0.7752808988764045, 'recall': 0.92, 'f1-score': 0.8414634146341463, 'support': 75}, '1': {'precision': 0.45454545454545453, 'recall': 0.2, 'f1-score': 0.2777777777777778, 'support': 25}, 'accuracy': 0.74, 'macro avg': {'precision': 0.6149131767109295, 'recall': 0.56, 'f1-score': 0.559620596205962, 'support': 100}, 'weighted avg': {'precision': 0.695097037793667, 'recall': 0.74, 'f1-score': 0.7005420054200542, 'support': 100}}   \n",
       "19                                                                                       {'0': {'precision': 0.85, 'recall': 0.68, 'f1-score': 0.7555555555555556, 'support': 75}, '1': {'precision': 0.4, 'recall': 0.64, 'f1-score': 0.4923076923076923, 'support': 25}, 'accuracy': 0.67, 'macro avg': {'precision': 0.625, 'recall': 0.66, 'f1-score': 0.6239316239316239, 'support': 100}, 'weighted avg': {'precision': 0.7375, 'recall': 0.67, 'f1-score': 0.6897435897435897, 'support': 100}}   \n",
       "13                                {'0': {'precision': 0.7674418604651163, 'recall': 0.88, 'f1-score': 0.8198757763975156, 'support': 75}, '1': {'precision': 0.35714285714285715, 'recall': 0.2, 'f1-score': 0.25641025641025644, 'support': 25}, 'accuracy': 0.71, 'macro avg': {'precision': 0.5622923588039868, 'recall': 0.54, 'f1-score': 0.5381430164038861, 'support': 100}, 'weighted avg': {'precision': 0.6648671096345515, 'recall': 0.71, 'f1-score': 0.6790093964007008, 'support': 100}}   \n",
       "9     {'0': {'precision': 0.8448275862068966, 'recall': 0.6533333333333333, 'f1-score': 0.7368421052631579, 'support': 75}, '1': {'precision': 0.38095238095238093, 'recall': 0.64, 'f1-score': 0.4776119402985074, 'support': 25}, 'accuracy': 0.65, 'macro avg': {'precision': 0.6128899835796388, 'recall': 0.6466666666666667, 'f1-score': 0.6072270227808326, 'support': 100}, 'weighted avg': {'precision': 0.7288587848932677, 'recall': 0.65, 'f1-score': 0.6720345640219952, 'support': 100}}   \n",
       "4                                               {'0': {'precision': 0.7578947368421053, 'recall': 0.96, 'f1-score': 0.8470588235294118, 'support': 75}, '1': {'precision': 0.4, 'recall': 0.08, 'f1-score': 0.13333333333333333, 'support': 25}, 'accuracy': 0.74, 'macro avg': {'precision': 0.5789473684210527, 'recall': 0.52, 'f1-score': 0.49019607843137253, 'support': 100}, 'weighted avg': {'precision': 0.6684210526315789, 'recall': 0.74, 'f1-score': 0.6686274509803921, 'support': 100}}   \n",
       "28                                              {'0': {'precision': 0.7578947368421053, 'recall': 0.96, 'f1-score': 0.8470588235294118, 'support': 75}, '1': {'precision': 0.4, 'recall': 0.08, 'f1-score': 0.13333333333333333, 'support': 25}, 'accuracy': 0.74, 'macro avg': {'precision': 0.5789473684210527, 'recall': 0.52, 'f1-score': 0.49019607843137253, 'support': 100}, 'weighted avg': {'precision': 0.6684210526315789, 'recall': 0.74, 'f1-score': 0.6686274509803921, 'support': 100}}   \n",
       "29                      {'0': {'precision': 0.819672131147541, 'recall': 0.6666666666666666, 'f1-score': 0.7352941176470588, 'support': 75}, '1': {'precision': 0.358974358974359, 'recall': 0.56, 'f1-score': 0.4375, 'support': 25}, 'accuracy': 0.64, 'macro avg': {'precision': 0.58932324506095, 'recall': 0.6133333333333333, 'f1-score': 0.5863970588235294, 'support': 100}, 'weighted avg': {'precision': 0.7044976881042454, 'recall': 0.64, 'f1-score': 0.660845588235294, 'support': 100}}   \n",
       "18                  {'0': {'precision': 0.7473684210526316, 'recall': 0.9466666666666667, 'f1-score': 0.8352941176470587, 'support': 75}, '1': {'precision': 0.2, 'recall': 0.04, 'f1-score': 0.06666666666666667, 'support': 25}, 'accuracy': 0.72, 'macro avg': {'precision': 0.4736842105263158, 'recall': 0.49333333333333335, 'f1-score': 0.4509803921568627, 'support': 100}, 'weighted avg': {'precision': 0.6105263157894737, 'recall': 0.72, 'f1-score': 0.6431372549019607, 'support': 100}}   \n",
       "0                   {'0': {'precision': 0.7444444444444445, 'recall': 0.8933333333333333, 'f1-score': 0.8121212121212122, 'support': 75}, '1': {'precision': 0.2, 'recall': 0.08, 'f1-score': 0.11428571428571428, 'support': 25}, 'accuracy': 0.69, 'macro avg': {'precision': 0.4722222222222222, 'recall': 0.48666666666666664, 'f1-score': 0.4632034632034633, 'support': 100}, 'weighted avg': {'precision': 0.6083333333333334, 'recall': 0.69, 'f1-score': 0.6376623376623377, 'support': 100}}   \n",
       "8      {'0': {'precision': 0.7160493827160493, 'recall': 0.7733333333333333, 'f1-score': 0.7435897435897435, 'support': 75}, '1': {'precision': 0.10526315789473684, 'recall': 0.08, 'f1-score': 0.0909090909090909, 'support': 25}, 'accuracy': 0.6, 'macro avg': {'precision': 0.4106562703053931, 'recall': 0.42666666666666664, 'f1-score': 0.4172494172494172, 'support': 100}, 'weighted avg': {'precision': 0.5633528265107212, 'recall': 0.6, 'f1-score': 0.5804195804195803, 'support': 100}}   \n",
       "20  {'0': {'precision': 0.7457627118644068, 'recall': 0.5866666666666667, 'f1-score': 0.6567164179104478, 'support': 75}, '1': {'precision': 0.24390243902439024, 'recall': 0.4, 'f1-score': 0.30303030303030304, 'support': 25}, 'accuracy': 0.54, 'macro avg': {'precision': 0.4948325754443985, 'recall': 0.49333333333333335, 'f1-score': 0.47987336047037543, 'support': 100}, 'weighted avg': {'precision': 0.6202976436544028, 'recall': 0.54, 'f1-score': 0.5682948891904116, 'support': 100}}   \n",
       "10                               {'0': {'precision': 0.9230769230769231, 'recall': 0.32, 'f1-score': 0.4752475247524752, 'support': 75}, '1': {'precision': 0.3108108108108108, 'recall': 0.92, 'f1-score': 0.46464646464646464, 'support': 25}, 'accuracy': 0.47, 'macro avg': {'precision': 0.6169438669438669, 'recall': 0.62, 'f1-score': 0.46994699469946993, 'support': 100}, 'weighted avg': {'precision': 0.7700103950103951, 'recall': 0.47, 'f1-score': 0.4725972597259725, 'support': 100}}   \n",
       "\n",
       "    f1_score_avg  \n",
       "0       0.820000  \n",
       "26      0.809524  \n",
       "6       0.802495  \n",
       "17      0.795925  \n",
       "11      0.787202  \n",
       "16      0.787202  \n",
       "27      0.776489  \n",
       "1       0.771483  \n",
       "21      0.765601  \n",
       "2       0.764617  \n",
       "25      0.762994  \n",
       "7       0.760000  \n",
       "5       0.744472  \n",
       "12      0.739971  \n",
       "22      0.733333  \n",
       "24      0.729636  \n",
       "3       0.715096  \n",
       "15      0.711462  \n",
       "23      0.706294  \n",
       "14      0.700542  \n",
       "19      0.689744  \n",
       "13      0.679009  \n",
       "9       0.672035  \n",
       "4       0.668627  \n",
       "28      0.668627  \n",
       "29      0.660846  \n",
       "18      0.643137  \n",
       "0       0.637662  \n",
       "8       0.580420  \n",
       "20      0.568295  \n",
       "10      0.472597  "
      ]
     },
     "execution_count": 16,
     "metadata": {},
     "output_type": "execute_result"
    }
   ],
   "source": [
    "pd.set_option('display.max_colwidth', None)\n",
    "# pd.reset_option('display.max_colwidth')\n",
    "training_logs[[\"model_name\", \"performance\", \"f1_score_avg\"]].sort_values([\"f1_score_avg\"], ascending=False)"
   ]
  },
  {
   "cell_type": "markdown",
   "metadata": {},
   "source": [
    "### Top 6 Baseline Model"
   ]
  },
  {
   "cell_type": "code",
   "execution_count": 17,
   "metadata": {},
   "outputs": [
    {
     "name": "stdout",
     "output_type": "stream",
     "text": [
      "0        Production-GradientBoostingClassifier\n",
      "26    -oversampling-GradientBoostingClassifier\n",
      "6       -nonbalance-GradientBoostingClassifier\n",
      "17                        -smote-XGBClassifier\n",
      "11               -smote-DecisionTreeClassifier\n",
      "16           -smote-GradientBoostingClassifier\n",
      "27                 -oversampling-XGBClassifier\n",
      "Name: model_name, dtype: object\n",
      "2023-01-07 22:01:08.583887 Based on training logs we can choose 6 top models.\n"
     ]
    }
   ],
   "source": [
    "print(training_logs[[\"model_name\",\"f1_score_avg\"]].sort_values([\"f1_score_avg\"], ascending=False).model_name.iloc[0:7])\n",
    "\n",
    "util.print_debug(message=\"Based on training logs we can choose 6 top models.\")"
   ]
  },
  {
   "cell_type": "markdown",
   "metadata": {},
   "source": [
    "# 4. SEARCHING BEST PARAMS FOR ML MODEL"
   ]
  },
  {
   "cell_type": "markdown",
   "metadata": {},
   "source": [
    "## 4.1. Gradient Boosting Oversampling"
   ]
  },
  {
   "cell_type": "code",
   "execution_count": null,
   "metadata": {},
   "outputs": [],
   "source": [
    "# d_tree = DecisionTreeClassifier(max_depth=2)\n",
    "n_estimators = [1,5,10,30,50,70,100,150,200,250]\n",
    "max_depth = np.arange(2,11,1)\n",
    "learning_rate = np.arange(0.1,1,0.1)\n",
    "\n",
    "param_grid = {\n",
    "        \"n_estimators\": n_estimators,\n",
    "        \"learning_rate\" : learning_rate,\n",
    "        \"max_depth\" : max_depth,\n",
    "        }\n",
    "\n",
    "# Buat gridsearch\n",
    "grad_tree = GradientBoostingClassifier()\n",
    "\n",
    "grad_tree_cv = RandomizedSearchCV(\n",
    "                        estimator = grad_tree,\n",
    "                        param_distributions = param_grid,\n",
    "                        cv = 5,\n",
    "                        scoring = \"precision\",\n",
    "                        n_jobs = -1)"
   ]
  },
  {
   "cell_type": "code",
   "execution_count": null,
   "metadata": {},
   "outputs": [],
   "source": [
    "grad_tree_cv.fit(x_train[\"oversampling\"],y_train[\"oversampling\"])\n",
    "\n",
    "grad_tree_cv.best_params_"
   ]
  },
  {
   "cell_type": "code",
   "execution_count": 18,
   "metadata": {},
   "outputs": [
    {
     "data": {
      "text/plain": [
       "GradientBoostingClassifier(max_depth=7, n_estimators=70, random_state=123)"
      ]
     },
     "execution_count": 18,
     "metadata": {},
     "output_type": "execute_result"
    }
   ],
   "source": [
    "grad_tree = GradientBoostingClassifier(\n",
    "                                    max_depth = 7,\n",
    "                                    n_estimators = 70,\n",
    "                                    learning_rate = 0.1,\n",
    "                                    random_state=123)\n",
    "\n",
    "\n",
    "grad_tree.fit(x_train[\"oversampling\"], y_train[\"oversampling\"])"
   ]
  },
  {
   "cell_type": "code",
   "execution_count": 101,
   "metadata": {},
   "outputs": [
    {
     "name": "stdout",
     "output_type": "stream",
     "text": [
      "              precision    recall  f1-score   support\n",
      "\n",
      "           0       0.93      0.85      0.89        75\n",
      "           1       0.65      0.80      0.71        25\n",
      "\n",
      "    accuracy                           0.84       100\n",
      "   macro avg       0.79      0.83      0.80       100\n",
      "weighted avg       0.86      0.84      0.85       100\n",
      "\n"
     ]
    }
   ],
   "source": [
    "y_valid_gb_pred_over = grad_tree.predict(x_valid)\n",
    "\n",
    "print(classification_report(y_true = y_valid,\n",
    "                            y_pred = y_valid_gb_pred_over))"
   ]
  },
  {
   "cell_type": "code",
   "execution_count": 100,
   "metadata": {
    "scrolled": false
   },
   "outputs": [
    {
     "data": {
      "image/png": "[encoded data removed]",
      "text/plain": [
       "<Figure size 432x288 with 2 Axes>"
      ]
     },
     "metadata": {
      "needs_background": "light"
     },
     "output_type": "display_data"
    }
   ],
   "source": [
    "# Create confusion matrix list\n",
    "disp_cm = list()\n",
    "\n",
    "cm_gb_over = confusion_matrix(y_true = y_valid,\n",
    "                            y_pred = y_valid_gb_pred_over)\n",
    "\n",
    "disp_1 = ConfusionMatrixDisplay(confusion_matrix=cm_gb_over,\n",
    "                               display_labels=grad_tree.classes_)\n",
    "disp_cm.append(disp_1)\n",
    "\n",
    "disp_1.plot()\n",
    "plt.show()"
   ]
  },
  {
   "cell_type": "code",
   "execution_count": 23,
   "metadata": {},
   "outputs": [
    {
     "data": {
      "image/png": "[encoded data removed]",
      "text/plain": [
       "<Figure size 432x288 with 1 Axes>"
      ]
     },
     "metadata": {
      "needs_background": "light"
     },
     "output_type": "display_data"
    }
   ],
   "source": [
    "y_valid_gb_pred_over_proba = grad_tree.predict_proba(x_valid)\n",
    "\n",
    "fpr_gb_over, tpr_gb_over, threshold_gb_over = roc_curve(y_valid,\n",
    "                                         y_valid_gb_pred_over_proba[:, 1])\n",
    "roc_auc_gb_over = auc(fpr_gb_over, tpr_gb_over)\n",
    "\n",
    "plt.title('Receiver Operating Characteristic')\n",
    "plt.plot(fpr_gb_over, tpr_gb_over, 'b', label = 'AUC = %0.2f' % roc_auc_gb_over)\n",
    "plt.legend(loc = 'lower right')\n",
    "plt.plot([0, 1], [0, 1],'r--')\n",
    "plt.xlim([0, 1])\n",
    "plt.ylim([0, 1])\n",
    "plt.ylabel('True Positive Rate')\n",
    "plt.xlabel('False Positive Rate')\n",
    "plt.show()"
   ]
  },
  {
   "cell_type": "markdown",
   "metadata": {},
   "source": [
    "## 4.2. Gradient Boosting Smote"
   ]
  },
  {
   "cell_type": "code",
   "execution_count": null,
   "metadata": {},
   "outputs": [],
   "source": [
    "n_estimators = [1,5,10,30,50,70,100,150,200,250]\n",
    "max_depth = np.arange(2,11,1)\n",
    "learning_rate = np.arange(0.1,1,0.1)\n",
    "\n",
    "param_grid = {\n",
    "        \"n_estimators\": n_estimators,\n",
    "        \"learning_rate\" : learning_rate,\n",
    "        \"max_depth\" : max_depth\n",
    "        }\n",
    "\n",
    "\n",
    "grad_tree_cv = RandomizedSearchC(\n",
    "                        estimator = grad_tree,\n",
    "                        param_grid = param_grid,\n",
    "                        cv = 5,\n",
    "                        scoring = \"f1_macro\",\n",
    "                        n_jobs = -1)\n",
    "\n",
    "grid_result = grad_tree_cv.fit(x_train[\"smote\"], y_train[\"smote\"])"
   ]
  },
  {
   "cell_type": "code",
   "execution_count": null,
   "metadata": {},
   "outputs": [],
   "source": [
    "grid_result.best_params_"
   ]
  },
  {
   "cell_type": "code",
   "execution_count": 24,
   "metadata": {},
   "outputs": [
    {
     "data": {
      "text/plain": [
       "GradientBoostingClassifier(learning_rate=0.5, max_depth=2, n_estimators=5,\n",
       "                           random_state=123)"
      ]
     },
     "execution_count": 24,
     "metadata": {},
     "output_type": "execute_result"
    }
   ],
   "source": [
    "# Manual Hyperparameter Tuning\n",
    "grad_tree_smote = GradientBoostingClassifier(\n",
    "                                    max_depth = 2,\n",
    "                                    n_estimators = 5,\n",
    "                                    learning_rate = 0.5,\n",
    "                                    random_state=123)\n",
    "\n",
    "grad_tree_smote.fit(x_train[\"smote\"], y_train[\"smote\"])"
   ]
  },
  {
   "cell_type": "code",
   "execution_count": 104,
   "metadata": {
    "scrolled": false
   },
   "outputs": [
    {
     "name": "stdout",
     "output_type": "stream",
     "text": [
      "              precision    recall  f1-score   support\n",
      "\n",
      "           0       0.94      0.80      0.86        75\n",
      "           1       0.58      0.84      0.69        25\n",
      "\n",
      "    accuracy                           0.81       100\n",
      "   macro avg       0.76      0.82      0.78       100\n",
      "weighted avg       0.85      0.81      0.82       100\n",
      "\n"
     ]
    }
   ],
   "source": [
    "## Classification Report\n",
    "y_valid_gb_pred_smote = grad_tree_smote.predict(x_valid)\n",
    "\n",
    "print(classification_report(y_true = y_valid,\n",
    "                            y_pred = y_valid_gb_pred_smote))"
   ]
  },
  {
   "cell_type": "code",
   "execution_count": 105,
   "metadata": {
    "scrolled": true
   },
   "outputs": [
    {
     "data": {
      "image/png": "[encoded data removed]",
      "text/plain": [
       "<Figure size 432x288 with 2 Axes>"
      ]
     },
     "metadata": {
      "needs_background": "light"
     },
     "output_type": "display_data"
    }
   ],
   "source": [
    "cm_gb_smote = confusion_matrix(y_true = y_valid,\n",
    "                            y_pred = y_valid_gb_pred_smote)\n",
    "\n",
    "disp_2 = ConfusionMatrixDisplay(confusion_matrix=cm_gb_smote,\n",
    "                               display_labels=grad_tree.classes_)\n",
    "\n",
    "disp_cm.append(disp_2)\n",
    "\n",
    "disp_2.plot()\n",
    "plt.show()"
   ]
  },
  {
   "cell_type": "code",
   "execution_count": 28,
   "metadata": {
    "collapsed": true
   },
   "outputs": [
    {
     "ename": "NameError",
     "evalue": "name 'grid_result' is not defined",
     "output_type": "error",
     "traceback": [
      "\u001b[1;31m---------------------------------------------------------------------------\u001b[0m",
      "\u001b[1;31mNameError\u001b[0m                                 Traceback (most recent call last)",
      "Input \u001b[1;32mIn [28]\u001b[0m, in \u001b[0;36m<cell line: 1>\u001b[1;34m()\u001b[0m\n\u001b[1;32m----> 1\u001b[0m means \u001b[38;5;241m=\u001b[39m \u001b[43mgrid_result\u001b[49m\u001b[38;5;241m.\u001b[39mcv_results_[\u001b[38;5;124m'\u001b[39m\u001b[38;5;124mmean_test_score\u001b[39m\u001b[38;5;124m'\u001b[39m]\n\u001b[0;32m      2\u001b[0m stds \u001b[38;5;241m=\u001b[39m grid_result\u001b[38;5;241m.\u001b[39mcv_results_[\u001b[38;5;124m'\u001b[39m\u001b[38;5;124mstd_test_score\u001b[39m\u001b[38;5;124m'\u001b[39m]\n\u001b[0;32m      3\u001b[0m params \u001b[38;5;241m=\u001b[39m grid_result\u001b[38;5;241m.\u001b[39mcv_results_[\u001b[38;5;124m'\u001b[39m\u001b[38;5;124mparams\u001b[39m\u001b[38;5;124m'\u001b[39m]\n",
      "\u001b[1;31mNameError\u001b[0m: name 'grid_result' is not defined"
     ]
    }
   ],
   "source": [
    "# means = grid_result.cv_results_['mean_test_score']\n",
    "# stds = grid_result.cv_results_['std_test_score']\n",
    "# params = grid_result.cv_results_['params']\n",
    "\n",
    "# print(\"Best: %f using %s\" % (grid_result.best_score_, grid_result.best_params_))\n",
    "\n",
    "# # plot results\n",
    "# scores = numpy.array(means).reshape(2, 5)\n",
    "# plt.subplots(figsize=(20,15))\n",
    "# for i, value in enumerate(max_depth):\n",
    "#     plt.plot(n_estimators, scores[i], label='depth: ' + str(value))\n",
    "# plt.legend()\n",
    "# plt.xlabel('n_estimators')\n",
    "# plt.ylabel('Log Loss')"
   ]
  },
  {
   "cell_type": "markdown",
   "metadata": {},
   "source": [
    "## 4.3 ROC Curve Gradient Boosting on SMOTE and Oversampling dataset"
   ]
  },
  {
   "cell_type": "code",
   "execution_count": 29,
   "metadata": {},
   "outputs": [
    {
     "data": {
      "image/png": "[encoded data removed]",
      "text/plain": [
       "<Figure size 432x288 with 1 Axes>"
      ]
     },
     "metadata": {
      "needs_background": "light"
     },
     "output_type": "display_data"
    }
   ],
   "source": [
    "y_valid_gb_pred_over_proba = grad_tree.predict_proba(x_valid)\n",
    "y_valid_gb_pred_smote_proba = grad_tree_smote.predict_proba(x_valid)\n",
    "\n",
    "fpr_gb_over, tpr_gb_over, threshold_gb_over = roc_curve(y_valid,\n",
    "                                         y_valid_gb_pred_over_proba[:, 1])\n",
    "\n",
    "fpr_gb_smote, tpr_gb_smote, threshold_gb_smote = roc_curve(y_valid,\n",
    "                                         y_valid_gb_pred_smote_proba[:, 1])\n",
    "\n",
    "roc_auc_gb_over = auc(fpr_gb_over, tpr_gb_over)\n",
    "roc_auc_gb_smote = auc(fpr_gb_smote, tpr_gb_smote)\n",
    "\n",
    "plt.title('Receiver Operating Characteristic')\n",
    "plt.plot(fpr_gb_over, tpr_gb_over, 'b', label = 'AUC GB Over = %0.2f' % roc_auc_gb_over)\n",
    "plt.plot(fpr_gb_smote, tpr_gb_smote, 'g', label = 'AUC GB Smote = %0.2f' % roc_auc_gb_smote)\n",
    "\n",
    "plt.legend(loc = 'lower right')\n",
    "plt.plot([0, 1], [0, 1],'r--')\n",
    "plt.xlim([0, 1])\n",
    "plt.ylim([0, 1])\n",
    "plt.ylabel('True Positive Rate')\n",
    "plt.xlabel('False Positive Rate')\n",
    "plt.show()"
   ]
  },
  {
   "cell_type": "code",
   "execution_count": null,
   "metadata": {},
   "outputs": [],
   "source": [
    "# util.pickle_dump(grad_tree, config_data['model_params_path'][4])"
   ]
  },
  {
   "cell_type": "markdown",
   "metadata": {},
   "source": [
    "## 4.4. XGBOOST Smote"
   ]
  },
  {
   "cell_type": "code",
   "execution_count": null,
   "metadata": {},
   "outputs": [],
   "source": [
    "n_estimators = [1,10,30,50,70,100,150,200,250,300]\n",
    "max_depth = np.arange(2,11,1)\n",
    "learning_rate = np.arange(0.1,1,0.1)\n",
    "scale_pos_weight = np.arange(0.1,0.5,0.1)\n",
    "gamma = np.arange(1,6,1)\n",
    "\n",
    "xgb = XGBClassifier()\n",
    "\n",
    "dist_params_xgb1 = {\n",
    "        \"n_estimators\" : n_estimators,\n",
    "        \"learning_rate\" : learning_rate,\n",
    "        \"max_depth\" : max_depth,\n",
    "        \"scale_pos_weight\" : scale_pos_weight,\n",
    "        \"gamma\" : gamma,\n",
    "        \"random_state\" : [123]\n",
    "    }\n",
    "\n",
    "xgb_cv = RandomizedSearchCV(estimator=xgb,\n",
    "                      param_distributions = dist_params_xgb1,\n",
    "                      cv = 5,\n",
    "                      scoring = 'recall',\n",
    "                      n_jobs = -1,\n",
    "                      refit = True)"
   ]
  },
  {
   "cell_type": "code",
   "execution_count": null,
   "metadata": {},
   "outputs": [],
   "source": [
    "xgb_cv.fit(x_train[\"smote\"], y_train[\"smote\"])\n",
    "\n",
    "xgb_cv.best_params_"
   ]
  },
  {
   "cell_type": "code",
   "execution_count": 7,
   "metadata": {},
   "outputs": [
    {
     "data": {
      "text/plain": [
       "XGBClassifier(alpha=5, base_score=0.5, booster='gbtree', callbacks=None,\n",
       "              colsample_bylevel=1, colsample_bynode=1, colsample_bytree=1,\n",
       "              early_stopping_rounds=None, enable_categorical=False,\n",
       "              eval_metric=None, feature_types=None, gamma=0, gpu_id=-1,\n",
       "              grow_policy='depthwise', importance_type=None,\n",
       "              interaction_constraints='', learning_rate=0.7, max_bin=256,\n",
       "              max_cat_threshold=64, max_cat_to_onehot=4, max_delta_step=0,\n",
       "              max_depth=4, max_leaves=0, min_child_weight=1, missing=nan,\n",
       "              monotone_constraints='()', n_estimators=7, n_jobs=0,\n",
       "              num_parallel_tree=1, predictor='auto', ...)"
      ]
     },
     "execution_count": 7,
     "metadata": {},
     "output_type": "execute_result"
    }
   ],
   "source": [
    "xgb_smote = XGBClassifier(\n",
    "                    n_estimators = 7,\n",
    "                    learning_rate = 0.7,\n",
    "                    max_depth = 4,\n",
    "                    scale_pos_weight = 0.4,\n",
    "                    alpha = 5,\n",
    "                    random_state=123)\n",
    "\n",
    "xgb_smote.fit(x_train[\"smote\"], y_train[\"smote\"])"
   ]
  },
  {
   "cell_type": "code",
   "execution_count": 8,
   "metadata": {},
   "outputs": [
    {
     "name": "stdout",
     "output_type": "stream",
     "text": [
      "              precision    recall  f1-score   support\n",
      "\n",
      "           0       0.87      0.91      0.89        75\n",
      "           1       0.68      0.60      0.64        25\n",
      "\n",
      "    accuracy                           0.83       100\n",
      "   macro avg       0.78      0.75      0.76       100\n",
      "weighted avg       0.82      0.83      0.83       100\n",
      "\n"
     ]
    }
   ],
   "source": [
    "y_valid_xgb_pred_smote = xgb_smote.predict(x_valid)\n",
    "\n",
    "print(classification_report(y_true = y_valid,\n",
    "                            y_pred = y_valid_xgb_pred_smote))"
   ]
  },
  {
   "cell_type": "code",
   "execution_count": 10,
   "metadata": {
    "scrolled": true
   },
   "outputs": [
    {
     "ename": "AttributeError",
     "evalue": "'numpy.ndarray' object has no attribute 'classes_'",
     "output_type": "error",
     "traceback": [
      "\u001b[1;31m---------------------------------------------------------------------------\u001b[0m",
      "\u001b[1;31mAttributeError\u001b[0m                            Traceback (most recent call last)",
      "Input \u001b[1;32mIn [10]\u001b[0m, in \u001b[0;36m<cell line: 4>\u001b[1;34m()\u001b[0m\n\u001b[0;32m      1\u001b[0m cm_xgb_smote \u001b[38;5;241m=\u001b[39m confusion_matrix(y_true \u001b[38;5;241m=\u001b[39m y_valid,\n\u001b[0;32m      2\u001b[0m                             y_pred \u001b[38;5;241m=\u001b[39m y_valid_xgb_pred_smote)\n\u001b[0;32m      4\u001b[0m disp_3 \u001b[38;5;241m=\u001b[39m ConfusionMatrixDisplay(confusion_matrix\u001b[38;5;241m=\u001b[39mcm_xgb_smote,\n\u001b[1;32m----> 5\u001b[0m                                display_labels\u001b[38;5;241m=\u001b[39m\u001b[43mcm_xgb_smote\u001b[49m\u001b[38;5;241;43m.\u001b[39;49m\u001b[43mclasses_\u001b[49m)\n\u001b[0;32m      6\u001b[0m disp_cm\u001b[38;5;241m.\u001b[39mappend(disp_3)\n\u001b[0;32m      8\u001b[0m disp_3\u001b[38;5;241m.\u001b[39mplot()\n",
      "\u001b[1;31mAttributeError\u001b[0m: 'numpy.ndarray' object has no attribute 'classes_'"
     ]
    }
   ],
   "source": [
    "cm_xgb_smote = confusion_matrix(y_true = y_valid,\n",
    "                            y_pred = y_valid_xgb_pred_smote)\n",
    "\n",
    "disp_3 = ConfusionMatrixDisplay(confusion_matrix=cm_xgb_smote,\n",
    "                               display_labels=grad_tree.classes_)\n",
    "disp_cm.append(disp_3)\n",
    "\n",
    "disp_3.plot()\n",
    "plt.show()"
   ]
  },
  {
   "cell_type": "code",
   "execution_count": 21,
   "metadata": {},
   "outputs": [
    {
     "data": {
      "image/png": "[encoded data removed]",
      "text/plain": [
       "<Figure size 432x288 with 1 Axes>"
      ]
     },
     "metadata": {
      "needs_background": "light"
     },
     "output_type": "display_data"
    }
   ],
   "source": [
    "import seaborn as sns\n",
    "\n",
    "train_set = pd.concat([x_train['nonbalance'], y_train['nonbalance']], axis=1)\n",
    "\n",
    "ax = sns.histplot(data=train_set, x='number_of_vehicles_involved', multiple='stack', hue='fraud_reported')\n",
    "ax.set(ylabel='number of fraud')\n",
    "plt.show()"
   ]
  },
  {
   "cell_type": "code",
   "execution_count": 13,
   "metadata": {
    "scrolled": false
   },
   "outputs": [
    {
     "data": {
      "image/png": "[encoded data removed]",
      "text/plain": [
       "<Figure size 1800x432 with 1 Axes>"
      ]
     },
     "metadata": {
      "needs_background": "light"
     },
     "output_type": "display_data"
    }
   ],
   "source": [
    "fig, ax = plt.subplots(figsize=(20,6))\n",
    "\n",
    "feat_imp = pd.Series(xgb_smote.feature_importances_, x_valid.columns.to_list()).sort_values(ascending=False)\n",
    "feat_imp.plot(kind='bar', title='Feature Importances')\n",
    "plt.ylabel('Feature Importance Score')\n",
    "plt.show()"
   ]
  },
  {
   "cell_type": "markdown",
   "metadata": {},
   "source": [
    "## 4.5. XGBoosting Oversampling"
   ]
  },
  {
   "cell_type": "code",
   "execution_count": 34,
   "metadata": {},
   "outputs": [
    {
     "data": {
      "text/plain": [
       "XGBClassifier(alpha=5, base_score=0.5, booster='gbtree', callbacks=None,\n",
       "              colsample_bylevel=1, colsample_bynode=1, colsample_bytree=1,\n",
       "              early_stopping_rounds=None, enable_categorical=False,\n",
       "              eval_metric=None, feature_types=None, gamma=0, gpu_id=-1,\n",
       "              grow_policy='depthwise', importance_type=None,\n",
       "              interaction_constraints='', learning_rate=0.7, max_bin=256,\n",
       "              max_cat_threshold=64, max_cat_to_onehot=4, max_delta_step=0,\n",
       "              max_depth=4, max_leaves=0, min_child_weight=1, missing=nan,\n",
       "              monotone_constraints='()', n_estimators=7, n_jobs=0,\n",
       "              num_parallel_tree=1, predictor='auto', ...)"
      ]
     },
     "execution_count": 34,
     "metadata": {},
     "output_type": "execute_result"
    }
   ],
   "source": [
    "xgb_over = XGBClassifier(\n",
    "                    n_estimators = 7,\n",
    "                    learning_rate = 0.7,\n",
    "                    max_depth = 4,\n",
    "                    scale_pos_weight = 0.4,\n",
    "                    alpha = 5,\n",
    "                    random_state=123)\n",
    "\n",
    "xgb_over.fit(x_train[\"oversampling\"], y_train[\"oversampling\"])"
   ]
  },
  {
   "cell_type": "code",
   "execution_count": 35,
   "metadata": {},
   "outputs": [
    {
     "name": "stdout",
     "output_type": "stream",
     "text": [
      "              precision    recall  f1-score   support\n",
      "\n",
      "           0       0.85      0.85      0.85        75\n",
      "           1       0.56      0.56      0.56        25\n",
      "\n",
      "    accuracy                           0.78       100\n",
      "   macro avg       0.71      0.71      0.71       100\n",
      "weighted avg       0.78      0.78      0.78       100\n",
      "\n"
     ]
    }
   ],
   "source": [
    "y_valid_xgb_pred_over = xgb_over.predict(x_valid)\n",
    "\n",
    "print(classification_report(y_true = y_valid,\n",
    "                            y_pred = y_valid_xgb_pred_over))"
   ]
  },
  {
   "cell_type": "code",
   "execution_count": 36,
   "metadata": {},
   "outputs": [
    {
     "data": {
      "image/png": "[encoded data removed]",
      "text/plain": [
       "<Figure size 432x288 with 2 Axes>"
      ]
     },
     "metadata": {
      "needs_background": "light"
     },
     "output_type": "display_data"
    }
   ],
   "source": [
    "cm_xgb_over = confusion_matrix(y_true = y_valid,\n",
    "                            y_pred = y_valid_xgb_pred_over)\n",
    "\n",
    "disp_4 = ConfusionMatrixDisplay(confusion_matrix=cm_xgb_over,\n",
    "                               display_labels=grad_tree.classes_)\n",
    "\n",
    "disp_cm.append(disp_4)\n",
    "disp_4.plot()\n",
    "plt.show()"
   ]
  },
  {
   "cell_type": "code",
   "execution_count": null,
   "metadata": {},
   "outputs": [],
   "source": [
    "# util.pickle_dump(xgb, config_data['model_params_path'][6])"
   ]
  },
  {
   "cell_type": "markdown",
   "metadata": {},
   "source": [
    "## 4.6. Decision Tree"
   ]
  },
  {
   "cell_type": "code",
   "execution_count": 37,
   "metadata": {},
   "outputs": [
    {
     "data": {
      "text/plain": [
       "0.9194352159468439"
      ]
     },
     "execution_count": 37,
     "metadata": {},
     "output_type": "execute_result"
    }
   ],
   "source": [
    "dt_tree = DecisionTreeClassifier(\n",
    "                                max_depth = 5,\n",
    "                                random_state = 123)\n",
    "\n",
    "dt_tree.fit(x_train[\"smote\"], y_train[\"smote\"])\n",
    "\n",
    "y_dt_pred = dt_tree.predict(x_train[\"smote\"])\n",
    "\n",
    "accuracy_score(y_true=y_train[\"smote\"],\n",
    "               y_pred=y_dt_pred)"
   ]
  },
  {
   "cell_type": "code",
   "execution_count": 38,
   "metadata": {},
   "outputs": [
    {
     "name": "stdout",
     "output_type": "stream",
     "text": [
      "              precision    recall  f1-score   support\n",
      "\n",
      "           0       0.95      0.79      0.86        75\n",
      "           1       0.58      0.88      0.70        25\n",
      "\n",
      "    accuracy                           0.81       100\n",
      "   macro avg       0.77      0.83      0.78       100\n",
      "weighted avg       0.86      0.81      0.82       100\n",
      "\n"
     ]
    }
   ],
   "source": [
    "y_valid_dt_smote = dt_tree.predict(x_valid)\n",
    "\n",
    "print(classification_report(y_true = y_valid,\n",
    "                            y_pred = y_valid_dt_smote))"
   ]
  },
  {
   "cell_type": "code",
   "execution_count": 39,
   "metadata": {
    "scrolled": true
   },
   "outputs": [
    {
     "data": {
      "image/png": "[encoded data removed]",
      "text/plain": [
       "<Figure size 432x288 with 2 Axes>"
      ]
     },
     "metadata": {
      "needs_background": "light"
     },
     "output_type": "display_data"
    }
   ],
   "source": [
    "cm_dt = confusion_matrix(y_true = y_valid,\n",
    "                            y_pred = y_valid_dt_smote)\n",
    "\n",
    "disp_5 = ConfusionMatrixDisplay(confusion_matrix=cm_dt,\n",
    "                               display_labels=grad_tree.classes_)\n",
    "\n",
    "disp_cm.append(disp_5)\n",
    "disp_5.plot()\n",
    "plt.show()"
   ]
  },
  {
   "cell_type": "markdown",
   "metadata": {},
   "source": [
    "## 4.7. ADABOOST"
   ]
  },
  {
   "cell_type": "code",
   "execution_count": 40,
   "metadata": {},
   "outputs": [],
   "source": [
    "    dist_params_ada = {\n",
    "        \"base_estimator\" : [DecisionTreeClassifier(max_depth = 2)],\n",
    "        \"n_estimators\" : [3],\n",
    "        \"learning_rate\" : [0.7],\n",
    "        \"random_state\": [123],\n",
    "    }"
   ]
  },
  {
   "cell_type": "code",
   "execution_count": 94,
   "metadata": {},
   "outputs": [
    {
     "data": {
      "text/plain": [
       "AdaBoostClassifier(base_estimator=DecisionTreeClassifier(max_depth=2),\n",
       "                   learning_rate=0.7, n_estimators=3, random_state=123)"
      ]
     },
     "execution_count": 94,
     "metadata": {},
     "output_type": "execute_result"
    }
   ],
   "source": [
    "ada_over = AdaBoostClassifier(base_estimator = DecisionTreeClassifier(max_depth = 2),\n",
    "                             n_estimators = 3,\n",
    "                             learning_rate = 0.7,\n",
    "                             random_state = 123)\n",
    "\n",
    "ada_over.fit(x_train['oversampling'], y_train['oversampling'])"
   ]
  },
  {
   "cell_type": "code",
   "execution_count": 95,
   "metadata": {},
   "outputs": [
    {
     "name": "stdout",
     "output_type": "stream",
     "text": [
      "              precision    recall  f1-score   support\n",
      "\n",
      "           0       0.97      0.79      0.87        75\n",
      "           1       0.59      0.92      0.72        25\n",
      "\n",
      "    accuracy                           0.82       100\n",
      "   macro avg       0.78      0.85      0.79       100\n",
      "weighted avg       0.87      0.82      0.83       100\n",
      "\n"
     ]
    }
   ],
   "source": [
    "y_valid_ada_over = ada_over.predict(x_valid)\n",
    "\n",
    "print(classification_report(y_true = y_valid,\n",
    "                            y_pred = y_valid_ada_over))"
   ]
  },
  {
   "cell_type": "code",
   "execution_count": 96,
   "metadata": {},
   "outputs": [
    {
     "data": {
      "image/png": "[encoded data removed]",
      "text/plain": [
       "<Figure size 432x288 with 2 Axes>"
      ]
     },
     "metadata": {
      "needs_background": "light"
     },
     "output_type": "display_data"
    }
   ],
   "source": [
    "cm_ada = confusion_matrix(y_true = y_valid,\n",
    "                      y_pred = y_valid_ada_over)\n",
    "\n",
    "disp_6 = ConfusionMatrixDisplay(confusion_matrix=cm_ada,\n",
    "                               display_labels=ada_over.classes_)\n",
    "\n",
    "disp_cm.append(disp_6)\n",
    "disp_6.plot()\n",
    "plt.show()"
   ]
  },
  {
   "cell_type": "markdown",
   "metadata": {},
   "source": [
    "# 5. ROC AUC PLOT"
   ]
  },
  {
   "cell_type": "code",
   "execution_count": 69,
   "metadata": {},
   "outputs": [
    {
     "data": {
      "image/png": "[encoded data removed]",
      "text/plain": [
       "<Figure size 720x576 with 1 Axes>"
      ]
     },
     "metadata": {
      "needs_background": "light"
     },
     "output_type": "display_data"
    }
   ],
   "source": [
    "## Create Proba for all function\n",
    "y_valid_xgb_over_proba = xgb_over.predict_proba(x_valid)\n",
    "y_valid_xgb_smote_proba = xgb_smote.predict_proba(x_valid)\n",
    "y_valid_dt_proba = dt_tree.predict_proba(x_valid)\n",
    "y_valid_ada_over_proba = ada_over.predict_proba(x_valid)\n",
    "y_valid_gb_pred_over_proba = grad_tree.predict_proba(x_valid)\n",
    "y_valid_gb_pred_smote_proba = grad_tree_smote.predict_proba(x_valid)\n",
    "\n",
    "## ROC CURVE Function for create FPR & TPR\n",
    "fpr_xgb_over, tpr_xgb_over, threshold_xgb_over = roc_curve(y_valid,\n",
    "                                         y_valid_xgb_over_proba[:, 1])\n",
    "fpr_xgb_smote, tpr_xgb_smote, threshold_xgb_smote = roc_curve(y_valid,\n",
    "                                         y_valid_xgb_smote_proba[:, 1])\n",
    "fpr_dt, tpr_dt, threshold_dt = roc_curve(y_valid,\n",
    "                                        y_valid_dt_proba[:, 1])\n",
    "fpr_ada_over, tpr_ada_over, threshold_ada_over = roc_curve(y_valid,\n",
    "                                                           y_valid_ada_over_proba[:, 1])\n",
    "fpr_gb_over, tpr_gb_over, threshold_gb_over = roc_curve(y_valid,\n",
    "                                         y_valid_gb_pred_over_proba[:, 1])\n",
    "\n",
    "fpr_gb_smote, tpr_gb_smote, threshold_gb_smote = roc_curve(y_valid,\n",
    "                                         y_valid_gb_pred_smote_proba[:, 1])\n",
    "\n",
    "roc_auc_xgb_over = auc(fpr_xgb_over, tpr_xgb_over)\n",
    "roc_auc_xgb_smote = auc(fpr_xgb_smote, tpr_xgb_smote)\n",
    "roc_auc_dt = auc(fpr_dt, tpr_dt)\n",
    "roc_auc_ada_over = auc(fpr_ada_over, tpr_ada_over)\n",
    "roc_auc_gb_over = auc(fpr_gb_over, tpr_gb_over)\n",
    "roc_auc_gb_smote = auc(fpr_gb_smote, tpr_gb_smote)\n",
    "\n",
    "\n",
    "plt.subplots(figsize=(10,8))\n",
    "plt.title('Receiver Operating Characteristic')\n",
    "\n",
    "plt.plot(fpr_gb_over, tpr_gb_over, 'b', label = 'AUC GradientBoost Oversampling = %0.2f' % roc_auc_gb_over)\n",
    "plt.plot(fpr_gb_smote, tpr_gb_smote, 'g', label = 'AUC GradientBoost Smote = %0.2f' % roc_auc_gb_smote)\n",
    "plt.plot(fpr_xgb_over, tpr_xgb_over, 'k', label = 'AUC XGBoost Oversampling = %0.2f' % roc_auc_xgb_over)\n",
    "plt.plot(fpr_xgb_smote, tpr_xgb_smote, 'r', label = 'AUC XGBoost Smote = %0.2f' % roc_auc_xgb_smote)\n",
    "plt.plot(fpr_dt, tpr_dt, 'y', label = 'AUC DecisionTree = %0.2f' % roc_auc_dt)\n",
    "plt.plot(fpr_ada_over, tpr_ada_over, 'c', label = 'AUC AdaBoost smote = %0.2f' % roc_auc_ada_over)\n",
    "\n",
    "plt.legend(loc = 'lower right')\n",
    "plt.plot([0, 1], [0, 1],'r--')\n",
    "plt.xlim([0, 1])\n",
    "plt.ylim([0, 1])\n",
    "plt.ylabel('True Positive Rate')\n",
    "plt.xlabel('False Positive Rate')\n",
    "plt.show()"
   ]
  },
  {
   "cell_type": "markdown",
   "metadata": {},
   "source": [
    "## 5.1. Confusion Matrix"
   ]
  },
  {
   "cell_type": "code",
   "execution_count": null,
   "metadata": {
    "scrolled": true
   },
   "outputs": [],
   "source": [
    "# fig, axes = plt.subplots(ncols=3, nrows=3, figsize=(15,12), sharex=False, sharey=False)\n",
    "# axes = axes.ravel()\n",
    "# cols = \n",
    "labels = ['gb_over', 'gb_smote', 'xgb_smote', 'xgb_over', 'dt', 'ada']\n",
    "\n",
    "# disp_cm_test = disp_cm.copy()\n",
    "\n",
    "for cm, label in zip(disp_cm, labels):\n",
    "    plt.title(label)\n",
    "    cm.plot()\n",
    "\n",
    "    plt.show()"
   ]
  },
  {
   "cell_type": "markdown",
   "metadata": {},
   "source": [
    "# 6. Hyperparameter Tuning"
   ]
  },
  {
   "cell_type": "markdown",
   "metadata": {},
   "source": [
    "## 6.1 Create Param Distribution"
   ]
  },
  {
   "cell_type": "code",
   "execution_count": 71,
   "metadata": {},
   "outputs": [],
   "source": [
    "def create_dist_params(model_name: str) -> dict:\n",
    "    # Define models paramteres   \n",
    "    dist_params_xgb = {\n",
    "        \"n_estimators\" : [7],\n",
    "        \"learning_rate\" : [0.7],\n",
    "        \"max_depth\" : [4],\n",
    "        \"alpha\" : [5],\n",
    "        \"scale_pos_weight\" : [0.4],\n",
    "    }\n",
    "    dist_params_gb = {\n",
    "        \"max_depth\" : [2],\n",
    "        \"n_estimators\" : [5],\n",
    "        \"learning_rate\" : [0.5],\n",
    "    }\n",
    "    dist_params_ada = {\n",
    "        \"base_estimator\" : [DecisionTreeClassifier(max_depth = 2)],\n",
    "        \"n_estimators\" : [3],\n",
    "        \"learning_rate\" : [0.7],\n",
    "    }\n",
    "    dist_params_dt = {\n",
    "        \"max_depth\" : [5],\n",
    "    }\n",
    "\n",
    "    # Make all models parameters in to one\n",
    "    dist_params = {\n",
    "        \"XGBClassifier\": dist_params_xgb,\n",
    "        \"GradientBoostingClassifier\": dist_params_gb,\n",
    "        \"AdaBoostClassifier\": dist_params_ada,\n",
    "        \"DecisionTreeClassifier\": dist_params_dt\n",
    "    }\n",
    "\n",
    "    # Return distribution of model parameters\n",
    "    return dist_params[model_name]"
   ]
  },
  {
   "cell_type": "code",
   "execution_count": 72,
   "metadata": {},
   "outputs": [],
   "source": [
    "def hyper_params_tuning(model: list) -> list:\n",
    "    # Create copy of current best baseline model\n",
    "    model_list = []\n",
    "    trained_model = [XGBClassifier(),GradientBoostingClassifier(),AdaBoostClassifier(),DecisionTreeClassifier()]\n",
    "    \n",
    "    # Create model object\n",
    "    for col, mod in list(zip(model, trained_model)):\n",
    "        dist_params = create_dist_params(col)\n",
    "        model_rsc = GridSearchCV(mod, dist_params, n_jobs = -1)\n",
    "        model_ = {\n",
    "                        \"model_name\": col,\n",
    "                        \"model_object\": model_rsc,\n",
    "                        \"model_uid\": \"\"\n",
    "                    }\n",
    "            \n",
    "        model_list.append(model_.copy())\n",
    "    \n",
    "    # Return model object\n",
    "    return model_list"
   ]
  },
  {
   "cell_type": "markdown",
   "metadata": {},
   "source": [
    "### 6.2 run debugging"
   ]
  },
  {
   "cell_type": "code",
   "execution_count": null,
   "metadata": {
    "scrolled": true
   },
   "outputs": [],
   "source": [
    "listmodel_ = hyper_params_tuning(['XGBClassifier',\n",
    "                                  'GradientBoostingClassifier', \n",
    "                                  'AdaBoostClassifier',\n",
    "                                  'DecisionTreeClassifier'])\n",
    "\n",
    "listmodel_"
   ]
  },
  {
   "cell_type": "code",
   "execution_count": null,
   "metadata": {},
   "outputs": [],
   "source": [
    "## Sanity Check\n",
    "x_test.shape == x_valid.shape"
   ]
  },
  {
   "cell_type": "markdown",
   "metadata": {},
   "source": [
    "## 6.3 Create Training Function based on Validation"
   ]
  },
  {
   "cell_type": "code",
   "execution_count": 60,
   "metadata": {},
   "outputs": [],
   "source": [
    "def train_eval_valid(configuration_model: str, params: dict, hyperparams_model: list = None):\n",
    "    # Load dataset\n",
    "    # x_train, y_train, \\\n",
    "    # x_valid, y_valid, \\\n",
    "    # x_test, y_test = load_dataset(params)\n",
    "\n",
    "    # Variabel to store trained models\n",
    "    list_of_trained_model = dict()\n",
    "\n",
    "    # Create log template\n",
    "    training_log = training_log_template()\n",
    "\n",
    "    # Training for every data configuration\n",
    "    for config_data in x_train:\n",
    "        # Debug message\n",
    "        util.print_debug(\"Training model based on configuration data: {}\".format(config_data))\n",
    "\n",
    "        # Create model objects\n",
    "        if hyperparams_model == None:\n",
    "            list_of_model = create_model_object(params)\n",
    "        else:\n",
    "            list_of_model = copy.deepcopy(hyperparams_model)\n",
    "\n",
    "        # Variabel to store tained model\n",
    "        trained_model = list()\n",
    "\n",
    "        # Load train data based on its configuration\n",
    "        x_train_data = x_train[config_data]\n",
    "        y_train_data = y_train[config_data]\n",
    "\n",
    "        # Train each model by current dataset configuration\n",
    "        for model in list_of_model:\n",
    "            # Debug message\n",
    "            util.print_debug(\"Training model: {}\".format(model[\"model_name\"]))\n",
    "\n",
    "            # Training\n",
    "            training_time = util.time_stamp()\n",
    "            model[\"model_object\"].fit(x_train_data, y_train_data)\n",
    "            training_time = (util.time_stamp() - training_time).total_seconds()\n",
    "\n",
    "            # Debug message\n",
    "            util.print_debug(\"Evalutaing model: {}\".format(model[\"model_name\"]))\n",
    "\n",
    "            # Evaluation\n",
    "            y_predict = model[\"model_object\"].predict(x_valid)\n",
    "            performance = classification_report(y_valid, y_predict, output_dict = True)\n",
    "\n",
    "            # Debug message\n",
    "            util.print_debug(\"Logging: {}\".format(model[\"model_name\"]))\n",
    "\n",
    "            # Create UID\n",
    "            uid = hashlib.md5(str(training_time).encode()).hexdigest()\n",
    "\n",
    "            # Assign model's UID\n",
    "            model[\"model_uid\"] = uid\n",
    "\n",
    "            # Create training log data\n",
    "            training_log[\"model_name\"].append(\"{}-{}-{}\".format(configuration_model, config_data, model[\"model_name\"]))\n",
    "            training_log[\"model_uid\"].append(uid)\n",
    "            training_log[\"training_time\"].append(training_time)\n",
    "            training_log[\"training_date\"].append(util.time_stamp())\n",
    "            training_log[\"performance\"].append(performance)\n",
    "            training_log[\"f1_score_avg\"].append(performance[\"weighted avg\"][\"recall\"])\n",
    "            training_log[\"data_configurations\"].append(config_data)\n",
    "\n",
    "            # Collect current trained model\n",
    "            trained_model.append(copy.deepcopy(model))\n",
    "\n",
    "            # Debug message\n",
    "            util.print_debug(\"Model {} has been trained for configuration data {}.\".format(model[\"model_name\"], config_data))\n",
    "        \n",
    "        # Collect current trained list of model\n",
    "        list_of_trained_model[config_data] = copy.deepcopy(trained_model)\n",
    "    \n",
    "    \n",
    "    # Debug message\n",
    "    util.print_debug(\"All combination models and configuration data has been trained.\")\n",
    "    \n",
    "    # Return list trained model\n",
    "    return list_of_trained_model, training_log"
   ]
  },
  {
   "cell_type": "markdown",
   "metadata": {},
   "source": [
    "## 6.4 Training model and update Training Logs"
   ]
  },
  {
   "cell_type": "code",
   "execution_count": 73,
   "metadata": {
    "scrolled": true
   },
   "outputs": [
    {
     "name": "stdout",
     "output_type": "stream",
     "text": [
      "2023-01-07 22:15:31.071627 creating training log template.\n",
      "2023-01-07 22:15:31.071627 Training log template created.\n",
      "2023-01-07 22:15:31.071627 Training model based on configuration data: nonbalance\n",
      "2023-01-07 22:15:31.073625 Training model: XGBClassifier\n",
      "2023-01-07 22:15:31.917829 Evalutaing model: XGBClassifier\n",
      "2023-01-07 22:15:31.964822 Logging: XGBClassifier\n",
      "2023-01-07 22:15:31.974823 Model XGBClassifier has been trained for configuration data nonbalance.\n",
      "2023-01-07 22:15:31.974823 Training model: GradientBoostingClassifier\n",
      "2023-01-07 22:15:32.217328 Evalutaing model: GradientBoostingClassifier\n",
      "2023-01-07 22:15:32.237357 Logging: GradientBoostingClassifier\n",
      "2023-01-07 22:15:32.244982 Model GradientBoostingClassifier has been trained for configuration data nonbalance.\n",
      "2023-01-07 22:15:32.244982 Training model: AdaBoostClassifier\n",
      "2023-01-07 22:15:32.498412 Evalutaing model: AdaBoostClassifier\n",
      "2023-01-07 22:15:32.547412 Logging: AdaBoostClassifier\n",
      "2023-01-07 22:15:32.553410 Model AdaBoostClassifier has been trained for configuration data nonbalance.\n",
      "2023-01-07 22:15:32.554412 Training model: DecisionTreeClassifier\n",
      "2023-01-07 22:15:32.725409 Evalutaing model: DecisionTreeClassifier\n",
      "2023-01-07 22:15:32.755412 Logging: DecisionTreeClassifier\n",
      "2023-01-07 22:15:32.759408 Model DecisionTreeClassifier has been trained for configuration data nonbalance.\n",
      "2023-01-07 22:15:32.779409 Training model based on configuration data: smote\n",
      "2023-01-07 22:15:32.782410 Training model: XGBClassifier\n",
      "2023-01-07 22:15:33.735446 Evalutaing model: XGBClassifier\n",
      "2023-01-07 22:15:33.774447 Logging: XGBClassifier\n",
      "2023-01-07 22:15:33.787448 Model XGBClassifier has been trained for configuration data smote.\n",
      "2023-01-07 22:15:33.788446 Training model: GradientBoostingClassifier\n",
      "2023-01-07 22:15:34.422448 Evalutaing model: GradientBoostingClassifier\n",
      "2023-01-07 22:15:34.451450 Logging: GradientBoostingClassifier\n",
      "2023-01-07 22:15:34.458447 Model GradientBoostingClassifier has been trained for configuration data smote.\n",
      "2023-01-07 22:15:34.458447 Training model: AdaBoostClassifier\n",
      "2023-01-07 22:15:35.027451 Evalutaing model: AdaBoostClassifier\n",
      "2023-01-07 22:15:35.054447 Logging: AdaBoostClassifier\n",
      "2023-01-07 22:15:35.058447 Model AdaBoostClassifier has been trained for configuration data smote.\n",
      "2023-01-07 22:15:35.059449 Training model: DecisionTreeClassifier\n",
      "2023-01-07 22:15:35.366225 Evalutaing model: DecisionTreeClassifier\n",
      "2023-01-07 22:15:35.389951 Logging: DecisionTreeClassifier\n",
      "2023-01-07 22:15:35.392951 Model DecisionTreeClassifier has been trained for configuration data smote.\n",
      "2023-01-07 22:15:35.411951 Training model based on configuration data: oversampling\n",
      "2023-01-07 22:15:35.414951 Training model: XGBClassifier\n",
      "2023-01-07 22:15:36.237386 Evalutaing model: XGBClassifier\n",
      "2023-01-07 22:15:36.275386 Logging: XGBClassifier\n",
      "2023-01-07 22:15:36.282386 Model XGBClassifier has been trained for configuration data oversampling.\n",
      "2023-01-07 22:15:36.282386 Training model: GradientBoostingClassifier\n",
      "2023-01-07 22:15:36.728383 Evalutaing model: GradientBoostingClassifier\n",
      "2023-01-07 22:15:36.753812 Logging: GradientBoostingClassifier\n",
      "2023-01-07 22:15:36.759814 Model GradientBoostingClassifier has been trained for configuration data oversampling.\n",
      "2023-01-07 22:15:36.760813 Training model: AdaBoostClassifier\n",
      "2023-01-07 22:15:37.268518 Evalutaing model: AdaBoostClassifier\n",
      "2023-01-07 22:15:37.304518 Logging: AdaBoostClassifier\n",
      "2023-01-07 22:15:37.310520 Model AdaBoostClassifier has been trained for configuration data oversampling.\n",
      "2023-01-07 22:15:37.310520 Training model: DecisionTreeClassifier\n",
      "2023-01-07 22:15:37.756579 Evalutaing model: DecisionTreeClassifier\n",
      "2023-01-07 22:15:37.791583 Logging: DecisionTreeClassifier\n",
      "2023-01-07 22:15:37.795580 Model DecisionTreeClassifier has been trained for configuration data oversampling.\n",
      "2023-01-07 22:15:37.878577 All combination models and configuration data has been trained.\n"
     ]
    }
   ],
   "source": [
    "list_of_trained_model_valid, \\\n",
    "training_log_valid = train_eval_valid(\"Hyperparams\", \n",
    "                                    config_data,\n",
    "                                    hyper_params_tuning(['XGBClassifier',\n",
    "                                                          'GradientBoostingClassifier', \n",
    "                                                          'AdaBoostClassifier',\n",
    "                                                          'DecisionTreeClassifier']))"
   ]
  },
  {
   "cell_type": "markdown",
   "metadata": {},
   "source": [
    "### 6.4.1. Display Best Model"
   ]
  },
  {
   "cell_type": "code",
   "execution_count": 91,
   "metadata": {
    "scrolled": true
   },
   "outputs": [
    {
     "data": {
      "text/html": [
       "<div>\n",
       "<style scoped>\n",
       "    .dataframe tbody tr th:only-of-type {\n",
       "        vertical-align: middle;\n",
       "    }\n",
       "\n",
       "    .dataframe tbody tr th {\n",
       "        vertical-align: top;\n",
       "    }\n",
       "\n",
       "    .dataframe thead th {\n",
       "        text-align: right;\n",
       "    }\n",
       "</style>\n",
       "<table border=\"1\" class=\"dataframe\">\n",
       "  <thead>\n",
       "    <tr style=\"text-align: right;\">\n",
       "      <th></th>\n",
       "      <th>model_name</th>\n",
       "      <th>training_time</th>\n",
       "      <th>performance</th>\n",
       "      <th>f1_score_avg</th>\n",
       "    </tr>\n",
       "  </thead>\n",
       "  <tbody>\n",
       "    <tr>\n",
       "      <th>4</th>\n",
       "      <td>Hyperparams-smote-XGBClassifier</td>\n",
       "      <td>0.952034</td>\n",
       "      <td>{'0': {'precision': 0.8717948717948718, 'recall': 0.9066666666666666, 'f1-score': 0.8888888888888887, 'support': 75}, '1': {'precision': 0.6818181818181818, 'recall': 0.6, 'f1-score': 0.6382978723404256, 'support': 25}, 'accuracy': 0.83, 'macro avg': {'precision': 0.7768065268065267, 'recall': 0.7533333333333333, 'f1-score': 0.7635933806146571, 'support': 100}, 'weighted avg': {'precision': 0.8243006993006994, 'recall': 0.83, 'f1-score': 0.826241134751773, 'support': 100}}</td>\n",
       "      <td>0.83</td>\n",
       "    </tr>\n",
       "    <tr>\n",
       "      <th>9</th>\n",
       "      <td>Hyperparams-oversampling-GradientBoostingClassifier</td>\n",
       "      <td>0.445997</td>\n",
       "      <td>{'0': {'precision': 0.9672131147540983, 'recall': 0.7866666666666666, 'f1-score': 0.8676470588235293, 'support': 75}, '1': {'precision': 0.5897435897435898, 'recall': 0.92, 'f1-score': 0.71875, 'support': 25}, 'accuracy': 0.82, 'macro avg': {'precision': 0.7784783522488441, 'recall': 0.8533333333333333, 'f1-score': 0.7931985294117647, 'support': 100}, 'weighted avg': {'precision': 0.8728457335014713, 'recall': 0.82, 'f1-score': 0.830422794117647, 'support': 100}}</td>\n",
       "      <td>0.82</td>\n",
       "    </tr>\n",
       "    <tr>\n",
       "      <th>10</th>\n",
       "      <td>Hyperparams-oversampling-AdaBoostClassifier</td>\n",
       "      <td>0.507705</td>\n",
       "      <td>{'0': {'precision': 0.9672131147540983, 'recall': 0.7866666666666666, 'f1-score': 0.8676470588235293, 'support': 75}, '1': {'precision': 0.5897435897435898, 'recall': 0.92, 'f1-score': 0.71875, 'support': 25}, 'accuracy': 0.82, 'macro avg': {'precision': 0.7784783522488441, 'recall': 0.8533333333333333, 'f1-score': 0.7931985294117647, 'support': 100}, 'weighted avg': {'precision': 0.8728457335014713, 'recall': 0.82, 'f1-score': 0.830422794117647, 'support': 100}}</td>\n",
       "      <td>0.82</td>\n",
       "    </tr>\n",
       "    <tr>\n",
       "      <th>6</th>\n",
       "      <td>Hyperparams-smote-AdaBoostClassifier</td>\n",
       "      <td>0.569004</td>\n",
       "      <td>{'0': {'precision': 0.9384615384615385, 'recall': 0.8133333333333334, 'f1-score': 0.8714285714285714, 'support': 75}, '1': {'precision': 0.6, 'recall': 0.84, 'f1-score': 0.7000000000000001, 'support': 25}, 'accuracy': 0.82, 'macro avg': {'precision': 0.7692307692307692, 'recall': 0.8266666666666667, 'f1-score': 0.7857142857142858, 'support': 100}, 'weighted avg': {'precision': 0.8538461538461539, 'recall': 0.82, 'f1-score': 0.8285714285714286, 'support': 100}}</td>\n",
       "      <td>0.82</td>\n",
       "    </tr>\n",
       "    <tr>\n",
       "      <th>2</th>\n",
       "      <td>Hyperparams-nonbalance-AdaBoostClassifier</td>\n",
       "      <td>0.252431</td>\n",
       "      <td>{'0': {'precision': 0.9242424242424242, 'recall': 0.8133333333333334, 'f1-score': 0.8652482269503545, 'support': 75}, '1': {'precision': 0.5882352941176471, 'recall': 0.8, 'f1-score': 0.6779661016949153, 'support': 25}, 'accuracy': 0.81, 'macro avg': {'precision': 0.7562388591800356, 'recall': 0.8066666666666666, 'f1-score': 0.771607164322635, 'support': 100}, 'weighted avg': {'precision': 0.8402406417112299, 'recall': 0.81, 'f1-score': 0.8184276956364946, 'support': 100}}</td>\n",
       "      <td>0.81</td>\n",
       "    </tr>\n",
       "    <tr>\n",
       "      <th>5</th>\n",
       "      <td>Hyperparams-smote-GradientBoostingClassifier</td>\n",
       "      <td>0.633001</td>\n",
       "      <td>{'0': {'precision': 0.9375, 'recall': 0.8, 'f1-score': 0.8633093525179856, 'support': 75}, '1': {'precision': 0.5833333333333334, 'recall': 0.84, 'f1-score': 0.6885245901639344, 'support': 25}, 'accuracy': 0.81, 'macro avg': {'precision': 0.7604166666666667, 'recall': 0.8200000000000001, 'f1-score': 0.7759169713409599, 'support': 100}, 'weighted avg': {'precision': 0.8489583333333333, 'recall': 0.81, 'f1-score': 0.8196131619294728, 'support': 100}}</td>\n",
       "      <td>0.81</td>\n",
       "    </tr>\n",
       "    <tr>\n",
       "      <th>3</th>\n",
       "      <td>Hyperparams-nonbalance-DecisionTreeClassifier</td>\n",
       "      <td>0.170997</td>\n",
       "      <td>{'0': {'precision': 0.8767123287671232, 'recall': 0.8533333333333334, 'f1-score': 0.8648648648648648, 'support': 75}, '1': {'precision': 0.5925925925925926, 'recall': 0.64, 'f1-score': 0.6153846153846153, 'support': 25}, 'accuracy': 0.8, 'macro avg': {'precision': 0.7346524606798579, 'recall': 0.7466666666666667, 'f1-score': 0.74012474012474, 'support': 100}, 'weighted avg': {'precision': 0.8056823947234905, 'recall': 0.8, 'f1-score': 0.8024948024948024, 'support': 100}}</td>\n",
       "      <td>0.80</td>\n",
       "    </tr>\n",
       "    <tr>\n",
       "      <th>11</th>\n",
       "      <td>Hyperparams-oversampling-DecisionTreeClassifier</td>\n",
       "      <td>0.446059</td>\n",
       "      <td>{'0': {'precision': 0.9365079365079365, 'recall': 0.7866666666666666, 'f1-score': 0.8550724637681159, 'support': 75}, '1': {'precision': 0.5675675675675675, 'recall': 0.84, 'f1-score': 0.6774193548387097, 'support': 25}, 'accuracy': 0.8, 'macro avg': {'precision': 0.752037752037752, 'recall': 0.8133333333333332, 'f1-score': 0.7662459093034129, 'support': 100}, 'weighted avg': {'precision': 0.8442728442728443, 'recall': 0.8, 'f1-score': 0.8106591865357643, 'support': 100}}</td>\n",
       "      <td>0.80</td>\n",
       "    </tr>\n",
       "    <tr>\n",
       "      <th>7</th>\n",
       "      <td>Hyperparams-smote-DecisionTreeClassifier</td>\n",
       "      <td>0.306592</td>\n",
       "      <td>{'0': {'precision': 0.95, 'recall': 0.76, 'f1-score': 0.8444444444444444, 'support': 75}, '1': {'precision': 0.55, 'recall': 0.88, 'f1-score': 0.676923076923077, 'support': 25}, 'accuracy': 0.79, 'macro avg': {'precision': 0.75, 'recall': 0.8200000000000001, 'f1-score': 0.7606837606837606, 'support': 100}, 'weighted avg': {'precision': 0.85, 'recall': 0.79, 'f1-score': 0.8025641025641026, 'support': 100}}</td>\n",
       "      <td>0.79</td>\n",
       "    </tr>\n",
       "    <tr>\n",
       "      <th>8</th>\n",
       "      <td>Hyperparams-oversampling-XGBClassifier</td>\n",
       "      <td>0.822435</td>\n",
       "      <td>{'0': {'precision': 0.8533333333333334, 'recall': 0.8533333333333334, 'f1-score': 0.8533333333333335, 'support': 75}, '1': {'precision': 0.56, 'recall': 0.56, 'f1-score': 0.56, 'support': 25}, 'accuracy': 0.78, 'macro avg': {'precision': 0.7066666666666668, 'recall': 0.7066666666666668, 'f1-score': 0.7066666666666668, 'support': 100}, 'weighted avg': {'precision': 0.78, 'recall': 0.78, 'f1-score': 0.7800000000000001, 'support': 100}}</td>\n",
       "      <td>0.78</td>\n",
       "    </tr>\n",
       "    <tr>\n",
       "      <th>1</th>\n",
       "      <td>Hyperparams-nonbalance-GradientBoostingClassifier</td>\n",
       "      <td>0.242505</td>\n",
       "      <td>{'0': {'precision': 0.7865168539325843, 'recall': 0.9333333333333333, 'f1-score': 0.853658536585366, 'support': 75}, '1': {'precision': 0.5454545454545454, 'recall': 0.24, 'f1-score': 0.3333333333333333, 'support': 25}, 'accuracy': 0.76, 'macro avg': {'precision': 0.6659856996935649, 'recall': 0.5866666666666667, 'f1-score': 0.5934959349593496, 'support': 100}, 'weighted avg': {'precision': 0.7262512768130747, 'recall': 0.76, 'f1-score': 0.7235772357723578, 'support': 100}}</td>\n",
       "      <td>0.76</td>\n",
       "    </tr>\n",
       "    <tr>\n",
       "      <th>0</th>\n",
       "      <td>Hyperparams-nonbalance-XGBClassifier</td>\n",
       "      <td>0.842204</td>\n",
       "      <td>{'0': {'precision': 0.7659574468085106, 'recall': 0.96, 'f1-score': 0.8520710059171598, 'support': 75}, '1': {'precision': 0.5, 'recall': 0.12, 'f1-score': 0.1935483870967742, 'support': 25}, 'accuracy': 0.75, 'macro avg': {'precision': 0.6329787234042553, 'recall': 0.54, 'f1-score': 0.522809696506967, 'support': 100}, 'weighted avg': {'precision': 0.699468085106383, 'recall': 0.75, 'f1-score': 0.6874403512120634, 'support': 100}}</td>\n",
       "      <td>0.75</td>\n",
       "    </tr>\n",
       "  </tbody>\n",
       "</table>\n",
       "</div>"
      ],
      "text/plain": [
       "                                             model_name  training_time  \\\n",
       "4                       Hyperparams-smote-XGBClassifier       0.952034   \n",
       "9   Hyperparams-oversampling-GradientBoostingClassifier       0.445997   \n",
       "10          Hyperparams-oversampling-AdaBoostClassifier       0.507705   \n",
       "6                  Hyperparams-smote-AdaBoostClassifier       0.569004   \n",
       "2             Hyperparams-nonbalance-AdaBoostClassifier       0.252431   \n",
       "5          Hyperparams-smote-GradientBoostingClassifier       0.633001   \n",
       "3         Hyperparams-nonbalance-DecisionTreeClassifier       0.170997   \n",
       "11      Hyperparams-oversampling-DecisionTreeClassifier       0.446059   \n",
       "7              Hyperparams-smote-DecisionTreeClassifier       0.306592   \n",
       "8                Hyperparams-oversampling-XGBClassifier       0.822435   \n",
       "1     Hyperparams-nonbalance-GradientBoostingClassifier       0.242505   \n",
       "0                  Hyperparams-nonbalance-XGBClassifier       0.842204   \n",
       "\n",
       "                                                                                                                                                                                                                                                                                                                                                                                                                                                                                       performance  \\\n",
       "4    {'0': {'precision': 0.8717948717948718, 'recall': 0.9066666666666666, 'f1-score': 0.8888888888888887, 'support': 75}, '1': {'precision': 0.6818181818181818, 'recall': 0.6, 'f1-score': 0.6382978723404256, 'support': 25}, 'accuracy': 0.83, 'macro avg': {'precision': 0.7768065268065267, 'recall': 0.7533333333333333, 'f1-score': 0.7635933806146571, 'support': 100}, 'weighted avg': {'precision': 0.8243006993006994, 'recall': 0.83, 'f1-score': 0.826241134751773, 'support': 100}}   \n",
       "9              {'0': {'precision': 0.9672131147540983, 'recall': 0.7866666666666666, 'f1-score': 0.8676470588235293, 'support': 75}, '1': {'precision': 0.5897435897435898, 'recall': 0.92, 'f1-score': 0.71875, 'support': 25}, 'accuracy': 0.82, 'macro avg': {'precision': 0.7784783522488441, 'recall': 0.8533333333333333, 'f1-score': 0.7931985294117647, 'support': 100}, 'weighted avg': {'precision': 0.8728457335014713, 'recall': 0.82, 'f1-score': 0.830422794117647, 'support': 100}}   \n",
       "10             {'0': {'precision': 0.9672131147540983, 'recall': 0.7866666666666666, 'f1-score': 0.8676470588235293, 'support': 75}, '1': {'precision': 0.5897435897435898, 'recall': 0.92, 'f1-score': 0.71875, 'support': 25}, 'accuracy': 0.82, 'macro avg': {'precision': 0.7784783522488441, 'recall': 0.8533333333333333, 'f1-score': 0.7931985294117647, 'support': 100}, 'weighted avg': {'precision': 0.8728457335014713, 'recall': 0.82, 'f1-score': 0.830422794117647, 'support': 100}}   \n",
       "6                 {'0': {'precision': 0.9384615384615385, 'recall': 0.8133333333333334, 'f1-score': 0.8714285714285714, 'support': 75}, '1': {'precision': 0.6, 'recall': 0.84, 'f1-score': 0.7000000000000001, 'support': 25}, 'accuracy': 0.82, 'macro avg': {'precision': 0.7692307692307692, 'recall': 0.8266666666666667, 'f1-score': 0.7857142857142858, 'support': 100}, 'weighted avg': {'precision': 0.8538461538461539, 'recall': 0.82, 'f1-score': 0.8285714285714286, 'support': 100}}   \n",
       "2    {'0': {'precision': 0.9242424242424242, 'recall': 0.8133333333333334, 'f1-score': 0.8652482269503545, 'support': 75}, '1': {'precision': 0.5882352941176471, 'recall': 0.8, 'f1-score': 0.6779661016949153, 'support': 25}, 'accuracy': 0.81, 'macro avg': {'precision': 0.7562388591800356, 'recall': 0.8066666666666666, 'f1-score': 0.771607164322635, 'support': 100}, 'weighted avg': {'precision': 0.8402406417112299, 'recall': 0.81, 'f1-score': 0.8184276956364946, 'support': 100}}   \n",
       "5                             {'0': {'precision': 0.9375, 'recall': 0.8, 'f1-score': 0.8633093525179856, 'support': 75}, '1': {'precision': 0.5833333333333334, 'recall': 0.84, 'f1-score': 0.6885245901639344, 'support': 25}, 'accuracy': 0.81, 'macro avg': {'precision': 0.7604166666666667, 'recall': 0.8200000000000001, 'f1-score': 0.7759169713409599, 'support': 100}, 'weighted avg': {'precision': 0.8489583333333333, 'recall': 0.81, 'f1-score': 0.8196131619294728, 'support': 100}}   \n",
       "3      {'0': {'precision': 0.8767123287671232, 'recall': 0.8533333333333334, 'f1-score': 0.8648648648648648, 'support': 75}, '1': {'precision': 0.5925925925925926, 'recall': 0.64, 'f1-score': 0.6153846153846153, 'support': 25}, 'accuracy': 0.8, 'macro avg': {'precision': 0.7346524606798579, 'recall': 0.7466666666666667, 'f1-score': 0.74012474012474, 'support': 100}, 'weighted avg': {'precision': 0.8056823947234905, 'recall': 0.8, 'f1-score': 0.8024948024948024, 'support': 100}}   \n",
       "11    {'0': {'precision': 0.9365079365079365, 'recall': 0.7866666666666666, 'f1-score': 0.8550724637681159, 'support': 75}, '1': {'precision': 0.5675675675675675, 'recall': 0.84, 'f1-score': 0.6774193548387097, 'support': 25}, 'accuracy': 0.8, 'macro avg': {'precision': 0.752037752037752, 'recall': 0.8133333333333332, 'f1-score': 0.7662459093034129, 'support': 100}, 'weighted avg': {'precision': 0.8442728442728443, 'recall': 0.8, 'f1-score': 0.8106591865357643, 'support': 100}}   \n",
       "7                                                                         {'0': {'precision': 0.95, 'recall': 0.76, 'f1-score': 0.8444444444444444, 'support': 75}, '1': {'precision': 0.55, 'recall': 0.88, 'f1-score': 0.676923076923077, 'support': 25}, 'accuracy': 0.79, 'macro avg': {'precision': 0.75, 'recall': 0.8200000000000001, 'f1-score': 0.7606837606837606, 'support': 100}, 'weighted avg': {'precision': 0.85, 'recall': 0.79, 'f1-score': 0.8025641025641026, 'support': 100}}   \n",
       "8                                            {'0': {'precision': 0.8533333333333334, 'recall': 0.8533333333333334, 'f1-score': 0.8533333333333335, 'support': 75}, '1': {'precision': 0.56, 'recall': 0.56, 'f1-score': 0.56, 'support': 25}, 'accuracy': 0.78, 'macro avg': {'precision': 0.7066666666666668, 'recall': 0.7066666666666668, 'f1-score': 0.7066666666666668, 'support': 100}, 'weighted avg': {'precision': 0.78, 'recall': 0.78, 'f1-score': 0.7800000000000001, 'support': 100}}   \n",
       "1   {'0': {'precision': 0.7865168539325843, 'recall': 0.9333333333333333, 'f1-score': 0.853658536585366, 'support': 75}, '1': {'precision': 0.5454545454545454, 'recall': 0.24, 'f1-score': 0.3333333333333333, 'support': 25}, 'accuracy': 0.76, 'macro avg': {'precision': 0.6659856996935649, 'recall': 0.5866666666666667, 'f1-score': 0.5934959349593496, 'support': 100}, 'weighted avg': {'precision': 0.7262512768130747, 'recall': 0.76, 'f1-score': 0.7235772357723578, 'support': 100}}   \n",
       "0                                               {'0': {'precision': 0.7659574468085106, 'recall': 0.96, 'f1-score': 0.8520710059171598, 'support': 75}, '1': {'precision': 0.5, 'recall': 0.12, 'f1-score': 0.1935483870967742, 'support': 25}, 'accuracy': 0.75, 'macro avg': {'precision': 0.6329787234042553, 'recall': 0.54, 'f1-score': 0.522809696506967, 'support': 100}, 'weighted avg': {'precision': 0.699468085106383, 'recall': 0.75, 'f1-score': 0.6874403512120634, 'support': 100}}   \n",
       "\n",
       "    f1_score_avg  \n",
       "4           0.83  \n",
       "9           0.82  \n",
       "10          0.82  \n",
       "6           0.82  \n",
       "2           0.81  \n",
       "5           0.81  \n",
       "3           0.80  \n",
       "11          0.80  \n",
       "7           0.79  \n",
       "8           0.78  \n",
       "1           0.76  \n",
       "0           0.75  "
      ]
     },
     "execution_count": 91,
     "metadata": {},
     "output_type": "execute_result"
    }
   ],
   "source": [
    "pd.set_option('display.max_colwidth', None)\n",
    "# pd.reset_option('display.max_colwidth')\n",
    "pd.DataFrame(training_log_valid)[['model_name',\n",
    "                                 'training_time',\n",
    "                                 'performance',\n",
    "                                 'f1_score_avg']].sort_values([\"f1_score_avg\", \"training_time\"], ascending = [False, True])"
   ]
  },
  {
   "cell_type": "markdown",
   "metadata": {},
   "source": [
    "# 7. Test Data"
   ]
  },
  {
   "cell_type": "markdown",
   "metadata": {},
   "source": [
    "## 7.1 Create ROC Curve based on Test Data"
   ]
  },
  {
   "cell_type": "code",
   "execution_count": 97,
   "metadata": {},
   "outputs": [
    {
     "data": {
      "image/png": "[encoded data removed]",
      "text/plain": [
       "<Figure size 720x576 with 1 Axes>"
      ]
     },
     "metadata": {
      "needs_background": "light"
     },
     "output_type": "display_data"
    }
   ],
   "source": [
    "## Create Proba for all function\n",
    "y_valid_xgb_over_proba = xgb_over.predict_proba(x_test)\n",
    "y_valid_xgb_smote_proba = xgb_smote.predict_proba(x_test)\n",
    "y_valid_dt_proba = dt_tree.predict_proba(x_test)\n",
    "y_valid_ada_over_proba = ada_over.predict_proba(x_test)\n",
    "y_valid_gb_pred_over_proba = grad_tree.predict_proba(x_test)\n",
    "y_valid_gb_pred_smote_proba = grad_tree_smote.predict_proba(x_test)\n",
    "\n",
    "## ROC CURVE Function for create FPR & TPR\n",
    "fpr_xgb_over, tpr_xgb_over, threshold_xgb_over = roc_curve(y_test,\n",
    "                                         y_valid_xgb_over_proba[:, 1])\n",
    "fpr_xgb_smote, tpr_xgb_smote, threshold_xgb_smote = roc_curve(y_test,\n",
    "                                         y_valid_xgb_smote_proba[:, 1])\n",
    "fpr_dt, tpr_dt, threshold_dt = roc_curve(y_test,\n",
    "                                        y_valid_dt_proba[:, 1])\n",
    "fpr_ada_over, tpr_ada_over, threshold_ada_over = roc_curve(y_test,\n",
    "                                                           y_valid_ada_over_proba[:, 1])\n",
    "fpr_gb_over, tpr_gb_over, threshold_gb_over = roc_curve(y_test,\n",
    "                                         y_valid_gb_pred_over_proba[:, 1])\n",
    "\n",
    "fpr_gb_smote, tpr_gb_smote, threshold_gb_smote = roc_curve(y_test,\n",
    "                                         y_valid_gb_pred_smote_proba[:, 1])\n",
    "\n",
    "roc_auc_xgb_over = auc(fpr_xgb_over, tpr_xgb_over)\n",
    "roc_auc_xgb_smote = auc(fpr_xgb_smote, tpr_xgb_smote)\n",
    "roc_auc_dt = auc(fpr_dt, tpr_dt)\n",
    "roc_auc_ada_over = auc(fpr_ada_over, tpr_ada_over)\n",
    "roc_auc_gb_over = auc(fpr_gb_over, tpr_gb_over)\n",
    "roc_auc_gb_smote = auc(fpr_gb_smote, tpr_gb_smote)\n",
    "\n",
    "\n",
    "plt.subplots(figsize=(10,8))\n",
    "plt.title('Receiver Operating Characteristic')\n",
    "\n",
    "plt.plot(fpr_gb_over, tpr_gb_over, 'b', label = 'AUC GradientBoost Oversampling = %0.2f' % roc_auc_gb_over)\n",
    "plt.plot(fpr_gb_smote, tpr_gb_smote, 'g', label = 'AUC GradientBoost Smote = %0.2f' % roc_auc_gb_smote)\n",
    "plt.plot(fpr_xgb_over, tpr_xgb_over, 'k', label = 'AUC XGBoost Oversampling = %0.2f' % roc_auc_xgb_over)\n",
    "plt.plot(fpr_xgb_smote, tpr_xgb_smote, 'r', label = 'AUC XGBoost Smote = %0.2f' % roc_auc_xgb_smote)\n",
    "plt.plot(fpr_dt, tpr_dt, 'y', label = 'AUC DecisionTree = %0.2f' % roc_auc_dt)\n",
    "plt.plot(fpr_ada_over, tpr_ada_over, 'c', label = 'AUC AdaBoost smote = %0.2f' % roc_auc_ada_over)\n",
    "\n",
    "plt.legend(loc = 'lower right')\n",
    "plt.plot([0, 1], [0, 1],'r--')\n",
    "plt.xlim([0, 1])\n",
    "plt.ylim([0, 1])\n",
    "plt.ylabel('True Positive Rate')\n",
    "plt.xlabel('False Positive Rate')\n",
    "plt.show()"
   ]
  },
  {
   "cell_type": "markdown",
   "metadata": {},
   "source": [
    "## 7.2 Create Function to Eval Test Data"
   ]
  },
  {
   "cell_type": "code",
   "execution_count": 63,
   "metadata": {},
   "outputs": [],
   "source": [
    "def train_eval_test(configuration_model: str, params: dict, hyperparams_model: list = None):\n",
    "\n",
    "    # Variabel to store trained models\n",
    "    list_of_trained_model = dict()\n",
    "\n",
    "    # Create log template\n",
    "    training_log = training_log_template()\n",
    "\n",
    "    # Training for every data configuration\n",
    "    for config_data in x_train:\n",
    "        # Debug message\n",
    "        util.print_debug(\"Training model based on configuration data: {}\".format(config_data))\n",
    "\n",
    "        # Create model objects\n",
    "        if hyperparams_model == None:\n",
    "            list_of_model = create_model_object(params)\n",
    "        else:\n",
    "            list_of_model = copy.deepcopy(hyperparams_model)\n",
    "\n",
    "        # Variabel to store tained model\n",
    "        trained_model = list()\n",
    "\n",
    "        # Load train data based on its configuration\n",
    "        x_train_data = x_train[config_data]\n",
    "        y_train_data = y_train[config_data]\n",
    "\n",
    "        # Train each model by current dataset configuration\n",
    "        for model in list_of_model:\n",
    "            # Debug message\n",
    "            util.print_debug(\"Training model: {}\".format(model[\"model_name\"]))\n",
    "\n",
    "            # Training\n",
    "            training_time = util.time_stamp()\n",
    "            model[\"model_object\"].fit(x_train_data, y_train_data)\n",
    "            training_time = (util.time_stamp() - training_time).total_seconds()\n",
    "\n",
    "            # Debug message\n",
    "            util.print_debug(\"Evalutaing model: {}\".format(model[\"model_name\"]))\n",
    "\n",
    "            # Evaluation\n",
    "            y_predict = model[\"model_object\"].predict(x_test)\n",
    "            performance = classification_report(y_test, y_predict, output_dict = True)\n",
    "\n",
    "            # Debug message\n",
    "            util.print_debug(\"Logging: {}\".format(model[\"model_name\"]))\n",
    "\n",
    "            # Create UID\n",
    "            uid = hashlib.md5(str(training_time).encode()).hexdigest()\n",
    "\n",
    "            # Assign model's UID\n",
    "            model[\"model_uid\"] = uid\n",
    "\n",
    "            # Create training log data\n",
    "            training_log[\"model_name\"].append(\"{}-{}-{}\".format(configuration_model, config_data, model[\"model_name\"]))\n",
    "            training_log[\"model_uid\"].append(uid)\n",
    "            training_log[\"training_time\"].append(training_time)\n",
    "            training_log[\"training_date\"].append(util.time_stamp())\n",
    "            training_log[\"performance\"].append(performance)\n",
    "            training_log[\"f1_score_avg\"].append(performance[\"weighted avg\"][\"recall\"])\n",
    "            training_log[\"data_configurations\"].append(config_data)\n",
    "\n",
    "            # Collect current trained model\n",
    "            trained_model.append(copy.deepcopy(model))\n",
    "\n",
    "            # Debug message\n",
    "            util.print_debug(\"Model {} has been trained for configuration data {}.\".format(model[\"model_name\"], config_data))\n",
    "        \n",
    "        # Collect current trained list of model\n",
    "        list_of_trained_model[config_data] = copy.deepcopy(trained_model)\n",
    "    \n",
    "    \n",
    "    # Debug message\n",
    "    util.print_debug(\"All combination models and configuration data has been trained.\")\n",
    "    \n",
    "    # Return list trained model\n",
    "    return list_of_trained_model, training_log"
   ]
  },
  {
   "cell_type": "markdown",
   "metadata": {},
   "source": [
    "## 7.3 Training Dataset and Update Training Logs"
   ]
  },
  {
   "cell_type": "code",
   "execution_count": 75,
   "metadata": {
    "scrolled": true
   },
   "outputs": [
    {
     "name": "stdout",
     "output_type": "stream",
     "text": [
      "2023-01-07 22:16:01.574957 creating training log template.\n",
      "2023-01-07 22:16:01.575956 Training log template created.\n",
      "2023-01-07 22:16:01.575956 Training model based on configuration data: nonbalance\n",
      "2023-01-07 22:16:01.577959 Training model: XGBClassifier\n",
      "2023-01-07 22:16:02.180261 Evalutaing model: XGBClassifier\n",
      "2023-01-07 22:16:02.232262 Logging: XGBClassifier\n",
      "2023-01-07 22:16:02.244276 Model XGBClassifier has been trained for configuration data nonbalance.\n",
      "2023-01-07 22:16:02.244276 Training model: GradientBoostingClassifier\n",
      "2023-01-07 22:16:02.539229 Evalutaing model: GradientBoostingClassifier\n",
      "2023-01-07 22:16:02.562647 Logging: GradientBoostingClassifier\n",
      "2023-01-07 22:16:02.569643 Model GradientBoostingClassifier has been trained for configuration data nonbalance.\n",
      "2023-01-07 22:16:02.569643 Training model: AdaBoostClassifier\n",
      "2023-01-07 22:16:02.815179 Evalutaing model: AdaBoostClassifier\n",
      "2023-01-07 22:16:02.840880 Logging: AdaBoostClassifier\n",
      "2023-01-07 22:16:02.844880 Model AdaBoostClassifier has been trained for configuration data nonbalance.\n",
      "2023-01-07 22:16:02.845875 Training model: DecisionTreeClassifier\n",
      "2023-01-07 22:16:03.026638 Evalutaing model: DecisionTreeClassifier\n",
      "2023-01-07 22:16:03.051639 Logging: DecisionTreeClassifier\n",
      "2023-01-07 22:16:03.054641 Model DecisionTreeClassifier has been trained for configuration data nonbalance.\n",
      "2023-01-07 22:16:03.082638 Training model based on configuration data: smote\n",
      "2023-01-07 22:16:03.085638 Training model: XGBClassifier\n",
      "2023-01-07 22:16:03.985798 Evalutaing model: XGBClassifier\n",
      "2023-01-07 22:16:04.026795 Logging: XGBClassifier\n",
      "2023-01-07 22:16:04.033796 Model XGBClassifier has been trained for configuration data smote.\n",
      "2023-01-07 22:16:04.033796 Training model: GradientBoostingClassifier\n",
      "2023-01-07 22:16:04.543477 Evalutaing model: GradientBoostingClassifier\n",
      "2023-01-07 22:16:04.571479 Logging: GradientBoostingClassifier\n",
      "2023-01-07 22:16:04.579473 Model GradientBoostingClassifier has been trained for configuration data smote.\n",
      "2023-01-07 22:16:04.580475 Training model: AdaBoostClassifier\n",
      "2023-01-07 22:16:05.082311 Evalutaing model: AdaBoostClassifier\n",
      "2023-01-07 22:16:05.114311 Logging: AdaBoostClassifier\n",
      "2023-01-07 22:16:05.120311 Model AdaBoostClassifier has been trained for configuration data smote.\n",
      "2023-01-07 22:16:05.121312 Training model: DecisionTreeClassifier\n",
      "2023-01-07 22:16:05.455212 Evalutaing model: DecisionTreeClassifier\n",
      "2023-01-07 22:16:05.476772 Logging: DecisionTreeClassifier\n",
      "2023-01-07 22:16:05.479775 Model DecisionTreeClassifier has been trained for configuration data smote.\n",
      "2023-01-07 22:16:05.496357 Training model based on configuration data: oversampling\n",
      "2023-01-07 22:16:05.499358 Training model: XGBClassifier\n",
      "2023-01-07 22:16:06.418186 Evalutaing model: XGBClassifier\n",
      "2023-01-07 22:16:06.462186 Logging: XGBClassifier\n",
      "2023-01-07 22:16:06.470186 Model XGBClassifier has been trained for configuration data oversampling.\n",
      "2023-01-07 22:16:06.470186 Training model: GradientBoostingClassifier\n",
      "2023-01-07 22:16:06.941990 Evalutaing model: GradientBoostingClassifier\n",
      "2023-01-07 22:16:06.993974 Logging: GradientBoostingClassifier\n",
      "2023-01-07 22:16:06.999974 Model GradientBoostingClassifier has been trained for configuration data oversampling.\n",
      "2023-01-07 22:16:07.002974 Training model: AdaBoostClassifier\n",
      "2023-01-07 22:16:07.442014 Evalutaing model: AdaBoostClassifier\n",
      "2023-01-07 22:16:07.469017 Logging: AdaBoostClassifier\n",
      "2023-01-07 22:16:07.475012 Model AdaBoostClassifier has been trained for configuration data oversampling.\n",
      "2023-01-07 22:16:07.475012 Training model: DecisionTreeClassifier\n",
      "2023-01-07 22:16:07.799011 Evalutaing model: DecisionTreeClassifier\n",
      "2023-01-07 22:16:07.821442 Logging: DecisionTreeClassifier\n",
      "2023-01-07 22:16:07.823442 Model DecisionTreeClassifier has been trained for configuration data oversampling.\n",
      "2023-01-07 22:16:07.841441 All combination models and configuration data has been trained.\n"
     ]
    }
   ],
   "source": [
    "list_of_trained_model_test, \\\n",
    "training_log_test = train_eval_test(\"Hyperparams\", \n",
    "                                    config_data,\n",
    "                                    hyper_params_tuning(['XGBClassifier',\n",
    "                                                          'GradientBoostingClassifier', \n",
    "                                                          'AdaBoostClassifier',\n",
    "                                                          'DecisionTreeClassifier']))"
   ]
  },
  {
   "cell_type": "markdown",
   "metadata": {},
   "source": [
    "## 7.4 Check Best Model"
   ]
  },
  {
   "cell_type": "code",
   "execution_count": 93,
   "metadata": {
    "scrolled": true
   },
   "outputs": [
    {
     "data": {
      "text/html": [
       "<div>\n",
       "<style scoped>\n",
       "    .dataframe tbody tr th:only-of-type {\n",
       "        vertical-align: middle;\n",
       "    }\n",
       "\n",
       "    .dataframe tbody tr th {\n",
       "        vertical-align: top;\n",
       "    }\n",
       "\n",
       "    .dataframe thead th {\n",
       "        text-align: right;\n",
       "    }\n",
       "</style>\n",
       "<table border=\"1\" class=\"dataframe\">\n",
       "  <thead>\n",
       "    <tr style=\"text-align: right;\">\n",
       "      <th></th>\n",
       "      <th>model_name</th>\n",
       "      <th>training_time</th>\n",
       "      <th>performance</th>\n",
       "      <th>f1_score_avg</th>\n",
       "    </tr>\n",
       "  </thead>\n",
       "  <tbody>\n",
       "    <tr>\n",
       "      <th>5</th>\n",
       "      <td>Hyperparams-smote-GradientBoostingClassifier</td>\n",
       "      <td>0.509681</td>\n",
       "      <td>{'0': {'precision': 0.9333333333333333, 'recall': 0.9210526315789473, 'f1-score': 0.9271523178807947, 'support': 76}, '1': {'precision': 0.76, 'recall': 0.7916666666666666, 'f1-score': 0.7755102040816326, 'support': 24}, 'accuracy': 0.89, 'macro avg': {'precision': 0.8466666666666667, 'recall': 0.8563596491228069, 'f1-score': 0.8513312609812136, 'support': 100}, 'weighted avg': {'precision': 0.8917333333333335, 'recall': 0.89, 'f1-score': 0.8907582105689958, 'support': 100}}</td>\n",
       "      <td>0.89</td>\n",
       "    </tr>\n",
       "    <tr>\n",
       "      <th>10</th>\n",
       "      <td>Hyperparams-oversampling-AdaBoostClassifier</td>\n",
       "      <td>0.439040</td>\n",
       "      <td>{'0': {'precision': 0.9315068493150684, 'recall': 0.8947368421052632, 'f1-score': 0.912751677852349, 'support': 76}, '1': {'precision': 0.7037037037037037, 'recall': 0.7916666666666666, 'f1-score': 0.7450980392156864, 'support': 24}, 'accuracy': 0.87, 'macro avg': {'precision': 0.8176052765093861, 'recall': 0.8432017543859649, 'f1-score': 0.8289248585340177, 'support': 100}, 'weighted avg': {'precision': 0.8768340943683408, 'recall': 0.87, 'f1-score': 0.87251480457955, 'support': 100}}</td>\n",
       "      <td>0.87</td>\n",
       "    </tr>\n",
       "    <tr>\n",
       "      <th>9</th>\n",
       "      <td>Hyperparams-oversampling-GradientBoostingClassifier</td>\n",
       "      <td>0.470805</td>\n",
       "      <td>{'0': {'precision': 0.9315068493150684, 'recall': 0.8947368421052632, 'f1-score': 0.912751677852349, 'support': 76}, '1': {'precision': 0.7037037037037037, 'recall': 0.7916666666666666, 'f1-score': 0.7450980392156864, 'support': 24}, 'accuracy': 0.87, 'macro avg': {'precision': 0.8176052765093861, 'recall': 0.8432017543859649, 'f1-score': 0.8289248585340177, 'support': 100}, 'weighted avg': {'precision': 0.8768340943683408, 'recall': 0.87, 'f1-score': 0.87251480457955, 'support': 100}}</td>\n",
       "      <td>0.87</td>\n",
       "    </tr>\n",
       "    <tr>\n",
       "      <th>7</th>\n",
       "      <td>Hyperparams-smote-DecisionTreeClassifier</td>\n",
       "      <td>0.333900</td>\n",
       "      <td>{'0': {'precision': 0.918918918918919, 'recall': 0.8947368421052632, 'f1-score': 0.9066666666666667, 'support': 76}, '1': {'precision': 0.6923076923076923, 'recall': 0.75, 'f1-score': 0.7199999999999999, 'support': 24}, 'accuracy': 0.86, 'macro avg': {'precision': 0.8056133056133057, 'recall': 0.8223684210526316, 'f1-score': 0.8133333333333332, 'support': 100}, 'weighted avg': {'precision': 0.8645322245322246, 'recall': 0.86, 'f1-score': 0.8618666666666667, 'support': 100}}</td>\n",
       "      <td>0.86</td>\n",
       "    </tr>\n",
       "    <tr>\n",
       "      <th>6</th>\n",
       "      <td>Hyperparams-smote-AdaBoostClassifier</td>\n",
       "      <td>0.501836</td>\n",
       "      <td>{'0': {'precision': 0.875, 'recall': 0.9210526315789473, 'f1-score': 0.8974358974358975, 'support': 76}, '1': {'precision': 0.7, 'recall': 0.5833333333333334, 'f1-score': 0.6363636363636365, 'support': 24}, 'accuracy': 0.84, 'macro avg': {'precision': 0.7875, 'recall': 0.7521929824561404, 'f1-score': 0.766899766899767, 'support': 100}, 'weighted avg': {'precision': 0.833, 'recall': 0.84, 'f1-score': 0.8347785547785549, 'support': 100}}</td>\n",
       "      <td>0.84</td>\n",
       "    </tr>\n",
       "    <tr>\n",
       "      <th>2</th>\n",
       "      <td>Hyperparams-nonbalance-AdaBoostClassifier</td>\n",
       "      <td>0.243534</td>\n",
       "      <td>{'0': {'precision': 0.8641975308641975, 'recall': 0.9210526315789473, 'f1-score': 0.89171974522293, 'support': 76}, '1': {'precision': 0.6842105263157895, 'recall': 0.5416666666666666, 'f1-score': 0.6046511627906976, 'support': 24}, 'accuracy': 0.83, 'macro avg': {'precision': 0.7742040285899935, 'recall': 0.7313596491228069, 'f1-score': 0.7481854540068138, 'support': 100}, 'weighted avg': {'precision': 0.8210006497725796, 'recall': 0.83, 'f1-score': 0.8228232854391941, 'support': 100}}</td>\n",
       "      <td>0.83</td>\n",
       "    </tr>\n",
       "    <tr>\n",
       "      <th>4</th>\n",
       "      <td>Hyperparams-smote-XGBClassifier</td>\n",
       "      <td>0.899158</td>\n",
       "      <td>{'0': {'precision': 0.8641975308641975, 'recall': 0.9210526315789473, 'f1-score': 0.89171974522293, 'support': 76}, '1': {'precision': 0.6842105263157895, 'recall': 0.5416666666666666, 'f1-score': 0.6046511627906976, 'support': 24}, 'accuracy': 0.83, 'macro avg': {'precision': 0.7742040285899935, 'recall': 0.7313596491228069, 'f1-score': 0.7481854540068138, 'support': 100}, 'weighted avg': {'precision': 0.8210006497725796, 'recall': 0.83, 'f1-score': 0.8228232854391941, 'support': 100}}</td>\n",
       "      <td>0.83</td>\n",
       "    </tr>\n",
       "    <tr>\n",
       "      <th>3</th>\n",
       "      <td>Hyperparams-nonbalance-DecisionTreeClassifier</td>\n",
       "      <td>0.180763</td>\n",
       "      <td>{'0': {'precision': 0.8625, 'recall': 0.9078947368421053, 'f1-score': 0.8846153846153847, 'support': 76}, '1': {'precision': 0.65, 'recall': 0.5416666666666666, 'f1-score': 0.5909090909090908, 'support': 24}, 'accuracy': 0.82, 'macro avg': {'precision': 0.7562500000000001, 'recall': 0.7247807017543859, 'f1-score': 0.7377622377622377, 'support': 100}, 'weighted avg': {'precision': 0.8115000000000001, 'recall': 0.82, 'f1-score': 0.8141258741258741, 'support': 100}}</td>\n",
       "      <td>0.82</td>\n",
       "    </tr>\n",
       "    <tr>\n",
       "      <th>8</th>\n",
       "      <td>Hyperparams-oversampling-XGBClassifier</td>\n",
       "      <td>0.917828</td>\n",
       "      <td>{'0': {'precision': 0.8717948717948718, 'recall': 0.8947368421052632, 'f1-score': 0.8831168831168831, 'support': 76}, '1': {'precision': 0.6363636363636364, 'recall': 0.5833333333333334, 'f1-score': 0.6086956521739131, 'support': 24}, 'accuracy': 0.82, 'macro avg': {'precision': 0.754079254079254, 'recall': 0.7390350877192983, 'f1-score': 0.745906267645398, 'support': 100}, 'weighted avg': {'precision': 0.8152913752913753, 'recall': 0.82, 'f1-score': 0.8172557876905703, 'support': 100}}</td>\n",
       "      <td>0.82</td>\n",
       "    </tr>\n",
       "    <tr>\n",
       "      <th>11</th>\n",
       "      <td>Hyperparams-oversampling-DecisionTreeClassifier</td>\n",
       "      <td>0.323999</td>\n",
       "      <td>{'0': {'precision': 0.9, 'recall': 0.8289473684210527, 'f1-score': 0.8630136986301371, 'support': 76}, '1': {'precision': 0.5666666666666667, 'recall': 0.7083333333333334, 'f1-score': 0.6296296296296297, 'support': 24}, 'accuracy': 0.8, 'macro avg': {'precision': 0.7333333333333334, 'recall': 0.7686403508771931, 'f1-score': 0.7463216641298833, 'support': 100}, 'weighted avg': {'precision': 0.82, 'recall': 0.8, 'f1-score': 0.8070015220700154, 'support': 100}}</td>\n",
       "      <td>0.80</td>\n",
       "    </tr>\n",
       "    <tr>\n",
       "      <th>1</th>\n",
       "      <td>Hyperparams-nonbalance-GradientBoostingClassifier</td>\n",
       "      <td>0.292970</td>\n",
       "      <td>{'0': {'precision': 0.7659574468085106, 'recall': 0.9473684210526315, 'f1-score': 0.8470588235294116, 'support': 76}, '1': {'precision': 0.3333333333333333, 'recall': 0.08333333333333333, 'f1-score': 0.13333333333333333, 'support': 24}, 'accuracy': 0.74, 'macro avg': {'precision': 0.549645390070922, 'recall': 0.5153508771929824, 'f1-score': 0.4901960784313725, 'support': 100}, 'weighted avg': {'precision': 0.6621276595744681, 'recall': 0.74, 'f1-score': 0.6757647058823528, 'support': 100}}</td>\n",
       "      <td>0.74</td>\n",
       "    </tr>\n",
       "    <tr>\n",
       "      <th>0</th>\n",
       "      <td>Hyperparams-nonbalance-XGBClassifier</td>\n",
       "      <td>0.601304</td>\n",
       "      <td>{'0': {'precision': 0.7551020408163265, 'recall': 0.9736842105263158, 'f1-score': 0.8505747126436782, 'support': 76}, '1': {'precision': 0.0, 'recall': 0.0, 'f1-score': 0.0, 'support': 24}, 'accuracy': 0.74, 'macro avg': {'precision': 0.37755102040816324, 'recall': 0.4868421052631579, 'f1-score': 0.4252873563218391, 'support': 100}, 'weighted avg': {'precision': 0.5738775510204082, 'recall': 0.74, 'f1-score': 0.6464367816091955, 'support': 100}}</td>\n",
       "      <td>0.74</td>\n",
       "    </tr>\n",
       "  </tbody>\n",
       "</table>\n",
       "</div>"
      ],
      "text/plain": [
       "                                             model_name  training_time  \\\n",
       "5          Hyperparams-smote-GradientBoostingClassifier       0.509681   \n",
       "10          Hyperparams-oversampling-AdaBoostClassifier       0.439040   \n",
       "9   Hyperparams-oversampling-GradientBoostingClassifier       0.470805   \n",
       "7              Hyperparams-smote-DecisionTreeClassifier       0.333900   \n",
       "6                  Hyperparams-smote-AdaBoostClassifier       0.501836   \n",
       "2             Hyperparams-nonbalance-AdaBoostClassifier       0.243534   \n",
       "4                       Hyperparams-smote-XGBClassifier       0.899158   \n",
       "3         Hyperparams-nonbalance-DecisionTreeClassifier       0.180763   \n",
       "8                Hyperparams-oversampling-XGBClassifier       0.917828   \n",
       "11      Hyperparams-oversampling-DecisionTreeClassifier       0.323999   \n",
       "1     Hyperparams-nonbalance-GradientBoostingClassifier       0.292970   \n",
       "0                  Hyperparams-nonbalance-XGBClassifier       0.601304   \n",
       "\n",
       "                                                                                                                                                                                                                                                                                                                                                                                                                                                                                                       performance  \\\n",
       "5                  {'0': {'precision': 0.9333333333333333, 'recall': 0.9210526315789473, 'f1-score': 0.9271523178807947, 'support': 76}, '1': {'precision': 0.76, 'recall': 0.7916666666666666, 'f1-score': 0.7755102040816326, 'support': 24}, 'accuracy': 0.89, 'macro avg': {'precision': 0.8466666666666667, 'recall': 0.8563596491228069, 'f1-score': 0.8513312609812136, 'support': 100}, 'weighted avg': {'precision': 0.8917333333333335, 'recall': 0.89, 'f1-score': 0.8907582105689958, 'support': 100}}   \n",
       "10      {'0': {'precision': 0.9315068493150684, 'recall': 0.8947368421052632, 'f1-score': 0.912751677852349, 'support': 76}, '1': {'precision': 0.7037037037037037, 'recall': 0.7916666666666666, 'f1-score': 0.7450980392156864, 'support': 24}, 'accuracy': 0.87, 'macro avg': {'precision': 0.8176052765093861, 'recall': 0.8432017543859649, 'f1-score': 0.8289248585340177, 'support': 100}, 'weighted avg': {'precision': 0.8768340943683408, 'recall': 0.87, 'f1-score': 0.87251480457955, 'support': 100}}   \n",
       "9       {'0': {'precision': 0.9315068493150684, 'recall': 0.8947368421052632, 'f1-score': 0.912751677852349, 'support': 76}, '1': {'precision': 0.7037037037037037, 'recall': 0.7916666666666666, 'f1-score': 0.7450980392156864, 'support': 24}, 'accuracy': 0.87, 'macro avg': {'precision': 0.8176052765093861, 'recall': 0.8432017543859649, 'f1-score': 0.8289248585340177, 'support': 100}, 'weighted avg': {'precision': 0.8768340943683408, 'recall': 0.87, 'f1-score': 0.87251480457955, 'support': 100}}   \n",
       "7                   {'0': {'precision': 0.918918918918919, 'recall': 0.8947368421052632, 'f1-score': 0.9066666666666667, 'support': 76}, '1': {'precision': 0.6923076923076923, 'recall': 0.75, 'f1-score': 0.7199999999999999, 'support': 24}, 'accuracy': 0.86, 'macro avg': {'precision': 0.8056133056133057, 'recall': 0.8223684210526316, 'f1-score': 0.8133333333333332, 'support': 100}, 'weighted avg': {'precision': 0.8645322245322246, 'recall': 0.86, 'f1-score': 0.8618666666666667, 'support': 100}}   \n",
       "6                                                          {'0': {'precision': 0.875, 'recall': 0.9210526315789473, 'f1-score': 0.8974358974358975, 'support': 76}, '1': {'precision': 0.7, 'recall': 0.5833333333333334, 'f1-score': 0.6363636363636365, 'support': 24}, 'accuracy': 0.84, 'macro avg': {'precision': 0.7875, 'recall': 0.7521929824561404, 'f1-score': 0.766899766899767, 'support': 100}, 'weighted avg': {'precision': 0.833, 'recall': 0.84, 'f1-score': 0.8347785547785549, 'support': 100}}   \n",
       "2      {'0': {'precision': 0.8641975308641975, 'recall': 0.9210526315789473, 'f1-score': 0.89171974522293, 'support': 76}, '1': {'precision': 0.6842105263157895, 'recall': 0.5416666666666666, 'f1-score': 0.6046511627906976, 'support': 24}, 'accuracy': 0.83, 'macro avg': {'precision': 0.7742040285899935, 'recall': 0.7313596491228069, 'f1-score': 0.7481854540068138, 'support': 100}, 'weighted avg': {'precision': 0.8210006497725796, 'recall': 0.83, 'f1-score': 0.8228232854391941, 'support': 100}}   \n",
       "4      {'0': {'precision': 0.8641975308641975, 'recall': 0.9210526315789473, 'f1-score': 0.89171974522293, 'support': 76}, '1': {'precision': 0.6842105263157895, 'recall': 0.5416666666666666, 'f1-score': 0.6046511627906976, 'support': 24}, 'accuracy': 0.83, 'macro avg': {'precision': 0.7742040285899935, 'recall': 0.7313596491228069, 'f1-score': 0.7481854540068138, 'support': 100}, 'weighted avg': {'precision': 0.8210006497725796, 'recall': 0.83, 'f1-score': 0.8228232854391941, 'support': 100}}   \n",
       "3                              {'0': {'precision': 0.8625, 'recall': 0.9078947368421053, 'f1-score': 0.8846153846153847, 'support': 76}, '1': {'precision': 0.65, 'recall': 0.5416666666666666, 'f1-score': 0.5909090909090908, 'support': 24}, 'accuracy': 0.82, 'macro avg': {'precision': 0.7562500000000001, 'recall': 0.7247807017543859, 'f1-score': 0.7377622377622377, 'support': 100}, 'weighted avg': {'precision': 0.8115000000000001, 'recall': 0.82, 'f1-score': 0.8141258741258741, 'support': 100}}   \n",
       "8      {'0': {'precision': 0.8717948717948718, 'recall': 0.8947368421052632, 'f1-score': 0.8831168831168831, 'support': 76}, '1': {'precision': 0.6363636363636364, 'recall': 0.5833333333333334, 'f1-score': 0.6086956521739131, 'support': 24}, 'accuracy': 0.82, 'macro avg': {'precision': 0.754079254079254, 'recall': 0.7390350877192983, 'f1-score': 0.745906267645398, 'support': 100}, 'weighted avg': {'precision': 0.8152913752913753, 'recall': 0.82, 'f1-score': 0.8172557876905703, 'support': 100}}   \n",
       "11                                  {'0': {'precision': 0.9, 'recall': 0.8289473684210527, 'f1-score': 0.8630136986301371, 'support': 76}, '1': {'precision': 0.5666666666666667, 'recall': 0.7083333333333334, 'f1-score': 0.6296296296296297, 'support': 24}, 'accuracy': 0.8, 'macro avg': {'precision': 0.7333333333333334, 'recall': 0.7686403508771931, 'f1-score': 0.7463216641298833, 'support': 100}, 'weighted avg': {'precision': 0.82, 'recall': 0.8, 'f1-score': 0.8070015220700154, 'support': 100}}   \n",
       "1   {'0': {'precision': 0.7659574468085106, 'recall': 0.9473684210526315, 'f1-score': 0.8470588235294116, 'support': 76}, '1': {'precision': 0.3333333333333333, 'recall': 0.08333333333333333, 'f1-score': 0.13333333333333333, 'support': 24}, 'accuracy': 0.74, 'macro avg': {'precision': 0.549645390070922, 'recall': 0.5153508771929824, 'f1-score': 0.4901960784313725, 'support': 100}, 'weighted avg': {'precision': 0.6621276595744681, 'recall': 0.74, 'f1-score': 0.6757647058823528, 'support': 100}}   \n",
       "0                                                {'0': {'precision': 0.7551020408163265, 'recall': 0.9736842105263158, 'f1-score': 0.8505747126436782, 'support': 76}, '1': {'precision': 0.0, 'recall': 0.0, 'f1-score': 0.0, 'support': 24}, 'accuracy': 0.74, 'macro avg': {'precision': 0.37755102040816324, 'recall': 0.4868421052631579, 'f1-score': 0.4252873563218391, 'support': 100}, 'weighted avg': {'precision': 0.5738775510204082, 'recall': 0.74, 'f1-score': 0.6464367816091955, 'support': 100}}   \n",
       "\n",
       "    f1_score_avg  \n",
       "5           0.89  \n",
       "10          0.87  \n",
       "9           0.87  \n",
       "7           0.86  \n",
       "6           0.84  \n",
       "2           0.83  \n",
       "4           0.83  \n",
       "3           0.82  \n",
       "8           0.82  \n",
       "11          0.80  \n",
       "1           0.74  \n",
       "0           0.74  "
      ]
     },
     "execution_count": 93,
     "metadata": {},
     "output_type": "execute_result"
    }
   ],
   "source": [
    "pd.set_option('display.max_colwidth', None)\n",
    "# pd.reset_option('display.max_colwidth')\n",
    "pd.DataFrame(training_log_test)[['model_name',\n",
    "                                 'training_time',\n",
    "                                 'performance',\n",
    "                                 'f1_score_avg']].sort_values([\"f1_score_avg\", \"training_time\"], ascending = [False, True])"
   ]
  },
  {
   "cell_type": "markdown",
   "metadata": {},
   "source": [
    "# 8. Save Production Model"
   ]
  },
  {
   "cell_type": "code",
   "execution_count": 106,
   "metadata": {},
   "outputs": [
    {
     "name": "stdout",
     "output_type": "stream",
     "text": [
      "2023-01-07 23:21:23.121474 Choosing model by metrics score.\n",
      "2023-01-07 23:21:23.121474 Converting training log type of data from dict to dataframe.\n",
      "2023-01-07 23:21:23.128473 Trying to load previous production model.\n",
      "2023-01-07 23:21:23.176474 Previous production model loaded.\n",
      "2023-01-07 23:21:23.176474 Loading validation data.\n",
      "2023-01-07 23:21:23.176474 Checking compatibilty previous production model's input with current train data's features.\n",
      "2023-01-07 23:21:23.177473 Features compatible.\n",
      "2023-01-07 23:21:23.177473 Reassesing previous model performance using current validation data.\n",
      "2023-01-07 23:21:23.206476 Assessing complete.\n",
      "2023-01-07 23:21:23.206476 Storing new metrics data to previous model structure.\n",
      "2023-01-07 23:21:23.206476 Adding previous model data to current training log and list of model\n",
      "2023-01-07 23:21:23.216478 Sorting training log by f1 macro avg and training time.\n",
      "2023-01-07 23:21:23.221474 Searching model data based on sorted training log.\n",
      "2023-01-07 23:21:23.258376 Model chosen.\n"
     ]
    }
   ],
   "source": [
    "model_test, \\\n",
    "production_model_log_test, \\\n",
    "training_logs_test = get_production_model(list_of_trained_model_test, \n",
    "                                          training_log_test, \n",
    "                                          config_data)"
   ]
  },
  {
   "cell_type": "markdown",
   "metadata": {},
   "source": [
    "## 8.1 Show Best Final Model"
   ]
  },
  {
   "cell_type": "code",
   "execution_count": 107,
   "metadata": {
    "scrolled": false
   },
   "outputs": [
    {
     "data": {
      "text/html": [
       "<div>\n",
       "<style scoped>\n",
       "    .dataframe tbody tr th:only-of-type {\n",
       "        vertical-align: middle;\n",
       "    }\n",
       "\n",
       "    .dataframe tbody tr th {\n",
       "        vertical-align: top;\n",
       "    }\n",
       "\n",
       "    .dataframe thead th {\n",
       "        text-align: right;\n",
       "    }\n",
       "</style>\n",
       "<table border=\"1\" class=\"dataframe\">\n",
       "  <thead>\n",
       "    <tr style=\"text-align: right;\">\n",
       "      <th></th>\n",
       "      <th>model_name</th>\n",
       "      <th>training_time</th>\n",
       "      <th>performance</th>\n",
       "      <th>f1_score_avg</th>\n",
       "    </tr>\n",
       "  </thead>\n",
       "  <tbody>\n",
       "    <tr>\n",
       "      <th>5</th>\n",
       "      <td>Hyperparams-smote-GradientBoostingClassifier</td>\n",
       "      <td>0.509681</td>\n",
       "      <td>{'0': {'precision': 0.9333333333333333, 'recall': 0.9210526315789473, 'f1-score': 0.9271523178807947, 'support': 76}, '1': {'precision': 0.76, 'recall': 0.7916666666666666, 'f1-score': 0.7755102040816326, 'support': 24}, 'accuracy': 0.89, 'macro avg': {'precision': 0.8466666666666667, 'recall': 0.8563596491228069, 'f1-score': 0.8513312609812136, 'support': 100}, 'weighted avg': {'precision': 0.8917333333333335, 'recall': 0.89, 'f1-score': 0.8907582105689958, 'support': 100}}</td>\n",
       "      <td>0.89</td>\n",
       "    </tr>\n",
       "    <tr>\n",
       "      <th>9</th>\n",
       "      <td>Hyperparams-oversampling-GradientBoostingClassifier</td>\n",
       "      <td>0.470805</td>\n",
       "      <td>{'0': {'precision': 0.9315068493150684, 'recall': 0.8947368421052632, 'f1-score': 0.912751677852349, 'support': 76}, '1': {'precision': 0.7037037037037037, 'recall': 0.7916666666666666, 'f1-score': 0.7450980392156864, 'support': 24}, 'accuracy': 0.87, 'macro avg': {'precision': 0.8176052765093861, 'recall': 0.8432017543859649, 'f1-score': 0.8289248585340177, 'support': 100}, 'weighted avg': {'precision': 0.8768340943683408, 'recall': 0.87, 'f1-score': 0.87251480457955, 'support': 100}}</td>\n",
       "      <td>0.87</td>\n",
       "    </tr>\n",
       "    <tr>\n",
       "      <th>10</th>\n",
       "      <td>Hyperparams-oversampling-AdaBoostClassifier</td>\n",
       "      <td>0.439040</td>\n",
       "      <td>{'0': {'precision': 0.9315068493150684, 'recall': 0.8947368421052632, 'f1-score': 0.912751677852349, 'support': 76}, '1': {'precision': 0.7037037037037037, 'recall': 0.7916666666666666, 'f1-score': 0.7450980392156864, 'support': 24}, 'accuracy': 0.87, 'macro avg': {'precision': 0.8176052765093861, 'recall': 0.8432017543859649, 'f1-score': 0.8289248585340177, 'support': 100}, 'weighted avg': {'precision': 0.8768340943683408, 'recall': 0.87, 'f1-score': 0.87251480457955, 'support': 100}}</td>\n",
       "      <td>0.87</td>\n",
       "    </tr>\n",
       "    <tr>\n",
       "      <th>7</th>\n",
       "      <td>Hyperparams-smote-DecisionTreeClassifier</td>\n",
       "      <td>0.333900</td>\n",
       "      <td>{'0': {'precision': 0.918918918918919, 'recall': 0.8947368421052632, 'f1-score': 0.9066666666666667, 'support': 76}, '1': {'precision': 0.6923076923076923, 'recall': 0.75, 'f1-score': 0.7199999999999999, 'support': 24}, 'accuracy': 0.86, 'macro avg': {'precision': 0.8056133056133057, 'recall': 0.8223684210526316, 'f1-score': 0.8133333333333332, 'support': 100}, 'weighted avg': {'precision': 0.8645322245322246, 'recall': 0.86, 'f1-score': 0.8618666666666667, 'support': 100}}</td>\n",
       "      <td>0.86</td>\n",
       "    </tr>\n",
       "    <tr>\n",
       "      <th>6</th>\n",
       "      <td>Hyperparams-smote-AdaBoostClassifier</td>\n",
       "      <td>0.501836</td>\n",
       "      <td>{'0': {'precision': 0.875, 'recall': 0.9210526315789473, 'f1-score': 0.8974358974358975, 'support': 76}, '1': {'precision': 0.7, 'recall': 0.5833333333333334, 'f1-score': 0.6363636363636365, 'support': 24}, 'accuracy': 0.84, 'macro avg': {'precision': 0.7875, 'recall': 0.7521929824561404, 'f1-score': 0.766899766899767, 'support': 100}, 'weighted avg': {'precision': 0.833, 'recall': 0.84, 'f1-score': 0.8347785547785549, 'support': 100}}</td>\n",
       "      <td>0.84</td>\n",
       "    </tr>\n",
       "    <tr>\n",
       "      <th>2</th>\n",
       "      <td>Hyperparams-nonbalance-AdaBoostClassifier</td>\n",
       "      <td>0.243534</td>\n",
       "      <td>{'0': {'precision': 0.8641975308641975, 'recall': 0.9210526315789473, 'f1-score': 0.89171974522293, 'support': 76}, '1': {'precision': 0.6842105263157895, 'recall': 0.5416666666666666, 'f1-score': 0.6046511627906976, 'support': 24}, 'accuracy': 0.83, 'macro avg': {'precision': 0.7742040285899935, 'recall': 0.7313596491228069, 'f1-score': 0.7481854540068138, 'support': 100}, 'weighted avg': {'precision': 0.8210006497725796, 'recall': 0.83, 'f1-score': 0.8228232854391941, 'support': 100}}</td>\n",
       "      <td>0.83</td>\n",
       "    </tr>\n",
       "    <tr>\n",
       "      <th>4</th>\n",
       "      <td>Hyperparams-smote-XGBClassifier</td>\n",
       "      <td>0.899158</td>\n",
       "      <td>{'0': {'precision': 0.8641975308641975, 'recall': 0.9210526315789473, 'f1-score': 0.89171974522293, 'support': 76}, '1': {'precision': 0.6842105263157895, 'recall': 0.5416666666666666, 'f1-score': 0.6046511627906976, 'support': 24}, 'accuracy': 0.83, 'macro avg': {'precision': 0.7742040285899935, 'recall': 0.7313596491228069, 'f1-score': 0.7481854540068138, 'support': 100}, 'weighted avg': {'precision': 0.8210006497725796, 'recall': 0.83, 'f1-score': 0.8228232854391941, 'support': 100}}</td>\n",
       "      <td>0.83</td>\n",
       "    </tr>\n",
       "    <tr>\n",
       "      <th>3</th>\n",
       "      <td>Hyperparams-nonbalance-DecisionTreeClassifier</td>\n",
       "      <td>0.180763</td>\n",
       "      <td>{'0': {'precision': 0.8625, 'recall': 0.9078947368421053, 'f1-score': 0.8846153846153847, 'support': 76}, '1': {'precision': 0.65, 'recall': 0.5416666666666666, 'f1-score': 0.5909090909090908, 'support': 24}, 'accuracy': 0.82, 'macro avg': {'precision': 0.7562500000000001, 'recall': 0.7247807017543859, 'f1-score': 0.7377622377622377, 'support': 100}, 'weighted avg': {'precision': 0.8115000000000001, 'recall': 0.82, 'f1-score': 0.8141258741258741, 'support': 100}}</td>\n",
       "      <td>0.82</td>\n",
       "    </tr>\n",
       "    <tr>\n",
       "      <th>8</th>\n",
       "      <td>Hyperparams-oversampling-XGBClassifier</td>\n",
       "      <td>0.917828</td>\n",
       "      <td>{'0': {'precision': 0.8717948717948718, 'recall': 0.8947368421052632, 'f1-score': 0.8831168831168831, 'support': 76}, '1': {'precision': 0.6363636363636364, 'recall': 0.5833333333333334, 'f1-score': 0.6086956521739131, 'support': 24}, 'accuracy': 0.82, 'macro avg': {'precision': 0.754079254079254, 'recall': 0.7390350877192983, 'f1-score': 0.745906267645398, 'support': 100}, 'weighted avg': {'precision': 0.8152913752913753, 'recall': 0.82, 'f1-score': 0.8172557876905703, 'support': 100}}</td>\n",
       "      <td>0.82</td>\n",
       "    </tr>\n",
       "    <tr>\n",
       "      <th>0</th>\n",
       "      <td>Production-GradientBoostingClassifier</td>\n",
       "      <td>0.285110</td>\n",
       "      <td>{'0': {'precision': 0.9672131147540983, 'recall': 0.7866666666666666, 'f1-score': 0.8676470588235293, 'support': 75}, '1': {'precision': 0.5897435897435898, 'recall': 0.92, 'f1-score': 0.71875, 'support': 25}, 'accuracy': 0.82, 'macro avg': {'precision': 0.7784783522488441, 'recall': 0.8533333333333333, 'f1-score': 0.7931985294117647, 'support': 100}, 'weighted avg': {'precision': 0.8728457335014713, 'recall': 0.82, 'f1-score': 0.830422794117647, 'support': 100}}</td>\n",
       "      <td>0.82</td>\n",
       "    </tr>\n",
       "    <tr>\n",
       "      <th>11</th>\n",
       "      <td>Hyperparams-oversampling-DecisionTreeClassifier</td>\n",
       "      <td>0.323999</td>\n",
       "      <td>{'0': {'precision': 0.9, 'recall': 0.8289473684210527, 'f1-score': 0.8630136986301371, 'support': 76}, '1': {'precision': 0.5666666666666667, 'recall': 0.7083333333333334, 'f1-score': 0.6296296296296297, 'support': 24}, 'accuracy': 0.8, 'macro avg': {'precision': 0.7333333333333334, 'recall': 0.7686403508771931, 'f1-score': 0.7463216641298833, 'support': 100}, 'weighted avg': {'precision': 0.82, 'recall': 0.8, 'f1-score': 0.8070015220700154, 'support': 100}}</td>\n",
       "      <td>0.80</td>\n",
       "    </tr>\n",
       "    <tr>\n",
       "      <th>0</th>\n",
       "      <td>Hyperparams-nonbalance-XGBClassifier</td>\n",
       "      <td>0.601304</td>\n",
       "      <td>{'0': {'precision': 0.7551020408163265, 'recall': 0.9736842105263158, 'f1-score': 0.8505747126436782, 'support': 76}, '1': {'precision': 0.0, 'recall': 0.0, 'f1-score': 0.0, 'support': 24}, 'accuracy': 0.74, 'macro avg': {'precision': 0.37755102040816324, 'recall': 0.4868421052631579, 'f1-score': 0.4252873563218391, 'support': 100}, 'weighted avg': {'precision': 0.5738775510204082, 'recall': 0.74, 'f1-score': 0.6464367816091955, 'support': 100}}</td>\n",
       "      <td>0.74</td>\n",
       "    </tr>\n",
       "    <tr>\n",
       "      <th>1</th>\n",
       "      <td>Hyperparams-nonbalance-GradientBoostingClassifier</td>\n",
       "      <td>0.292970</td>\n",
       "      <td>{'0': {'precision': 0.7659574468085106, 'recall': 0.9473684210526315, 'f1-score': 0.8470588235294116, 'support': 76}, '1': {'precision': 0.3333333333333333, 'recall': 0.08333333333333333, 'f1-score': 0.13333333333333333, 'support': 24}, 'accuracy': 0.74, 'macro avg': {'precision': 0.549645390070922, 'recall': 0.5153508771929824, 'f1-score': 0.4901960784313725, 'support': 100}, 'weighted avg': {'precision': 0.6621276595744681, 'recall': 0.74, 'f1-score': 0.6757647058823528, 'support': 100}}</td>\n",
       "      <td>0.74</td>\n",
       "    </tr>\n",
       "  </tbody>\n",
       "</table>\n",
       "</div>"
      ],
      "text/plain": [
       "                                             model_name  training_time  \\\n",
       "5          Hyperparams-smote-GradientBoostingClassifier       0.509681   \n",
       "9   Hyperparams-oversampling-GradientBoostingClassifier       0.470805   \n",
       "10          Hyperparams-oversampling-AdaBoostClassifier       0.439040   \n",
       "7              Hyperparams-smote-DecisionTreeClassifier       0.333900   \n",
       "6                  Hyperparams-smote-AdaBoostClassifier       0.501836   \n",
       "2             Hyperparams-nonbalance-AdaBoostClassifier       0.243534   \n",
       "4                       Hyperparams-smote-XGBClassifier       0.899158   \n",
       "3         Hyperparams-nonbalance-DecisionTreeClassifier       0.180763   \n",
       "8                Hyperparams-oversampling-XGBClassifier       0.917828   \n",
       "0                 Production-GradientBoostingClassifier       0.285110   \n",
       "11      Hyperparams-oversampling-DecisionTreeClassifier       0.323999   \n",
       "0                  Hyperparams-nonbalance-XGBClassifier       0.601304   \n",
       "1     Hyperparams-nonbalance-GradientBoostingClassifier       0.292970   \n",
       "\n",
       "                                                                                                                                                                                                                                                                                                                                                                                                                                                                                                       performance  \\\n",
       "5                  {'0': {'precision': 0.9333333333333333, 'recall': 0.9210526315789473, 'f1-score': 0.9271523178807947, 'support': 76}, '1': {'precision': 0.76, 'recall': 0.7916666666666666, 'f1-score': 0.7755102040816326, 'support': 24}, 'accuracy': 0.89, 'macro avg': {'precision': 0.8466666666666667, 'recall': 0.8563596491228069, 'f1-score': 0.8513312609812136, 'support': 100}, 'weighted avg': {'precision': 0.8917333333333335, 'recall': 0.89, 'f1-score': 0.8907582105689958, 'support': 100}}   \n",
       "9       {'0': {'precision': 0.9315068493150684, 'recall': 0.8947368421052632, 'f1-score': 0.912751677852349, 'support': 76}, '1': {'precision': 0.7037037037037037, 'recall': 0.7916666666666666, 'f1-score': 0.7450980392156864, 'support': 24}, 'accuracy': 0.87, 'macro avg': {'precision': 0.8176052765093861, 'recall': 0.8432017543859649, 'f1-score': 0.8289248585340177, 'support': 100}, 'weighted avg': {'precision': 0.8768340943683408, 'recall': 0.87, 'f1-score': 0.87251480457955, 'support': 100}}   \n",
       "10      {'0': {'precision': 0.9315068493150684, 'recall': 0.8947368421052632, 'f1-score': 0.912751677852349, 'support': 76}, '1': {'precision': 0.7037037037037037, 'recall': 0.7916666666666666, 'f1-score': 0.7450980392156864, 'support': 24}, 'accuracy': 0.87, 'macro avg': {'precision': 0.8176052765093861, 'recall': 0.8432017543859649, 'f1-score': 0.8289248585340177, 'support': 100}, 'weighted avg': {'precision': 0.8768340943683408, 'recall': 0.87, 'f1-score': 0.87251480457955, 'support': 100}}   \n",
       "7                   {'0': {'precision': 0.918918918918919, 'recall': 0.8947368421052632, 'f1-score': 0.9066666666666667, 'support': 76}, '1': {'precision': 0.6923076923076923, 'recall': 0.75, 'f1-score': 0.7199999999999999, 'support': 24}, 'accuracy': 0.86, 'macro avg': {'precision': 0.8056133056133057, 'recall': 0.8223684210526316, 'f1-score': 0.8133333333333332, 'support': 100}, 'weighted avg': {'precision': 0.8645322245322246, 'recall': 0.86, 'f1-score': 0.8618666666666667, 'support': 100}}   \n",
       "6                                                          {'0': {'precision': 0.875, 'recall': 0.9210526315789473, 'f1-score': 0.8974358974358975, 'support': 76}, '1': {'precision': 0.7, 'recall': 0.5833333333333334, 'f1-score': 0.6363636363636365, 'support': 24}, 'accuracy': 0.84, 'macro avg': {'precision': 0.7875, 'recall': 0.7521929824561404, 'f1-score': 0.766899766899767, 'support': 100}, 'weighted avg': {'precision': 0.833, 'recall': 0.84, 'f1-score': 0.8347785547785549, 'support': 100}}   \n",
       "2      {'0': {'precision': 0.8641975308641975, 'recall': 0.9210526315789473, 'f1-score': 0.89171974522293, 'support': 76}, '1': {'precision': 0.6842105263157895, 'recall': 0.5416666666666666, 'f1-score': 0.6046511627906976, 'support': 24}, 'accuracy': 0.83, 'macro avg': {'precision': 0.7742040285899935, 'recall': 0.7313596491228069, 'f1-score': 0.7481854540068138, 'support': 100}, 'weighted avg': {'precision': 0.8210006497725796, 'recall': 0.83, 'f1-score': 0.8228232854391941, 'support': 100}}   \n",
       "4      {'0': {'precision': 0.8641975308641975, 'recall': 0.9210526315789473, 'f1-score': 0.89171974522293, 'support': 76}, '1': {'precision': 0.6842105263157895, 'recall': 0.5416666666666666, 'f1-score': 0.6046511627906976, 'support': 24}, 'accuracy': 0.83, 'macro avg': {'precision': 0.7742040285899935, 'recall': 0.7313596491228069, 'f1-score': 0.7481854540068138, 'support': 100}, 'weighted avg': {'precision': 0.8210006497725796, 'recall': 0.83, 'f1-score': 0.8228232854391941, 'support': 100}}   \n",
       "3                              {'0': {'precision': 0.8625, 'recall': 0.9078947368421053, 'f1-score': 0.8846153846153847, 'support': 76}, '1': {'precision': 0.65, 'recall': 0.5416666666666666, 'f1-score': 0.5909090909090908, 'support': 24}, 'accuracy': 0.82, 'macro avg': {'precision': 0.7562500000000001, 'recall': 0.7247807017543859, 'f1-score': 0.7377622377622377, 'support': 100}, 'weighted avg': {'precision': 0.8115000000000001, 'recall': 0.82, 'f1-score': 0.8141258741258741, 'support': 100}}   \n",
       "8      {'0': {'precision': 0.8717948717948718, 'recall': 0.8947368421052632, 'f1-score': 0.8831168831168831, 'support': 76}, '1': {'precision': 0.6363636363636364, 'recall': 0.5833333333333334, 'f1-score': 0.6086956521739131, 'support': 24}, 'accuracy': 0.82, 'macro avg': {'precision': 0.754079254079254, 'recall': 0.7390350877192983, 'f1-score': 0.745906267645398, 'support': 100}, 'weighted avg': {'precision': 0.8152913752913753, 'recall': 0.82, 'f1-score': 0.8172557876905703, 'support': 100}}   \n",
       "0                              {'0': {'precision': 0.9672131147540983, 'recall': 0.7866666666666666, 'f1-score': 0.8676470588235293, 'support': 75}, '1': {'precision': 0.5897435897435898, 'recall': 0.92, 'f1-score': 0.71875, 'support': 25}, 'accuracy': 0.82, 'macro avg': {'precision': 0.7784783522488441, 'recall': 0.8533333333333333, 'f1-score': 0.7931985294117647, 'support': 100}, 'weighted avg': {'precision': 0.8728457335014713, 'recall': 0.82, 'f1-score': 0.830422794117647, 'support': 100}}   \n",
       "11                                  {'0': {'precision': 0.9, 'recall': 0.8289473684210527, 'f1-score': 0.8630136986301371, 'support': 76}, '1': {'precision': 0.5666666666666667, 'recall': 0.7083333333333334, 'f1-score': 0.6296296296296297, 'support': 24}, 'accuracy': 0.8, 'macro avg': {'precision': 0.7333333333333334, 'recall': 0.7686403508771931, 'f1-score': 0.7463216641298833, 'support': 100}, 'weighted avg': {'precision': 0.82, 'recall': 0.8, 'f1-score': 0.8070015220700154, 'support': 100}}   \n",
       "0                                                {'0': {'precision': 0.7551020408163265, 'recall': 0.9736842105263158, 'f1-score': 0.8505747126436782, 'support': 76}, '1': {'precision': 0.0, 'recall': 0.0, 'f1-score': 0.0, 'support': 24}, 'accuracy': 0.74, 'macro avg': {'precision': 0.37755102040816324, 'recall': 0.4868421052631579, 'f1-score': 0.4252873563218391, 'support': 100}, 'weighted avg': {'precision': 0.5738775510204082, 'recall': 0.74, 'f1-score': 0.6464367816091955, 'support': 100}}   \n",
       "1   {'0': {'precision': 0.7659574468085106, 'recall': 0.9473684210526315, 'f1-score': 0.8470588235294116, 'support': 76}, '1': {'precision': 0.3333333333333333, 'recall': 0.08333333333333333, 'f1-score': 0.13333333333333333, 'support': 24}, 'accuracy': 0.74, 'macro avg': {'precision': 0.549645390070922, 'recall': 0.5153508771929824, 'f1-score': 0.4901960784313725, 'support': 100}, 'weighted avg': {'precision': 0.6621276595744681, 'recall': 0.74, 'f1-score': 0.6757647058823528, 'support': 100}}   \n",
       "\n",
       "    f1_score_avg  \n",
       "5           0.89  \n",
       "9           0.87  \n",
       "10          0.87  \n",
       "7           0.86  \n",
       "6           0.84  \n",
       "2           0.83  \n",
       "4           0.83  \n",
       "3           0.82  \n",
       "8           0.82  \n",
       "0           0.82  \n",
       "11          0.80  \n",
       "0           0.74  \n",
       "1           0.74  "
      ]
     },
     "execution_count": 107,
     "metadata": {},
     "output_type": "execute_result"
    }
   ],
   "source": [
    "pd.set_option('display.max_colwidth', None)\n",
    "# pd.reset_option('display.max_colwidth')\n",
    "\n",
    "training_logs_test[[\"model_name\",\"training_time\",\"performance\",\"f1_score_avg\"]].sort_values([\"f1_score_avg\"], ascending=False)"
   ]
  },
  {
   "cell_type": "code",
   "execution_count": 108,
   "metadata": {},
   "outputs": [
    {
     "data": {
      "text/plain": [
       "GridSearchCV(estimator=GradientBoostingClassifier(), n_jobs=-1,\n",
       "             param_grid={'learning_rate': [0.5], 'max_depth': [2],\n",
       "                         'n_estimators': [5]})"
      ]
     },
     "execution_count": 108,
     "metadata": {},
     "output_type": "execute_result"
    }
   ],
   "source": [
    "model_test[\"model_data\"][\"model_object\"]"
   ]
  },
  {
   "cell_type": "markdown",
   "metadata": {},
   "source": [
    "# 9. Check Production Model"
   ]
  },
  {
   "cell_type": "code",
   "execution_count": 109,
   "metadata": {},
   "outputs": [],
   "source": [
    "check_model = util.pickle_load(config_data['production_model_path'])"
   ]
  },
  {
   "cell_type": "code",
   "execution_count": 110,
   "metadata": {},
   "outputs": [
    {
     "data": {
      "text/plain": [
       "{'model_data': {'model_name': 'GradientBoostingClassifier',\n",
       "  'model_object': GridSearchCV(estimator=GradientBoostingClassifier(), n_jobs=-1,\n",
       "               param_grid={'learning_rate': [0.5], 'max_depth': [2],\n",
       "                           'n_estimators': [5]}),\n",
       "  'model_uid': 'fa0af7ba956c1b9675f7f0ffe2f7467d'},\n",
       " 'model_log': {'model_name': 'Production-GradientBoostingClassifier',\n",
       "  'model_uid': 'fa0af7ba956c1b9675f7f0ffe2f7467d',\n",
       "  'training_time': 0.509681,\n",
       "  'training_date': '2023-01-07 22:16:04.572480',\n",
       "  'performance': {'0': {'precision': 0.9333333333333333,\n",
       "    'recall': 0.9210526315789473,\n",
       "    'f1-score': 0.9271523178807947,\n",
       "    'support': 76},\n",
       "   '1': {'precision': 0.76,\n",
       "    'recall': 0.7916666666666666,\n",
       "    'f1-score': 0.7755102040816326,\n",
       "    'support': 24},\n",
       "   'accuracy': 0.89,\n",
       "   'macro avg': {'precision': 0.8466666666666667,\n",
       "    'recall': 0.8563596491228069,\n",
       "    'f1-score': 0.8513312609812136,\n",
       "    'support': 100},\n",
       "   'weighted avg': {'precision': 0.8917333333333335,\n",
       "    'recall': 0.89,\n",
       "    'f1-score': 0.8907582105689958,\n",
       "    'support': 100}},\n",
       "  'f1_score_avg': 0.89,\n",
       "  'data_configurations': 'smote'}}"
      ]
     },
     "execution_count": 110,
     "metadata": {},
     "output_type": "execute_result"
    }
   ],
   "source": [
    "check_model"
   ]
  }
 ],
 "metadata": {
  "kernelspec": {
   "display_name": "Python 3 (ipykernel)",
   "language": "python",
   "name": "python3"
  },
  "language_info": {
   "codemirror_mode": {
    "name": "ipython",
    "version": 3
   },
   "file_extension": ".py",
   "mimetype": "text/x-python",
   "name": "python",
   "nbconvert_exporter": "python",
   "pygments_lexer": "ipython3",
   "version": "3.9.12"
  },
  "vscode": {
   "interpreter": {
    "hash": "a90aeebcf29d64a654773811cc170cb25061cb2498f10ac689db374c7bf325de"
   }
  }
 },
 "nbformat": 4,
 "nbformat_minor": 2
}
